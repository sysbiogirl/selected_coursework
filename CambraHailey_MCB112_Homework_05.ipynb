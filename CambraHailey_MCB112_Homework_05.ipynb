{
 "cells": [
  {
   "cell_type": "code",
   "execution_count": 41,
   "metadata": {
    "collapsed": false
   },
   "outputs": [],
   "source": [
    "import numpy as np\n",
    "import scipy.stats as stats\n",
    "from scipy import special\n",
    "import matplotlib.pyplot as plt\n",
    "import sys\n",
    "import seaborn as sns\n",
    "\n",
    "%matplotlib inline"
   ]
  },
  {
   "cell_type": "markdown",
   "metadata": {},
   "source": [
    "## 1. The Beginner's Game"
   ]
  },
  {
   "cell_type": "markdown",
   "metadata": {
    "collapsed": true
   },
   "source": [
    "Code obtained from MCB112 homework 05 was used below to initiate the game and, where applicable, to give solutions to questions. Game initiation functions were built using this code, and probdist functions given were used to compare to the method we were asked to develop for the solutions. \n",
    "\n",
    "Note: there is some leftover code from extra work that I attempted to do that is superfluous, but hopefully shouldn't affect the running of the code, or the readability. "
   ]
  },
  {
   "cell_type": "code",
   "execution_count": 42,
   "metadata": {
    "collapsed": true
   },
   "outputs": [],
   "source": [
    "def quincunx_game_initiate_choose(X):\n",
    "    '''\n",
    "    Calculates the log posterior probability distribution for a given number of observations, for a known mean and \n",
    "    known standard deviation, or an assumed mean and standard deviation. \n",
    "    \n",
    "    Parameters\n",
    "    ----------\n",
    "    X: list\n",
    "        list of observations (i.e. positions on bar)\n",
    "        \n",
    "    Returns\n",
    "    -------\n",
    "    true_sigma: float\n",
    "        \n",
    "    true_mu: float\n",
    "    \n",
    "    gridcols: numpy array\n",
    "    \n",
    "    gridrows: numpy array\n",
    "    '''\n",
    "    \n",
    "    # Student's tea distribution machine drops observed samples onto the\n",
    "    # line on the bar: X of them, X[0..nX-1]\n",
    "\n",
    "    sample_mean  = np.mean(X)\n",
    "    sample_stdev = np.std(X, ddof = 1)   ## ddof is \"degrees of freedom\". 0 = population sd; 1 = sample sd.\n",
    "    \n",
    "    seed = np.random.randint(0,10000)\n",
    "    seed = np.random.seed(seed)\n",
    "\n",
    "    # Set up the 20x21 dart board grid, and the mu and sigma values\n",
    "    # associated with each grid position.\n",
    "    \n",
    "    gridrows = np.linspace( 100.0,   5.0, 20)   # rows i of the grid are sigma, std. dev.\n",
    "    gridcols = np.linspace(-100.,  100.0, 21)   # columns j of the grid are mu, mean (location)\n",
    "    nrows    = len(gridrows)\n",
    "    ncols    = len(gridcols)\n",
    "\n",
    "    # Student throws a uniformly distributed dart into the grid, and this\n",
    "    # chooses mu, sigma. These values are unknown to the customers.\n",
    "\n",
    "    true_row = np.random.randint(0, nrows)    # Note, randint(0,n) samples 0..n-1\n",
    "    true_col = np.random.randint(0, ncols)\n",
    "\n",
    "    true_sigma = gridrows[true_row]\n",
    "    true_mu    = gridcols[true_col]\n",
    "\n",
    "    # Optional: Print text output\n",
    "    # (before showing the graph displays)\n",
    "    \n",
    "    '''\n",
    "    print (\"Welcome to Student's game night...\")\n",
    "    print (\"\")\n",
    "    print (\"The RNG seed is {}\".format(seed))\n",
    "    print (\"\")\n",
    "    print (\"The hidden grid has {} rows for sigma {}..{},\".format(nrows, gridrows[0], gridrows[-1]))\n",
    "    print (\"                and {} cols for mu {}..{}.\".format(ncols, gridcols[0], gridcols[-1]))\n",
    "    print (\"\")\n",
    "    print (\"Student picked grid col = {}, row = {}\".format(true_col, true_row))\n",
    "    print (\"and thus mu = {0:.1f}, sigma = {1:.1f}\".format(true_mu, true_sigma))\n",
    "    print (\"\")\n",
    "    print (\"Student's tea distribution machine shows the customers {} samples:\".format(X))\n",
    "    for sample in X: print(\"  {0:8.2f}\".format(sample))\n",
    "    print (\"\")\n",
    "    print (\"which give sample mean: {0:8.2f}\".format(sample_mean))\n",
    "    print (\"   and sample std.dev.: {0:8.2f}\".format(sample_stdev))\n",
    "    '''\n",
    "    \n",
    "    print(\"true sigma:\", true_sigma)\n",
    "    print(\"true mu:\", true_mu)\n",
    "\n",
    "    return true_sigma, true_mu"
   ]
  },
  {
   "cell_type": "code",
   "execution_count": 43,
   "metadata": {
    "collapsed": true
   },
   "outputs": [],
   "source": [
    "gridrows = np.linspace( 100.0,   5.0, 20)   # rows i of the grid are sigma, std. dev.\n",
    "gridcols = np.linspace(-100.,  100.0, 21)   # columns j of the grid are mu, mean (location)"
   ]
  },
  {
   "cell_type": "code",
   "execution_count": 44,
   "metadata": {
    "collapsed": false
   },
   "outputs": [
    {
     "name": "stdout",
     "output_type": "stream",
     "text": [
      "true sigma: 15.0\n",
      "true mu: -20.0\n"
     ]
    }
   ],
   "source": [
    "#checking for different values of sigma and mu - perhaps use them later on for plotting, otherwise, just see\n",
    "#what you get. \n",
    "X_true_sig, X_true_mu = quincunx_game_initiate_choose([11.50, -2.32, 9.18])"
   ]
  },
  {
   "cell_type": "code",
   "execution_count": 45,
   "metadata": {
    "collapsed": false
   },
   "outputs": [],
   "source": [
    "def prob_beg_nsmall(X, true_sigma, gridcols):\n",
    "    '''\n",
    "    Calculates the log posterior probability distribution for a given number of observations, for a known mean and \n",
    "    known standard deviation, or an assumed mean and standard deviation. \n",
    "\n",
    "    Parameters\n",
    "    ----------\n",
    "    X: numpy array\n",
    "    \n",
    "    true_sig: float\n",
    "    \n",
    "    gridcols: numpy array\n",
    "    \n",
    "    Returns\n",
    "    -------\n",
    "    posterior: numpy array\n",
    "    \n",
    "    post_unlog: numpy array\n",
    "    \n",
    "    '''\n",
    "\n",
    "    xbar = np.mean(X)\n",
    "    N    = len(X)\n",
    "\n",
    "    prob_num = []\n",
    "\n",
    "    #Probability of observing a given mu value given x\n",
    "    #mus are uniformly distributed - there are 21\n",
    "    for u in gridcols:\n",
    "        prod_pr = 0\n",
    "        for x in X:\n",
    "            #calculate the probability of each xi given mu and true sigma\n",
    "            Pr = stats.norm.logpdf(x, loc=u, scale= true_sigma)\n",
    "            #take product of each individual probability for xi for P(X|mu, true sigma) \n",
    "            prod_pr = prod_pr + Pr\n",
    "        #for each mu multiply by P(u) - the prior (uniform)\n",
    "        prob_num.append(prod_pr + np.log(1/np.float(len(gridcols))))\n",
    "\n",
    "    prob_num = np.array(prob_num)\n",
    "    z = special.logsumexp(prob_num)\n",
    "\n",
    "    #calculate P(u|X, true sigma) for each element in prob_num\n",
    "    posterior = np.subtract(prob_num, z)\n",
    "    #print(\"log posterior:\", posterior)\n",
    "    \n",
    "    post_unlog = np.exp(posterior)\n",
    "    #print(\"posterior:\", post_unlog)\n",
    "    \n",
    "    #Optional: Check that the probabilities sum to 1\n",
    "    print(\"sum of prob (should equal 1):\", post_unlog.sum())\n",
    "    \n",
    "    #check that this is equal to 1, and give the log  \n",
    "    return post_unlog, posterior, X"
   ]
  },
  {
   "cell_type": "code",
   "execution_count": 46,
   "metadata": {
    "collapsed": false
   },
   "outputs": [
    {
     "name": "stdout",
     "output_type": "stream",
     "text": [
      "sum of prob (should equal 1): 0.9999999999999999\n"
     ]
    }
   ],
   "source": [
    "#First, calculating the posterior probability for the true sigma and true mu values  specified in the homework: \n",
    "small_X = np.array([ 11.50, -2.32, 9.18])\n",
    "true_mu = float(-20)\n",
    "true_sigma = float(60)\n",
    "\n",
    "small_X_post_unlog, small_X_posterior, small_X = prob_beg_nsmall(small_X, true_sigma, gridcols)"
   ]
  },
  {
   "cell_type": "code",
   "execution_count": 47,
   "metadata": {
    "collapsed": true
   },
   "outputs": [],
   "source": [
    "def quincunx_game_initiate_rand(nX):\n",
    "    '''\n",
    "    Play a game of quincunx with randomly chosen nX observations. Initializes a 20 x 21 dart board game with \n",
    "    mu (mean) and sigma (standard deviation) values as columns and rows, respectively. A position on the board is \n",
    "    chosen (randomly), representing the true sigma and true mu values for that round of the game.   \n",
    "    \n",
    "    Parameters\n",
    "    ----------\n",
    "    nX: int\n",
    "        number of observations that will be randomly sampled (i.e. positions on line on bar where tea bags are\n",
    "        being dropped)\n",
    "    \n",
    "    Returns\n",
    "    -------\n",
    "    \n",
    "    true_sigma: float\n",
    "        actual sigma value of observation/dart location on grid (row value)\n",
    "        \n",
    "    true_mu: float\n",
    "        actual mu value of observation/dart location on grid (column value)\n",
    "    \n",
    "    gridcols: numpy array\n",
    "        possible mu values for game (mean/position)\n",
    "    \n",
    "    gridrows: numpy array\n",
    "        possible sigma values for game\n",
    "    \n",
    "    '''\n",
    "    \n",
    "    seed = np.random.randint(0,10000)\n",
    "    seed = np.random.seed(seed)\n",
    "\n",
    "    # Set up the 20x21 dart board grid, and the mu and sigma values\n",
    "    # associated with each grid position.\n",
    "    \n",
    "    gridrows = np.linspace( 100.0,   5.0, 20)   # rows i of the grid are sigma, std. dev.\n",
    "    gridcols = np.linspace(-100.,  100.0, 21)   # columns j of the grid are mu, mean (location)\n",
    "    nrows    = len(gridrows)\n",
    "    ncols    = len(gridcols)\n",
    "\n",
    "    # Student throws a uniformly distributed dart into the grid, and this\n",
    "    # chooses mu, sigma. These values are unknown to the customers.\n",
    "\n",
    "    true_row = np.random.randint(0, nrows)    # Note, randint(0,n) samples 0..n-1\n",
    "    true_col = np.random.randint(0, ncols)\n",
    "\n",
    "    true_sigma = gridrows[true_row]\n",
    "    true_mu    = gridcols[true_col]\n",
    "\n",
    "    # Student's tea distribution machine drops observed samples onto the\n",
    "    # line on the bar: nX of them, X[0..nX-1]\n",
    "    \n",
    "    X  = np.random.normal(loc=true_mu, scale=true_sigma, size=nX)\n",
    "\n",
    "    sample_mean  = np.mean(X)\n",
    "    sample_stdev = np.std(X, ddof = 1)   ## ddof is \"degrees of freedom\". 0 = population sd; 1 = sample sd.\n",
    "\n",
    "    # Optional: Print text output\n",
    "    # (before showing the graph displays)\n",
    "    \n",
    "    '''\n",
    "    print (\"Welcome to Student's game night...\")\n",
    "    print (\"\")\n",
    "    print (\"The RNG seed is {}\".format(seed))\n",
    "    print (\"\")\n",
    "    print (\"The hidden grid has {} rows for sigma {}..{},\".format(nrows, gridrows[0], gridrows[-1]))\n",
    "    print (\"                and {} cols for mu {}..{}.\".format(ncols, gridcols[0], gridcols[-1]))\n",
    "    print (\"\")\n",
    "    print (\"Student picked grid col = {}, row = {}\".format(true_col, true_row))\n",
    "    print (\"and thus mu = {0:.1f}, sigma = {1:.1f}\".format(true_mu, true_sigma))\n",
    "    print (\"\")\n",
    "    print (\"Student's tea distribution machine shows the customers {} samples:\".format(X))\n",
    "    for sample in X: print(\"  {0:8.2f}\".format(sample))\n",
    "    print (\"\")\n",
    "    print (\"which give sample mean: {0:8.2f}\".format(sample_mean))\n",
    "    print (\"   and sample std.dev.: {0:8.2f}\".format(sample_stdev))\n",
    "    '''\n",
    "\n",
    "    print(\"true sigma:\", true_sigma)\n",
    "    print(\"true mu:\", true_mu)\n",
    "    \n",
    "    return true_sigma, true_mu, gridcols, gridrows, X"
   ]
  },
  {
   "cell_type": "code",
   "execution_count": 48,
   "metadata": {
    "collapsed": false,
    "scrolled": true
   },
   "outputs": [
    {
     "name": "stdout",
     "output_type": "stream",
     "text": [
      "true sigma: 55.0\n",
      "true mu: -10.0\n",
      "true sigma: 45.0\n",
      "true mu: 20.0\n",
      "true sigma: 75.0\n",
      "true mu: -70.0\n",
      "true sigma: 60.0\n",
      "true mu: 10.0\n"
     ]
    }
   ],
   "source": [
    "#try different numbers of observations, see what sigma and mu values look like\n",
    "\n",
    "rand_100_sigma, rand_100_mu, rand_100_gridcols, rand_100_gridrows, rand_100_X  = quincunx_game_initiate_rand(100)\n",
    "rand_1000_sigma, rand_1000_mu, rand_1000_gridcols, rand_1000_gridrows, rand_1000_X  = quincunx_game_initiate_rand(1000)\n",
    "rand_2000_sigma, rand_2000_mu, rand_2000_gridcols, rand_2000_gridrows, rand_2000_X = quincunx_game_initiate_rand(2000)\n",
    "rand_5000_sigma, rand_5000_mu, rand_5000_gridcols, rand_5000_gridrows, rand_5000_X = quincunx_game_initiate_rand(5000)\n",
    "\n",
    "#plt.hist(rand_100_gridcols, label='100')\n",
    "#plt.hist(rand_1000_gridcols, label='1000')\n",
    "#plt.hist(rand_2000_gridcols, label='2000')\n",
    "#plt.hist(rand_5000_gridcols, label='5000')\n",
    "\n",
    "#plt.hist(rand_100_gridrows, label='100')\n",
    "#plt.hist(rand_1000_gridrows, label='1000')\n",
    "#plt.hist(rand_2000_gridrows, label='2000')\n",
    "#plt.hist(rand_5000_gridrows, label='5000')"
   ]
  },
  {
   "cell_type": "code",
   "execution_count": 49,
   "metadata": {
    "collapsed": false
   },
   "outputs": [],
   "source": [
    "def prob_beg_hmc(X, true_sig, gridcols):\n",
    "    '''\n",
    "    Calculates the log posterior probability distribution for a given number of observations, for a known mean and \n",
    "    known standard deviation, or an assumed mean and standard deviation. \n",
    "\n",
    "    Parameters\n",
    "    ----------\n",
    "    X: numpy array\n",
    "    \n",
    "    true_sig: float\n",
    "    \n",
    "    gridcols: numpy array\n",
    "    \n",
    "    Returns\n",
    "    -------\n",
    "    posterior: numpy array\n",
    "    \n",
    "    post_unlog: numpy array\n",
    "    \n",
    "    '''\n",
    "    \n",
    "    xbar = np.mean(X)\n",
    "    N    = len(X)\n",
    "\n",
    "    prob_num = []\n",
    "\n",
    "    #Probability of observing a given mu value given x\n",
    "    #mus are uniformly distributed - there are 21\n",
    "    for u in gridcols:\n",
    "        prod_pr = 0\n",
    "        for x in X:\n",
    "            #calculate the probability of each xi given mu and true sigma\n",
    "            Pr = stats.norm.logpdf(x, loc=u, scale= true_sigma)\n",
    "            #take product of each individual probability for xi for P(X|mu, true sigma) \n",
    "            prod_pr = prod_pr + Pr\n",
    "        #for each mu multiply by P(u) - the prior (uniform)\n",
    "        prob_num.append(prod_pr + np.log(1/np.float(len(gridcols))))\n",
    "\n",
    "    prob_num = np.array(prob_num)\n",
    "    z = special.logsumexp(prob_num)\n",
    "\n",
    "    #calculate P(u|X, true sigma) for each element in prob_num\n",
    "    posterior = np.subtract(prob_num, z)\n",
    "    \n",
    "    post_unlog = np.exp(posterior)\n",
    "    \n",
    "    print(\"sum of prob (should equal 1):\", post_unlog.sum(), \"log posterior:\", posterior, \"posterior:\", post_unlog)\n",
    "    \n",
    "    #check that this is equal to 1 \n",
    "    return post_unlog, posterior "
   ]
  },
  {
   "cell_type": "code",
   "execution_count": 50,
   "metadata": {
    "collapsed": false
   },
   "outputs": [
    {
     "name": "stdout",
     "output_type": "stream",
     "text": [
      "sum of prob (should equal 1): 0.9999999999999633 log posterior: [-141.34016342 -114.74785009  -90.93331453  -69.89655675  -51.63757675\n",
      "  -36.15637452  -23.45295007  -13.5273034    -6.37943451   -2.0093434\n",
      "   -0.41703006   -1.6024945    -5.56573672  -12.30675672  -21.8255545\n",
      "  -34.12213005  -49.19648338  -67.04861449  -87.67852337 -111.08621004\n",
      " -137.27167448] posterior: [4.13758524e-62 1.46433990e-50 3.22228002e-40 4.40870561e-31\n",
      " 3.75046710e-23 1.98374598e-16 6.52398867e-11 1.33403362e-06\n",
      " 1.69608180e-03 1.34076681e-01 6.59001108e-01 2.01393514e-01\n",
      " 3.82676024e-03 4.52109326e-06 3.32110126e-10 1.51686597e-15\n",
      " 4.30763343e-22 7.60600678e-30 8.35028151e-39 5.69996206e-49\n",
      " 2.41918595e-60]\n",
      "sum of prob (should equal 1): 1.0000000000000324 log posterior: [-1.97268749e+03 -1.65551908e+03 -1.36612846e+03 -1.10451562e+03\n",
      " -8.70680549e+02 -6.64623259e+02 -4.86343747e+02 -3.35842013e+02\n",
      " -2.13118057e+02 -1.18171878e+02 -5.10034774e+01 -1.16128544e+01\n",
      " -9.14448265e-06 -1.61649417e+01 -6.01076520e+01 -1.31828140e+02\n",
      " -2.31326406e+02 -3.58602450e+02 -5.13656271e+02 -6.96487870e+02\n",
      " -9.07097247e+02] posterior: [0.00000000e+000 0.00000000e+000 0.00000000e+000 0.00000000e+000\n",
      " 0.00000000e+000 2.27921885e-289 6.07567146e-212 1.39851435e-146\n",
      " 2.77973864e-093 4.77095580e-052 7.07084331e-023 9.04901744e-006\n",
      " 9.99990856e-001 9.54234301e-008 7.86282139e-027 5.59456325e-058\n",
      " 3.43730728e-101 1.82362241e-156 8.35441169e-224 3.30492202e-303\n",
      " 0.00000000e+000]\n",
      "sum of prob (should equal 1): 1.0000000000005025 log posterior: [-2.75214433e+02 -1.27920733e+02 -3.61825887e+01 -3.85807652e-09\n",
      " -1.93729669e+01 -9.43014893e+01 -2.24785567e+02 -4.10825201e+02\n",
      " -6.52420390e+02 -9.49571135e+02 -1.30227743e+03 -1.71053929e+03\n",
      " -2.17435670e+03 -2.69372967e+03 -3.26865819e+03 -3.89914227e+03\n",
      " -4.58518190e+03 -5.32677709e+03 -6.12392784e+03 -6.97663414e+03\n",
      " -7.88489599e+03] posterior: [2.99151056e-120 2.78439969e-056 1.93241943e-016 9.99999996e-001\n",
      " 3.85857889e-009 1.11015483e-041 2.38159826e-098 3.80962510e-179\n",
      " 4.54385807e-284 0.00000000e+000 0.00000000e+000 0.00000000e+000\n",
      " 0.00000000e+000 0.00000000e+000 0.00000000e+000 0.00000000e+000\n",
      " 0.00000000e+000 0.00000000e+000 0.00000000e+000 0.00000000e+000\n",
      " 0.00000000e+000]\n",
      "sum of prob (should equal 1): 1.0 log posterior: [-8332.25152457 -6880.3296688  -5567.29670192 -4393.15262393\n",
      " -3357.89743483 -2461.53113461 -1704.05372329 -1085.46520085\n",
      "  -605.76556731  -264.95482265   -63.03296688     0.\n",
      "   -75.85592201  -290.60073291  -644.23443269 -1136.75702137\n",
      " -1768.16849893 -2538.46886539 -3447.65812073 -4495.73626496\n",
      " -5682.70329808] posterior: [0.00000000e+000 0.00000000e+000 0.00000000e+000 0.00000000e+000\n",
      " 0.00000000e+000 0.00000000e+000 0.00000000e+000 0.00000000e+000\n",
      " 8.30532806e-264 8.54245245e-116 4.21823049e-028 1.00000000e+000\n",
      " 1.13812943e-033 6.21878098e-127 1.63132627e-280 0.00000000e+000\n",
      " 0.00000000e+000 0.00000000e+000 0.00000000e+000 0.00000000e+000\n",
      " 0.00000000e+000]\n"
     ]
    }
   ],
   "source": [
    "#calculate the posterior and keep the exponential version of the log-posterior for plotting with semilogy\n",
    "#use parameters from initiating the quincunx game with an nX number of random observations and the numpy array X  \n",
    "#generated from choosing nX number of observations in the quincunx_game_initiate_rand function\n",
    "\n",
    "post_unlog_rand_100, posterior_rand_100 = prob_beg_hmc(rand_100_X, rand_100_sigma, rand_100_gridcols)\n",
    "post_unlog_rand_1000, posterior_rand_1000 = prob_beg_hmc(rand_1000_X, rand_1000_sigma, rand_1000_gridcols)\n",
    "post_unlog_rand_2000, posterior_rand_2000 = prob_beg_hmc(rand_2000_X, rand_2000_sigma, rand_2000_gridcols)\n",
    "post_unlog_rand_5000, posterior_rand_5000 = prob_beg_hmc(rand_5000_X, rand_5000_sigma, rand_5000_gridcols)"
   ]
  },
  {
   "cell_type": "code",
   "execution_count": 51,
   "metadata": {
    "collapsed": false
   },
   "outputs": [],
   "source": [
    "#The inference rules that Student uses to calculate betting odds\n",
    "# from: these give him what he thinks are the expected P(mu | x1..xn,\n",
    "# sigma) distribution.\n",
    "#\n",
    "def probdist_beginner(X, sigma, mu_values):\n",
    "    \"\"\" \n",
    "    Given an ndarray X_1..X_n, and a known sigma;\n",
    "    and a list of the mu values in each column;\n",
    "    return a list of the inferred P(mu | X,sigma) for each column.\n",
    "    \"\"\"\n",
    "    xbar = np.mean(X)\n",
    "    N    = len(X)\n",
    "    Pr   = [ stats.norm.pdf(x, loc=xbar, scale= sigma / np.sqrt(N)) for x in mu_values ]  # proportional to std error of the mean\n",
    "    Z    = sum(Pr)                   # normalization constant\n",
    "    Pr   = [ p / Z for p in Pr ]     # normalization to a discrete probability distribution\n",
    "    return Pr\n",
    "\n",
    "def probdist_advanced(X, mu_values):\n",
    "    \"\"\" \n",
    "    Given an ndarray X_1..X_n,\n",
    "    and a list of the mu values in each column;\n",
    "    return a list of the inferred P(mu | X) for each column.\n",
    "    \"\"\"\n",
    "    xbar = np.mean(X)\n",
    "    s    = np.std(X, ddof=1)     # note that numpy.sd() by default calculates a population std dev; to get sample std. dev., set ddof=1\n",
    "    N    = len(X)\n",
    "    Pr   = [ stats.norm.pdf(x, loc=xbar, scale= s / np.sqrt(N)) for x in mu_values ]  # proportional to std error of the mean\n",
    "    Z    = sum(Pr)                   # normalization constant\n",
    "    Pr   = [ p / Z for p in Pr ]     # normalization to a discrete probability distribution\n",
    "    return Pr\n",
    "\n",
    "def tdist_advanced(X, mu_values):\n",
    "    \"\"\" \n",
    "    Given an ndarray X_1..X_n,\n",
    "    and a list of the mu values in each column;\n",
    "    return a list of the inferred P(mu | X) for each column,\n",
    "\taccording to Student's t distribution with N-1 degrees of freedom.\n",
    "    \"\"\"\n",
    "    N    = len(X)\n",
    "    t    = [ stats.ttest_1samp(X, mu)[0] for mu in mu_values ]\n",
    "    Pr   = [ stats.t.pdf(val, N-1) for val in t ]\n",
    "    Z    = sum(Pr)\n",
    "    Pr   = [ p / Z for p in Pr ]     # normalization to a discrete probability distribution\n",
    "    return Pr\n"
   ]
  },
  {
   "cell_type": "code",
   "execution_count": 52,
   "metadata": {
    "collapsed": false
   },
   "outputs": [
    {
     "data": {
      "image/png": "[encoded data removed]",
      "text/plain": [
       "<matplotlib.figure.Figure at 0x11819d908>"
      ]
     },
     "metadata": {},
     "output_type": "display_data"
    }
   ],
   "source": [
    "# The bar's rules for determining fair odds.\n",
    "PrB = probdist_beginner(small_X, true_sigma, gridcols)\n",
    "\n",
    "# Set up our graphical display. Compare the my results to the bar's. \n",
    "plt.semilogy(gridcols, PrB, label=\"bar's estimate: beginner (sigma known)\")\n",
    "plt.semilogy(gridcols, small_X_post_unlog, \"ro\", label=\"small X beginner HMC (sigma known)\")\n",
    "\n",
    "plt.xlabel('u') \n",
    "plt.ylabel('P(u)')\n",
    "plt.legend()\n",
    "plt.show()"
   ]
  },
  {
   "cell_type": "markdown",
   "metadata": {},
   "source": [
    "It looks like the method for calculating the odds of guessing the column of the dart location on the grid that I've developed is quite close to the bar's estimate here, at least with a small number of observations; however, as we begin to sample more and more observations, the bar's estimate becomes quite poor, for more observations. "
   ]
  },
  {
   "cell_type": "markdown",
   "metadata": {},
   "source": [
    "## 2. The Advanced Game "
   ]
  },
  {
   "cell_type": "code",
   "execution_count": 53,
   "metadata": {
    "collapsed": false
   },
   "outputs": [],
   "source": [
    "def prob_adv_hmc(X, gridcols, gridrows):\n",
    "    '''\n",
    "    Takes in observations from a given sample of a quincunx game. Calculates the inferred P(mu | X) for each column,\n",
    "    returning the log and un_log forms of the posterior disstribution. \n",
    "    \n",
    "    Parameters\n",
    "    ----------\n",
    "    X: numpy array\n",
    "    \n",
    "    gridrows: numpy array\n",
    "    \n",
    "    gridcols: numpy array\n",
    "    \n",
    "    Returns\n",
    "    -------\n",
    "    posterior: numpy array\n",
    "    \n",
    "    post_unlog: numpy array\n",
    "    \n",
    "    marginal: numpy array\n",
    "    \n",
    "    '''\n",
    "    \n",
    "    xbar = np.mean(X)\n",
    "    N    = len(X)\n",
    "\n",
    "    prob_num = []\n",
    "    #Probability of observing a given mu value given x\n",
    "    #mus are uniformly distributed - there are 21\n",
    "    for sig in gridrows:\n",
    "        prob_sig = []\n",
    "        for u in gridcols:\n",
    "            prod_pr = 0\n",
    "            for x in X:\n",
    "                #calculate the probability of each xi given mu and each sigma\n",
    "                Pr = stats.norm.logpdf(x, loc=u, scale= sig)\n",
    "                #take product of each individual probability for xi for P(X|mu, true sigma) \n",
    "                prod_pr = prod_pr + Pr\n",
    "            #for each mu add P(u) - the prior (uniform) - for each sigma, and add (logspace) by each sigma prob\n",
    "            prob_sig.append(prod_pr + np.log(1/np.float(len(gridcols))) + np.log(1/np.float(len(gridrows))))\n",
    "        prob_num.append(prob_sig)\n",
    "    prob_num = np.array(prob_num)\n",
    "    z = special.logsumexp(prob_num)\n",
    "\n",
    "    #calculate P(u|X, true sigma) for each element in prob_num\n",
    "    posterior = np.subtract(prob_num, z)\n",
    "\n",
    "    post_unlog = np.exp(posterior)\n",
    "    \n",
    "    #sum over sigmas to get marginal\n",
    "    marginal = post_unlog.sum(axis=0)\n",
    "\n",
    "    #check that this is equal to 1 \n",
    "    #print(\"sum of prob (should equal 1):\", post_unlog.sum(), \"log posterior:\", posterior, \"posterior:\", post_unlog, type(marginal))\n",
    "\n",
    "    return posterior, post_unlog, marginal"
   ]
  },
  {
   "cell_type": "code",
   "execution_count": 54,
   "metadata": {
    "collapsed": false
   },
   "outputs": [],
   "source": [
    "small_X_post_adv, small_X_post_unlog_adv, small_X_marg_adv = prob_adv_hmc(small_X, gridcols, gridrows)"
   ]
  },
  {
   "cell_type": "code",
   "execution_count": 55,
   "metadata": {
    "collapsed": false
   },
   "outputs": [],
   "source": [
    "rand_100_post, rand_100_post_unlog, rand_100_marginal = prob_adv_hmc(rand_100_X, rand_100_gridcols, rand_100_gridrows)"
   ]
  },
  {
   "cell_type": "code",
   "execution_count": 56,
   "metadata": {
    "collapsed": true
   },
   "outputs": [],
   "source": [
    "rand_1000_post, rand_1000_post_unlog, rand_1000_marginal = prob_adv_hmc(rand_1000_X, rand_1000_gridcols, rand_1000_gridrows)"
   ]
  },
  {
   "cell_type": "code",
   "execution_count": 57,
   "metadata": {
    "collapsed": true
   },
   "outputs": [],
   "source": [
    "rand_2000_post, rand_2000_post_unlog, rand_2000_marginal = prob_adv_hmc(rand_2000_X, rand_2000_gridcols, rand_2000_gridrows)"
   ]
  },
  {
   "cell_type": "code",
   "execution_count": 58,
   "metadata": {
    "collapsed": false
   },
   "outputs": [
    {
     "data": {
      "text/plain": [
       "Text(72.528,0.5,'sigma')"
      ]
     },
     "execution_count": 58,
     "metadata": {},
     "output_type": "execute_result"
    },
    {
     "data": {
      "image/png": "[encoded data removed]",
      "text/plain": [
       "<matplotlib.figure.Figure at 0x118bae4e0>"
      ]
     },
     "metadata": {},
     "output_type": "display_data"
    }
   ],
   "source": [
    "ax = sns.heatmap(small_X_post_unlog_adv,                 # takes a 2D array of data\n",
    "                 xticklabels=gridcols,  #   ... set custom x axis labels\n",
    "                 yticklabels=gridrows,  #   ... set custom y axis labels\n",
    "                 cbar=True,           #   ... turn off the default color scale bar\n",
    "                 square=True,          #   ... force the plot to be square\n",
    "                 linecolor='grey',     #   ... set grid line color\n",
    "                 linewidth=0.5)        #   ... set grid line width\n",
    "ax.set_xlabel('u')\n",
    "ax.set_ylabel('sigma')"
   ]
  },
  {
   "cell_type": "code",
   "execution_count": 59,
   "metadata": {
    "collapsed": false
   },
   "outputs": [
    {
     "data": {
      "text/plain": [
       "Text(72.528,0.5,'sigma')"
      ]
     },
     "execution_count": 59,
     "metadata": {},
     "output_type": "execute_result"
    },
    {
     "data": {
      "image/png": "[encoded data removed]",
      "text/plain": [
       "<matplotlib.figure.Figure at 0x11953bbe0>"
      ]
     },
     "metadata": {},
     "output_type": "display_data"
    }
   ],
   "source": [
    "ax = sns.heatmap(rand_100_post_unlog,                 # takes a 2D array of data\n",
    "                 xticklabels=gridcols,  #   ... set custom x axis labels\n",
    "                 yticklabels=gridrows,  #   ... set custom y axis labels\n",
    "                 cbar=True,           #   ... turn off the default color scale bar\n",
    "                 square=True,          #   ... force the plot to be square\n",
    "                 linecolor='grey',     #   ... set grid line color\n",
    "                 linewidth=0.5)        #   ... set grid line width\n",
    "ax.set_xlabel('u')\n",
    "ax.set_ylabel('sigma')"
   ]
  },
  {
   "cell_type": "code",
   "execution_count": 60,
   "metadata": {
    "collapsed": false
   },
   "outputs": [
    {
     "data": {
      "text/plain": [
       "Text(72.528,0.5,'sigma')"
      ]
     },
     "execution_count": 60,
     "metadata": {},
     "output_type": "execute_result"
    },
    {
     "data": {
      "image/png": "[encoded data removed]",
      "text/plain": [
       "<matplotlib.figure.Figure at 0x119697ef0>"
      ]
     },
     "metadata": {},
     "output_type": "display_data"
    }
   ],
   "source": [
    "ax = sns.heatmap(rand_1000_post_unlog,                 # takes a 2D array of data\n",
    "                 xticklabels=gridcols,  #   ... set custom x axis labels\n",
    "                 yticklabels=gridrows,  #   ... set custom y axis labels\n",
    "                 cbar=True,           #   ... turn off the default color scale bar\n",
    "                 square=True,          #   ... force the plot to be square\n",
    "                 linecolor='grey',     #   ... set grid line color\n",
    "                 linewidth=0.5)        #   ... set grid line width\n",
    "ax.set_xlabel('u')\n",
    "ax.set_ylabel('sigma')"
   ]
  },
  {
   "cell_type": "code",
   "execution_count": 61,
   "metadata": {
    "collapsed": false
   },
   "outputs": [
    {
     "data": {
      "text/plain": [
       "Text(72.528,0.5,'sigma')"
      ]
     },
     "execution_count": 61,
     "metadata": {},
     "output_type": "execute_result"
    },
    {
     "data": {
      "image/png": "[encoded data removed]",
      "text/plain": [
       "<matplotlib.figure.Figure at 0x115daf0f0>"
      ]
     },
     "metadata": {},
     "output_type": "display_data"
    }
   ],
   "source": [
    "ax = sns.heatmap(rand_2000_post_unlog,                 # takes a 2D array of data\n",
    "                 xticklabels=rand_2000_gridcols,  #   ... set custom x axis labels\n",
    "                 yticklabels=rand_2000_gridrows,  #   ... set custom y axis labels\n",
    "                 cbar=True,           #   ... turn off the default color scale bar\n",
    "                 square=True,          #   ... force the plot to be square\n",
    "                 linecolor='grey',     #   ... set grid line color\n",
    "                 linewidth=0.5)        #   ... set grid line width\n",
    "ax.set_xlabel('u')\n",
    "ax.set_ylabel('sigma')"
   ]
  },
  {
   "cell_type": "code",
   "execution_count": 62,
   "metadata": {
    "collapsed": false
   },
   "outputs": [
    {
     "data": {
      "image/png": "[encoded data removed]",
      "text/plain": [
       "<matplotlib.figure.Figure at 0x118735278>"
      ]
     },
     "metadata": {},
     "output_type": "display_data"
    }
   ],
   "source": [
    "# The bar's rules for determining fair odds.\n",
    "PrA = probdist_advanced(small_X, gridcols)\n",
    "PrT = tdist_advanced(small_X, gridcols)\n",
    "PrHMC = small_X_marg_adv\n",
    "\n",
    "\n",
    "# Set up our graphical display.\n",
    "plt.semilogy(gridcols, PrA, label=\"bar's estimate: advanced (sigma unknown)\")\n",
    "plt.semilogy(gridcols, PrHMC, \"go\", label=\"HMC estimate advanced (sigma unknown)\")\n",
    "plt.semilogy(gridcols, PrT, \"y-\", label=\"T dist (sigma unknown)\")\n",
    "\n",
    "plt.xlabel('u') \n",
    "plt.ylabel('P(u)')\n",
    "plt.legend(loc='best')\n",
    "plt.show()"
   ]
  },
  {
   "cell_type": "code",
   "execution_count": 63,
   "metadata": {
    "collapsed": false
   },
   "outputs": [
    {
     "data": {
      "image/png": "[encoded data removed]",
      "text/plain": [
       "<matplotlib.figure.Figure at 0x118773198>"
      ]
     },
     "metadata": {},
     "output_type": "display_data"
    }
   ],
   "source": [
    "PrA = probdist_advanced(rand_100_X, gridcols)\n",
    "PrT = tdist_advanced(rand_100_X, gridcols)\n",
    "\n",
    "plt.semilogy(gridcols, PrA, \"bo\", label=\"100 X advanced pub (sigma unknown)\")\n",
    "plt.semilogy(gridcols, PrT, \"go\", label=\"100 X advanced T (sigma unknown)\")\n",
    "plt.semilogy(gridcols, rand_100_marginal, \"ro\", label=\"100 X advanced HC (sigma unknown)\")\n",
    "\n",
    "plt.xlabel('u') \n",
    "plt.ylabel('P(u)')\n",
    "plt.legend(loc='best')\n",
    "plt.show()"
   ]
  },
  {
   "cell_type": "code",
   "execution_count": 64,
   "metadata": {
    "collapsed": false
   },
   "outputs": [
    {
     "name": "stderr",
     "output_type": "stream",
     "text": [
      "/Users/Hailey/anaconda/envs/python3/lib/python3.5/site-packages/scipy/stats/_continuous_distns.py:3845: RuntimeWarning: overflow encountered in power\n",
      "  Px /= np.sqrt(r*np.pi)*(1+(x**2)/r)**((r+1)/2)\n"
     ]
    },
    {
     "data": {
      "image/png": "[encoded data removed]",
      "text/plain": [
       "<matplotlib.figure.Figure at 0x119a54550>"
      ]
     },
     "metadata": {},
     "output_type": "display_data"
    }
   ],
   "source": [
    "PrA = probdist_advanced(rand_1000_X, gridcols)\n",
    "PrT = tdist_advanced(rand_1000_X, gridcols)\n",
    "\n",
    "plt.semilogy(gridcols, PrA, \"bo\", label=\"1000 X advanced pub (sigma unknown)\")\n",
    "plt.semilogy(gridcols, PrT, \"go\", label=\"1000 X advanced T (sigma unknown)\")\n",
    "plt.semilogy(gridcols, rand_1000_marginal, \"ro\", label=\"1000 X advanced HC (sigma unknown)\")\n",
    "\n",
    "plt.xlabel('u') \n",
    "plt.ylabel('P(u)')\n",
    "plt.legend(loc='best')\n",
    "plt.show()"
   ]
  },
  {
   "cell_type": "code",
   "execution_count": 65,
   "metadata": {
    "collapsed": false
   },
   "outputs": [
    {
     "name": "stderr",
     "output_type": "stream",
     "text": [
      "/Users/Hailey/anaconda/envs/python3/lib/python3.5/site-packages/scipy/stats/_continuous_distns.py:3845: RuntimeWarning: overflow encountered in power\n",
      "  Px /= np.sqrt(r*np.pi)*(1+(x**2)/r)**((r+1)/2)\n"
     ]
    },
    {
     "data": {
      "image/png": "[encoded data removed]",
      "text/plain": [
       "<matplotlib.figure.Figure at 0x118bd7898>"
      ]
     },
     "metadata": {},
     "output_type": "display_data"
    }
   ],
   "source": [
    "PrA = probdist_advanced(rand_2000_X, gridcols)\n",
    "PrT = tdist_advanced(rand_2000_X, gridcols)\n",
    "\n",
    "plt.semilogy(gridcols, PrA, \"bo\", label=\"2000 X advanced pub (sigma unknown)\")\n",
    "plt.semilogy(gridcols, PrT, \"go\", label=\"2000 X advanced T (sigma unknown)\")\n",
    "plt.semilogy(gridcols, rand_2000_marginal, \"ro\", label=\"2000 X advanced HC (sigma unknown)\")\n",
    "\n",
    "plt.xlabel('u') \n",
    "plt.ylabel('P(u)')\n",
    "plt.legend(loc='best')\n",
    "plt.show()"
   ]
  },
  {
   "cell_type": "markdown",
   "metadata": {},
   "source": [
    "## What's the advantage?"
   ]
  },
  {
   "cell_type": "markdown",
   "metadata": {},
   "source": [
    "The pub has a ground truth they are using as the standard deviation and as we calculate the standard error, the standard error will become smaller and smaller as n increases, thus the pub does \"better\" at predicting the location of the dart when there are more samples, as can be seen in the graphs in the cells above. The posterior probability distributions plotted show convergence between the two advanced methods (HC/HMC and pub) when n is larger. Additionally, the function I have made is overlapping with the T distribution, but our sigmas are discrete and so the curves are not exactly the same distribution. "
   ]
  },
  {
   "cell_type": "code",
   "execution_count": 66,
   "metadata": {
    "collapsed": true
   },
   "outputs": [],
   "source": [
    "# The bar's rules for determining fair odds.\n",
    "PrA = probdist_advanced(small_X, gridcols)\n",
    "PrT = tdist_advanced(small_X, gridcols)\n",
    "PrHMC = small_X_marg_adv"
   ]
  },
  {
   "cell_type": "code",
   "execution_count": 67,
   "metadata": {
    "collapsed": false
   },
   "outputs": [
    {
     "data": {
      "text/plain": [
       "7.479990834736474e-09"
      ]
     },
     "execution_count": 67,
     "metadata": {},
     "output_type": "execute_result"
    }
   ],
   "source": [
    "#8 is the index for the true mu - 20 - bar prediction\n",
    "PrA[8]"
   ]
  },
  {
   "cell_type": "code",
   "execution_count": 68,
   "metadata": {
    "collapsed": false
   },
   "outputs": [
    {
     "data": {
      "text/plain": [
       "0.010437602935893214"
      ]
     },
     "execution_count": 68,
     "metadata": {},
     "output_type": "execute_result"
    }
   ],
   "source": [
    "#8 is the index for the true mu - 20 - T distribution prediction\n",
    "PrT[8]"
   ]
  },
  {
   "cell_type": "code",
   "execution_count": 69,
   "metadata": {
    "collapsed": false
   },
   "outputs": [
    {
     "data": {
      "text/plain": [
       "0.027339054633827804"
      ]
     },
     "execution_count": 69,
     "metadata": {},
     "output_type": "execute_result"
    }
   ],
   "source": [
    "#8 is the index for the true mu - 20 - my prediction\n",
    "PrHMC[8]"
   ]
  },
  {
   "cell_type": "markdown",
   "metadata": {},
   "source": [
    "Specifically, for the game we have been given (with true sigma, mu and our X values - small X) the odds of winning are actually higher than what the bar would predict. So, for a small number of samples the bar does not predict very well how likely one is to win, but given many more samples, the bar's standard error estimate becomes closer to the true normal distribution. We want to bet when there is a small sample error, since the bar gives us unlikely odds. "
   ]
  }
 ],
 "metadata": {
  "anaconda-cloud": {},
  "kernelspec": {
   "display_name": "Python [conda env:python3]",
   "language": "python",
   "name": "conda-env-python3-py"
  },
  "language_info": {
   "codemirror_mode": {
    "name": "ipython",
    "version": 3
   },
   "file_extension": ".py",
   "mimetype": "text/x-python",
   "name": "python",
   "nbconvert_exporter": "python",
   "pygments_lexer": "ipython3",
   "version": "3.5.2"
  }
 },
 "nbformat": 4,
 "nbformat_minor": 1
}
