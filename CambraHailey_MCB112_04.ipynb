{
 "cells": [
  {
   "cell_type": "markdown",
   "metadata": {},
   "source": [
    "## Homework 4: A plague of sandmice\n",
    "### MCB112: Biological Data Analysis\n",
    "#### Hailey Cambra"
   ]
  },
  {
   "cell_type": "code",
   "execution_count": 1,
   "metadata": {
    "collapsed": false
   },
   "outputs": [],
   "source": [
    "import pandas as pd\n",
    "import numpy as np\n",
    "import matplotlib.pyplot as plt\n",
    "import seaborn as sns\n",
    "\n",
    "%matplotlib inline"
   ]
  },
  {
   "cell_type": "markdown",
   "metadata": {},
   "source": [
    "## 1. Testing Moriarty's Method "
   ]
  },
  {
   "cell_type": "code",
   "execution_count": 2,
   "metadata": {
    "collapsed": false
   },
   "outputs": [],
   "source": [
    "def Moriarty_score(seq_list):\n",
    "    '''\n",
    "    Take in a list of sequences and score them according to Moriarty's method. \n",
    "    \n",
    "    Parameters\n",
    "    ----------\n",
    "    seq_list: list\n",
    "        list of nucleotide sequences\n",
    "        \n",
    "    Returns\n",
    "    -------\n",
    "    score_list: list\n",
    "        list of scores for each sequence\n",
    "    \n",
    "    '''\n",
    "    #initialize list for scores for each sequence\n",
    "    score_list = []\n",
    "    for seq in seq_list:\n",
    "        #initialize score to zero so that we start from scratch for each new sequence\n",
    "        score = 0\n",
    "        #iterate through the nucleotides of each sequence\n",
    "        for i in seq:\n",
    "            #adjust score for each nucleotide\n",
    "            if i == 'A' or i == \"T\":\n",
    "                score = score + 1\n",
    "            else:\n",
    "                score = score - 1\n",
    "        #append final score and start at beginning of for loop again for the next sequence\n",
    "        score_list.append(score)\n",
    "\n",
    "    return score_list  "
   ]
  },
  {
   "cell_type": "markdown",
   "metadata": {},
   "source": [
    "### Read in fasta files and obtain sequences "
   ]
  },
  {
   "cell_type": "code",
   "execution_count": 3,
   "metadata": {
    "collapsed": false
   },
   "outputs": [],
   "source": [
    "#read in the fasta files, sm for sandmouse\n",
    "mice_seqs = []\n",
    "mice_ids = []\n",
    "with open(\"sandmouse.fa\") as sm:\n",
    "    for line in sm:\n",
    "        if line.startswith(\">\"):\n",
    "            mice_ids.append(line.strip())\n",
    "        else:\n",
    "            mice_seqs.append(line.strip())"
   ]
  },
  {
   "cell_type": "code",
   "execution_count": 4,
   "metadata": {
    "collapsed": true
   },
   "outputs": [],
   "source": [
    "#repeat for pathogen file, pa for pathogen\n",
    "path_seqs = []\n",
    "path_ids = []\n",
    "with open(\"pathogen.fa\") as pa:\n",
    "    for line in pa:\n",
    "        if line.startswith(\">\"):\n",
    "            path_ids.append(line.strip())\n",
    "        else:\n",
    "            path_seqs.append(line.strip())         "
   ]
  },
  {
   "cell_type": "code",
   "execution_count": 5,
   "metadata": {
    "collapsed": true
   },
   "outputs": [],
   "source": [
    "#repeat for Moriarty's negative data to compare later, rn for random\n",
    "rand_seqs = []\n",
    "rand_ids = []\n",
    "with open(\"moriarty-neg.fa\") as rn:\n",
    "    for line in rn:\n",
    "        if line.startswith(\">\"):\n",
    "            rand_ids.append(line.strip())\n",
    "        else:\n",
    "            rand_seqs.append(line.strip())   "
   ]
  },
  {
   "cell_type": "markdown",
   "metadata": {},
   "source": [
    "### Apply Moriarty's Method "
   ]
  },
  {
   "cell_type": "code",
   "execution_count": 6,
   "metadata": {
    "collapsed": false
   },
   "outputs": [],
   "source": [
    "#get scores for pathogen sequences and mice sequences\n",
    "path_score_list = Moriarty_score(path_seqs)\n",
    "mice_score_list = Moriarty_score(mice_seqs)\n",
    "rand_score_list = Moriarty_score(rand_seqs)"
   ]
  },
  {
   "cell_type": "code",
   "execution_count": 7,
   "metadata": {
    "collapsed": false
   },
   "outputs": [],
   "source": [
    "#turn each of the score lists into arrays so that I can plot the scores\n",
    "path_array = np.array(path_score_list)\n",
    "mice_array = np.array(mice_score_list)\n",
    "rand_array = np.array(rand_score_list)"
   ]
  },
  {
   "cell_type": "code",
   "execution_count": 8,
   "metadata": {
    "collapsed": false
   },
   "outputs": [
    {
     "data": {
      "text/plain": [
       "Text(0,0.5,'frequency')"
      ]
     },
     "execution_count": 8,
     "metadata": {},
     "output_type": "execute_result"
    },
    {
     "data": {
      "image/png": "[encoded data removed]",
      "text/plain": [
       "<matplotlib.figure.Figure at 0x116706160>"
      ]
     },
     "metadata": {},
     "output_type": "display_data"
    }
   ],
   "source": [
    "#plot the scores of the pathogen sequences and the mice sequences to see if they look like Moriarty's data\n",
    "plt.hist(path_array, alpha=0.5, bins=20, density=True, label='Pathogen')\n",
    "plt.hist(mice_array, alpha=0.5, bins=20, density=True, label='Sandmouse')\n",
    "plt.legend()\n",
    "plt.xlabel('Moriarty Score')\n",
    "plt.ylabel('frequency')"
   ]
  },
  {
   "cell_type": "code",
   "execution_count": 9,
   "metadata": {
    "collapsed": false
   },
   "outputs": [],
   "source": [
    "#Get true positive (TP), false positive (FP), true negative (TN), and false negative (FN) score lists for the datasets\n",
    "\n",
    "#combine scores together so you can define the range of scores to choose over\n",
    "all_scores = path_array, mice_array\n",
    "\n",
    "#make an array of scores to choose from to choose a threshold score for the different positive and negative rates\n",
    "scores = np.arange(np.min(all_scores), np.max(all_scores), 0.1)\n",
    "\n",
    "TPR = []\n",
    "FPR = []\n",
    "\n",
    "\n",
    "#get each of true positives, negatives, etc. and calculate the TPR and FPR, keep going until we have a list of \n",
    "#these for various threshold scores\n",
    "for score in scores:\n",
    "    TP = (path_array > score).sum()\n",
    "    FP = (mice_array > score).sum()\n",
    "    FN = (path_array <= score).sum()\n",
    "    TN = (mice_array <= score).sum()\n",
    "    TPR.append(TP/(TP+FN))\n",
    "    FPR.append(1-(TN/(TN+FP)))\n",
    "       "
   ]
  },
  {
   "cell_type": "code",
   "execution_count": 10,
   "metadata": {
    "collapsed": false
   },
   "outputs": [
    {
     "data": {
      "text/plain": [
       "[<matplotlib.lines.Line2D at 0x11675eda0>]"
      ]
     },
     "execution_count": 10,
     "metadata": {},
     "output_type": "execute_result"
    },
    {
     "data": {
      "image/png": "[encoded data removed]",
      "text/plain": [
       "<matplotlib.figure.Figure at 0x116767160>"
      ]
     },
     "metadata": {},
     "output_type": "display_data"
    }
   ],
   "source": [
    "#Make a ROC plot\n",
    "plt.xlabel('false positive rate')\n",
    "plt.ylabel('true positive rate')\n",
    "plt.title('ROC plot for sandmouse v. pathogen sequences')\n",
    "plt.plot(FPR, TPR)"
   ]
  },
  {
   "cell_type": "markdown",
   "metadata": {},
   "source": [
    "The pathogen and sandmouse data are overlapping. These results are likely different from Moriarty's because he is comparing to random sequences, instead of an actual dataset that serves as a control for the pathogenic mice sequences. The ROC plot I have plotted shows a linear relationship between the false and true positive rates, which means we really aren't distinguishing between the pathogen sequences and the sandmouse sequences with his method. What he has done is choose a meaningless negative control for his sample set, and what he is really asking is whether or not he can distinguish a pathogen sequence from a random sequence, not a sandmouse sequence, which is what he is trying to conclude. To drive the point home about comparing to a random set of sequences, I have plotted the 'negative' set that Moriarty used with the pathogen and sandmouse sequences below. "
   ]
  },
  {
   "cell_type": "code",
   "execution_count": 11,
   "metadata": {
    "collapsed": false
   },
   "outputs": [
    {
     "data": {
      "text/plain": [
       "Text(0,0.5,'frequency')"
      ]
     },
     "execution_count": 11,
     "metadata": {},
     "output_type": "execute_result"
    },
    {
     "data": {
      "image/png": "[encoded data removed]",
      "text/plain": [
       "<matplotlib.figure.Figure at 0x116796d68>"
      ]
     },
     "metadata": {},
     "output_type": "display_data"
    }
   ],
   "source": [
    "#plot the scores of the pathogen sequences and the mice sequences to see if they look like Moriarty's data\n",
    "plt.hist(path_array, alpha=0.5, bins=20, density=True, label='Pathogen')\n",
    "plt.hist(mice_array, alpha=0.5, bins=20, density=True, label='Sandmouse')\n",
    "plt.hist(rand_array, alpha=0.5, bins=20, density=True, label='Random - Moriarty neg control')\n",
    "plt.legend()\n",
    "plt.xlabel('Moriarty Score')\n",
    "plt.ylabel('frequency')"
   ]
  },
  {
   "cell_type": "markdown",
   "metadata": {},
   "source": [
    "## 2. Making my own method "
   ]
  },
  {
   "cell_type": "code",
   "execution_count": 12,
   "metadata": {
    "collapsed": true
   },
   "outputs": [],
   "source": [
    "def count_probs(seq_list):\n",
    "    '''\n",
    "    Takes in a list of nucleotide sequences, calculates the probability of observing a given nucleotide dimer \n",
    "    (dimer probs) and the conditional probability of observing a third nucleotide in the next position to a given \n",
    "    dinucleotide.\n",
    "    \n",
    "    Parameters\n",
    "    ----------\n",
    "    seq_list: list\n",
    "        list of DNA nucelotide (no 'U') sequences from a dataset \n",
    "    \n",
    "    Returns\n",
    "    -------\n",
    "    cond_probs: numpy array\n",
    "        contains the conditional probability of observing a nt (from third nt list) in position i given the \n",
    "        dinculeotide sequence in positions i-1 and i-2\n",
    "    \n",
    "    dimer_probs: numpy array\n",
    "        contains the probability of observing a given dimer sequence from the list of sequences given\n",
    "    \n",
    "    '''\n",
    "    counts_array = np.zeros((16,4), dtype=int)\n",
    "\n",
    "    #initialize list of dimers and list of the third nt to populate the counts_array later\n",
    "    dimers_list = [\"AA\", \"AC\", \"AG\", \"AT\", \"CA\", \"CC\", \"CG\", \"CT\", \"GA\", \"GC\", \"GG\", \"GT\", \"TA\", \"TC\", \"TG\", \"TT\"]\n",
    "    third_nt = [\"A\", \"C\", \"G\", \"T\"]\n",
    "\n",
    "\n",
    "    for seq in seq_list:\n",
    "        for i in range(len(seq)-2):\n",
    "            dimer = seq[i:i+2]\n",
    "            counts_row = dimers_list.index(dimer)\n",
    "            third = seq[i+2]\n",
    "            counts_col = third_nt.index(third)\n",
    "            counts_array[counts_row, counts_col] +=1\n",
    "    \n",
    "    #add the last di-nt\n",
    "    dimer_counts = counts_array.sum(axis=1)\n",
    "\n",
    "    for seq in seq_list:\n",
    "        last_dimer = seq[-2:]\n",
    "        ind_last = dimers_list.index(last_dimer)\n",
    "        dimer_counts[ind_last] +=1\n",
    "    \n",
    "    #define normalization outside for loop\n",
    "    z = dimer_counts.sum()\n",
    "    #normalize each element in dimer_counts to get the dimer probabilities - joint probability of nt1 and nt2\n",
    "    dimer_probs = np.array([i/z for i in dimer_counts])\n",
    "    \n",
    "    cond_probs = []\n",
    "\n",
    "    for row in counts_array:\n",
    "        #need to reset z for each row\n",
    "        z = row.sum()\n",
    "        row_probs = np.array([i/z for i in row])\n",
    "        cond_probs.append(row_probs)\n",
    "\n",
    "    cond_probs = np.array(cond_probs)\n",
    "    \n",
    "    return cond_probs, dimer_probs"
   ]
  },
  {
   "cell_type": "code",
   "execution_count": 13,
   "metadata": {
    "collapsed": false
   },
   "outputs": [],
   "source": [
    "#Train my models for the sandmouse model and the pathogen model, taking the first 5000 sequences to train\n",
    "mice_cond_probs, mice_dimer_probs = count_probs(mice_seqs[:5000])\n",
    "path_cond_probs, path_dimer_probs = count_probs(path_seqs[:5000])"
   ]
  },
  {
   "cell_type": "code",
   "execution_count": 14,
   "metadata": {
    "collapsed": true
   },
   "outputs": [],
   "source": [
    "def Markov(seq_list, mice_dimer_probs, mice_cond_probs, path_dimer_probs, path_cond_probs):\n",
    "    \n",
    "    '''\n",
    "    Takes in a sequence list and the trained model parameters (conditional and dimer probabilities for \n",
    "    each dataset) and returns the log odds ratio score for each sequence in a list.\n",
    "    \n",
    "    Parameters\n",
    "    ----------\n",
    "    \n",
    "    seq_list: list\n",
    "        list of sequences from a given dataset (needs to be different than the sequences used to train!!)\n",
    "    \n",
    "    mice_dimer_probs: numpy array\n",
    "        numpy array containing the dimer probabilities (joint) calculated from the sandmouse data training set.\n",
    "    \n",
    "    mice_cond_probs: numpy array\n",
    "        numpy array containing the conditional probabilities of observing a given nucleotide in the sandmouse data, \n",
    "        given the dinucelotide sequence preceding it in the sequence. \n",
    "    \n",
    "    path_dimer_probs: numpy array\n",
    "        numpy array containing the dimer probabilities (joint) calculated from the pathogen data training set.\n",
    "    \n",
    "    path_cond_probs: numpy array\n",
    "        numpy array containing the conditional probabilities of observing a given nucleotide in the pathogen data, \n",
    "        given the dinucelotide sequence preceding it in the sequence. \n",
    "        \n",
    "    Returns\n",
    "    -------\n",
    "    \n",
    "    log_odds: list\n",
    "        list of log odds ratio of the probability of observing a given sequence, given it may be a pathogen sequence\n",
    "        over the probability of observing a given sequence, given it may be from the sandmouse data. \n",
    "    \n",
    "    '''\n",
    "    \n",
    "    dimers_list = [\"AA\", \"AC\", \"AG\", \"AT\", \"CA\", \"CC\", \"CG\", \"CT\", \"GA\", \"GC\", \"GG\", \"GT\", \"TA\", \"TC\", \"TG\", \"TT\"]\n",
    "    third_nt = [\"A\", \"C\", \"G\", \"T\"]\n",
    "\n",
    "    log_odds = []\n",
    "    for seq in seq_list:\n",
    "        #look at first dinucleotide, because this is our starting point\n",
    "        #look up dimer probability for the matching dinucleotide sequence from the pathogen training set\n",
    "        #need to use log for probabilities because they will become very small and python turns really small floats into zeroes\n",
    "\n",
    "        dind = dimers_list.index(seq[:2])\n",
    "        m_prob = np.log(mice_dimer_probs[dind])\n",
    "        p_prob = np.log(path_dimer_probs[dind])\n",
    "        for i in range(2, len(seq)):\n",
    "            #look up two previous nts from position i in the sequence in dimers list\n",
    "            row_ind = dimers_list.index(seq[i-2:i])\n",
    "            #look up the current nucleotide in the list for third nts\n",
    "            col_ind = third_nt.index(seq[i])\n",
    "            #look up the conditional probabilities for each of the models\n",
    "            m_cond = np.log(mice_cond_probs[row_ind, col_ind])\n",
    "            p_cond = np.log(path_cond_probs[row_ind, col_ind])\n",
    "\n",
    "            #update running probabilities of the sequence, adding because we are in logspace\n",
    "            m_prob = m_prob + m_cond\n",
    "            p_prob = p_prob + p_cond\n",
    "        \n",
    "        #take log odds ratio (subtract because logspace) for each sequence and append to list \n",
    "        log_odds.append(p_prob - m_prob)\n",
    "    \n",
    "    return log_odds"
   ]
  },
  {
   "cell_type": "code",
   "execution_count": 15,
   "metadata": {
    "collapsed": false
   },
   "outputs": [],
   "source": [
    "log_odds_path = Markov(path_seqs[5000:], mice_dimer_probs, mice_cond_probs, path_dimer_probs, path_cond_probs)"
   ]
  },
  {
   "cell_type": "code",
   "execution_count": 16,
   "metadata": {
    "collapsed": false
   },
   "outputs": [],
   "source": [
    "log_odds_mice = Markov(mice_seqs[5000:], mice_dimer_probs, mice_cond_probs, path_dimer_probs, path_cond_probs)"
   ]
  },
  {
   "cell_type": "code",
   "execution_count": 17,
   "metadata": {
    "collapsed": false
   },
   "outputs": [
    {
     "data": {
      "text/plain": [
       "Text(0.5,1,'2nd order Markov Model Log Odds Scores')"
      ]
     },
     "execution_count": 17,
     "metadata": {},
     "output_type": "execute_result"
    },
    {
     "data": {
      "image/png": "[encoded data removed]",
      "text/plain": [
       "<matplotlib.figure.Figure at 0x118a3af28>"
      ]
     },
     "metadata": {},
     "output_type": "display_data"
    }
   ],
   "source": [
    "plt.hist(log_odds_path, alpha=0.5, bins=20, density=True, label='Pathogen')\n",
    "plt.hist(log_odds_mice, alpha=0.5, bins=20, density=True, label='Sandmouse')\n",
    "plt.legend()\n",
    "plt.xlabel('log odds score')\n",
    "plt.ylabel('frequency')\n",
    "plt.title('2nd order Markov Model Log Odds Scores')"
   ]
  },
  {
   "cell_type": "code",
   "execution_count": 18,
   "metadata": {
    "collapsed": true
   },
   "outputs": [],
   "source": [
    "#Get true positive (TP), false positive (FP), true negative (TN), and false negative (FN) score lists for the datasets\n",
    "#Also get FDR and account for fraction of sequences from each mouse and pathogen population \n",
    "\n",
    "#combine scores together so you can define the range of scores to choose over\n",
    "all_logscores = log_odds_path, log_odds_mice\n",
    "\n",
    "#make an array of scores to choose from to choose a threshold score for the different positive and negative rates\n",
    "scores = np.arange(np.min(all_logscores), np.max(all_logscores), 0.01)\n",
    "\n",
    "#initialize lists, set fractions of sequence reads for use in calculating FDR - could use the fractions for other \n",
    "#rates for others, but would end up by multiplying by 1 in the end\n",
    "\n",
    "TPR = []\n",
    "FPR = []\n",
    "FDR = []\n",
    "frac_path = 0.01\n",
    "frac_mouse = 0.99\n",
    "\n",
    "#testing other possible fractions\n",
    "FDR_f1 = []\n",
    "frac_path_f1 = 0.99\n",
    "frac_mouse_f1 = 0.01\n",
    "\n",
    "FDR_f2 = []\n",
    "frac_path_f2 = 0.5\n",
    "frac_mouse_f2 = 0.5\n",
    "\n",
    "#get each of true positives, negatives, etc. and calculate the TPR and FPR, keep going until we have a list of \n",
    "#these for various threshold scores\n",
    "for score in scores:\n",
    "    TP = (log_odds_path > score).sum()\n",
    "    FP = (log_odds_mice > score).sum()\n",
    "    FN = (log_odds_path <= score).sum()\n",
    "    TN = (log_odds_mice <= score).sum()\n",
    "    TPR.append(TP/(TP+FN))\n",
    "    FPR.append(1-(TN/(TN+FP)))\n",
    "    FDR.append((FP*frac_mouse)/(TP*frac_path+FP*frac_mouse))\n",
    "    FDR_f1.append((FP*frac_mouse_f1)/(TP*frac_path_f1+FP*frac_mouse_f1))\n",
    "    FDR_f2.append((FP*frac_mouse_f2)/(TP*frac_path_f2+FP*frac_mouse_f2))"
   ]
  },
  {
   "cell_type": "code",
   "execution_count": 19,
   "metadata": {
    "collapsed": false,
    "scrolled": true
   },
   "outputs": [
    {
     "data": {
      "text/plain": [
       "[<matplotlib.lines.Line2D at 0x118d6a438>]"
      ]
     },
     "execution_count": 19,
     "metadata": {},
     "output_type": "execute_result"
    },
    {
     "data": {
      "image/png": "[encoded data removed]",
      "text/plain": [
       "<matplotlib.figure.Figure at 0x118d6a400>"
      ]
     },
     "metadata": {},
     "output_type": "display_data"
    }
   ],
   "source": [
    "#Make a ROC plot\n",
    "plt.xlabel('false positive rate')\n",
    "plt.ylabel('true positive rate')\n",
    "plt.title('ROC plot for sandmouse v. pathogen sequences')\n",
    "plt.plot(FPR, TPR)"
   ]
  },
  {
   "cell_type": "markdown",
   "metadata": {},
   "source": [
    "## 3. How good is my method? "
   ]
  },
  {
   "cell_type": "code",
   "execution_count": 20,
   "metadata": {
    "collapsed": false
   },
   "outputs": [
    {
     "name": "stdout",
     "output_type": "stream",
     "text": [
      " true positive rate: 0.8994 \n",
      " false positive rate: 0.048799999999999955 \n",
      " score threshold needed to set: 0.43640278542170563\n"
     ]
    }
   ],
   "source": [
    "#iterate through the TPR scores and find which score corresponds to that threshold TPR value\n",
    "i = 0\n",
    "while TPR[i] >= 0.9:\n",
    "    i +=1\n",
    "#get log odds threshold score for TPR before sensitivity dips below 90%    \n",
    "print(\"\", \"true positive rate:\", TPR[i], \"\\n\",\"false positive rate:\", FPR[i], \"\\n\",\"score threshold needed to set:\", scores[i])"
   ]
  },
  {
   "cell_type": "code",
   "execution_count": 21,
   "metadata": {
    "collapsed": false
   },
   "outputs": [
    {
     "name": "stdout",
     "output_type": "stream",
     "text": [
      "False Discovery Rate at TPR threshold: 0.8430530834467596\n"
     ]
    }
   ],
   "source": [
    "#how much of what I am calling a pathogen is actually not a pathogen\n",
    "print(\"False Discovery Rate at TPR threshold:\", FDR[i])"
   ]
  },
  {
   "cell_type": "markdown",
   "metadata": {},
   "source": [
    "The fact that our false discovery rate is so high is alarming. I am plotting this below. "
   ]
  },
  {
   "cell_type": "code",
   "execution_count": 22,
   "metadata": {
    "collapsed": false
   },
   "outputs": [
    {
     "data": {
      "text/plain": [
       "[<matplotlib.lines.Line2D at 0x118e892b0>]"
      ]
     },
     "execution_count": 22,
     "metadata": {},
     "output_type": "execute_result"
    },
    {
     "data": {
      "image/png": "[encoded data removed]",
      "text/plain": [
       "<matplotlib.figure.Figure at 0x118e892e8>"
      ]
     },
     "metadata": {},
     "output_type": "display_data"
    }
   ],
   "source": [
    "#Make modified 'ROC' plot\n",
    "plt.xlabel('false discovery rate')\n",
    "plt.ylabel('true positive rate')\n",
    "plt.title('Sandmouse v. pathogen sequences (0.99:0.01)')\n",
    "plt.plot(FDR, TPR)"
   ]
  },
  {
   "cell_type": "markdown",
   "metadata": {},
   "source": [
    "Looking at the FDR allows us to account for the actual constitution of the sequence population. Because there are so many more sandmouse sequences (99% of reads) than there are pathogenic sequences (1% of reads), the false discovery rate is fairly high. We should sample more of the pathogenic reads to be able come to a conclusion that we can actually trust with our current method, even though the ROC plot looks like we are doing a great job at distinguishing what is a pathogenic sequence from a sandmouse sequence. In the end, the method is good, but we need to sample many more pathogenic sequences to trust the analysis. To drive home this point, I have made a couple of graphs below, to illustrate the effect of the fraction of sequence reads from each population on this analysis. "
   ]
  },
  {
   "cell_type": "code",
   "execution_count": 23,
   "metadata": {
    "collapsed": false
   },
   "outputs": [
    {
     "data": {
      "text/plain": [
       "[<matplotlib.lines.Line2D at 0x118fb18d0>]"
      ]
     },
     "execution_count": 23,
     "metadata": {},
     "output_type": "execute_result"
    },
    {
     "data": {
      "image/png": "[encoded data removed]",
      "text/plain": [
       "<matplotlib.figure.Figure at 0x118fb1828>"
      ]
     },
     "metadata": {},
     "output_type": "display_data"
    }
   ],
   "source": [
    "#Make modified 'ROC' plot with different fractions of sequences from each population, here, reversing the fractions\n",
    "plt.xlabel('false discovery rate')\n",
    "plt.ylabel('true positive rate')\n",
    "plt.title('Sandmouse v. pathogen sequences (0.01:0.99)')\n",
    "plt.plot(FDR_f1, TPR)"
   ]
  },
  {
   "cell_type": "markdown",
   "metadata": {},
   "source": [
    "We can see that when we alter the fractions of sequences that come from the sandmouse versus pathogen sequences we can obtain a plot with the false discovery rate that looks like our ROC plot with false positive rates. It appears that the more data we can have from the pathogen sequence set, the better we are at classifying an actual pathogen sequence as a pathogen. If we were trying to classify a sandmouse sequence from the pathogen sequence with the fractions reversed, as I have done with FDR_f1, then we would likely suffer from the same problem as we do with our current method and data percentages from each population when we try to classify a pathogen from the sandmouse population. However, since we are trying to classify a pathogen from a sandmouse sequence, having a high percentage of sequences available in the pathogen population helps us to have a much better false discovery rate. Note the very small fractions on the x-axis of this plot above. "
   ]
  },
  {
   "cell_type": "code",
   "execution_count": 24,
   "metadata": {
    "collapsed": false
   },
   "outputs": [
    {
     "data": {
      "text/plain": [
       "[<matplotlib.lines.Line2D at 0x118ec99e8>]"
      ]
     },
     "execution_count": 24,
     "metadata": {},
     "output_type": "execute_result"
    },
    {
     "data": {
      "image/png": "[encoded data removed]",
      "text/plain": [
       "<matplotlib.figure.Figure at 0x118ec9b70>"
      ]
     },
     "metadata": {},
     "output_type": "display_data"
    }
   ],
   "source": [
    "#Make modified 'ROC' plot with different fractions of sequences from each population, here, setting them equal\n",
    "plt.xlabel('false discovery rate')\n",
    "plt.ylabel('true positive rate')\n",
    "plt.title('Sandmouse v. pathogen sequences (0.5:0.5)')\n",
    "plt.plot(FDR_f2, TPR)"
   ]
  },
  {
   "cell_type": "markdown",
   "metadata": {},
   "source": [
    "It seems like a fair analysis would include a fairly equal fraction of sequences from each population, so that the classifier can distinguish between what is a pathogen and what is a sandmouse without having to \"bias\" the classifier in either way by having such a small fraction of either set of sequences represented. "
   ]
  }
 ],
 "metadata": {
  "anaconda-cloud": {},
  "kernelspec": {
   "display_name": "Python [conda env:python3]",
   "language": "python",
   "name": "conda-env-python3-py"
  },
  "language_info": {
   "codemirror_mode": {
    "name": "ipython",
    "version": 3
   },
   "file_extension": ".py",
   "mimetype": "text/x-python",
   "name": "python",
   "nbconvert_exporter": "python",
   "pygments_lexer": "ipython3",
   "version": "3.5.2"
  }
 },
 "nbformat": 4,
 "nbformat_minor": 1
}
