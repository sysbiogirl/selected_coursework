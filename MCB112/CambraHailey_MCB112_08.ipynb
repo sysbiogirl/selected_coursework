{
 "cells": [
  {
   "cell_type": "code",
   "execution_count": 1,
   "metadata": {
    "collapsed": true
   },
   "outputs": [],
   "source": [
    "import pandas as pd\n",
    "import numpy as np\n",
    "import matplotlib.pyplot as plt\n",
    "import seaborn as sns\n",
    "\n",
    "%matplotlib inline"
   ]
  },
  {
   "cell_type": "markdown",
   "metadata": {},
   "source": [
    "# 1. Write a python function to run an external edgeR analysis"
   ]
  },
  {
   "cell_type": "code",
   "execution_count": 2,
   "metadata": {
    "collapsed": true
   },
   "outputs": [],
   "source": [
    "def edgeR_run(infile, outfile):\n",
    "    '''\n",
    "    Uses R to run the edgeR program for differential gene analysis on transcript counts from two different biological \n",
    "    groups (i.e. mutant v. WT), with three biological replicates of each.  \n",
    "    \n",
    "    Parameters\n",
    "    ----------\n",
    "    \n",
    "    infile: .tbl file \n",
    "        file that holds transcript counts of genes in a tab-delimited text file with 3 bioloigical replicates for\n",
    "        each transcript count for each gene. \n",
    "    \n",
    "    outfile: .tbl file \n",
    "        file that holds \"logFC\" \"logCPM\" \"PValue\" \"FDR\" values which are output from the edgeR analysis for each \n",
    "        gene\n",
    "    \n",
    "    Returns\n",
    "    -------\n",
    "    \n",
    "    resultdf: pandas DataFrame\n",
    "        DataFrame holding the information for each gene from the outfile to use in python. \n",
    "    \n",
    "    '''\n",
    "    \n",
    "    #write the R script\n",
    "    with open(\"R_script.r\", \"w\") as Rfile:\n",
    "        Rfile.write(\"library(edgeR) \\n\")\n",
    "        Rfile.write(\"infile     <- '{}' \\n\".format(infile))\n",
    "        Rfile.write(\"group      <- factor(c(1,1,1,2,2,2))\\n\")     \n",
    "        Rfile.write(\"outfile    <- '{}' \\n\".format(outfile))\n",
    "\n",
    "        Rfile.write(\"x     <- read.table(infile, sep='\\t', row.names=1) \\n\")\n",
    "        Rfile.write(\"y     <- DGEList(counts=x,group=group) \\n\")\n",
    "        Rfile.write(\"y     <- estimateDisp(y) \\n\")\n",
    "        Rfile.write(\"et    <- exactTest(y) \\n\")\n",
    "        Rfile.write(\"tab   <- topTags(et, nrow(x)) \\n\")\n",
    "        Rfile.write(\"\\n\")\n",
    "        Rfile.write(\"write.table(tab, file=outfile) \\n\")\n",
    "        \n",
    "    !Rscript R_script.r\n",
    "    \n",
    "    resultdf = pd.read_csv(outfile, sep=\" \")\n",
    "    \n",
    "    return resultdf\n",
    "        "
   ]
  },
  {
   "cell_type": "code",
   "execution_count": 3,
   "metadata": {
    "collapsed": false
   },
   "outputs": [
    {
     "name": "stdout",
     "output_type": "stream",
     "text": [
      "Loading required package: limma\n",
      "Design matrix not provided. Switch to the classic mode.\n"
     ]
    }
   ],
   "source": [
    "#test that the Rscript function actually works on the example given for the HW\n",
    "!Rscript analyze_W.r.txt"
   ]
  },
  {
   "cell_type": "code",
   "execution_count": 4,
   "metadata": {
    "collapsed": false
   },
   "outputs": [
    {
     "name": "stdout",
     "output_type": "stream",
     "text": [
      "Loading required package: limma\n",
      "Design matrix not provided. Switch to the classic mode.\n"
     ]
    }
   ],
   "source": [
    "#test that the function I've made works on the example infile given\n",
    "result_edgeR_test = edgeR_run(\"mydata.tbl\", \"mydataoutex.tbl\")"
   ]
  },
  {
   "cell_type": "code",
   "execution_count": 5,
   "metadata": {
    "collapsed": false
   },
   "outputs": [
    {
     "data": {
      "text/html": [
       "<div>\n",
       "<table border=\"1\" class=\"dataframe\">\n",
       "  <thead>\n",
       "    <tr style=\"text-align: right;\">\n",
       "      <th></th>\n",
       "      <th>logFC</th>\n",
       "      <th>logCPM</th>\n",
       "      <th>PValue</th>\n",
       "      <th>FDR</th>\n",
       "    </tr>\n",
       "  </thead>\n",
       "  <tbody>\n",
       "    <tr>\n",
       "      <th>grapefruit</th>\n",
       "      <td>-7.591967</td>\n",
       "      <td>7.903049</td>\n",
       "      <td>1.867039e-33</td>\n",
       "      <td>3.739865e-29</td>\n",
       "    </tr>\n",
       "    <tr>\n",
       "      <th>kohlrabi</th>\n",
       "      <td>-7.107483</td>\n",
       "      <td>8.558358</td>\n",
       "      <td>5.417357e-31</td>\n",
       "      <td>3.176049e-27</td>\n",
       "    </tr>\n",
       "    <tr>\n",
       "      <th>rosemary</th>\n",
       "      <td>-7.098623</td>\n",
       "      <td>8.843683</td>\n",
       "      <td>5.594040e-31</td>\n",
       "      <td>3.176049e-27</td>\n",
       "    </tr>\n",
       "    <tr>\n",
       "      <th>plum</th>\n",
       "      <td>-7.085908</td>\n",
       "      <td>9.893074</td>\n",
       "      <td>6.342268e-31</td>\n",
       "      <td>3.176049e-27</td>\n",
       "    </tr>\n",
       "    <tr>\n",
       "      <th>mustard</th>\n",
       "      <td>-7.042437</td>\n",
       "      <td>11.870897</td>\n",
       "      <td>1.479755e-30</td>\n",
       "      <td>5.928193e-27</td>\n",
       "    </tr>\n",
       "  </tbody>\n",
       "</table>\n",
       "</div>"
      ],
      "text/plain": [
       "               logFC     logCPM        PValue           FDR\n",
       "grapefruit -7.591967   7.903049  1.867039e-33  3.739865e-29\n",
       "kohlrabi   -7.107483   8.558358  5.417357e-31  3.176049e-27\n",
       "rosemary   -7.098623   8.843683  5.594040e-31  3.176049e-27\n",
       "plum       -7.085908   9.893074  6.342268e-31  3.176049e-27\n",
       "mustard    -7.042437  11.870897  1.479755e-30  5.928193e-27"
      ]
     },
     "execution_count": 5,
     "metadata": {},
     "output_type": "execute_result"
    }
   ],
   "source": [
    "#check out results from the example dataset - gives what was asked for in the first part of the pset!\n",
    "result_edgeR_test.head()"
   ]
  },
  {
   "cell_type": "markdown",
   "metadata": {},
   "source": [
    "# 2. Reproduce Wiggins' data, assign the missing labels"
   ]
  },
  {
   "cell_type": "code",
   "execution_count": 6,
   "metadata": {
    "collapsed": true
   },
   "outputs": [],
   "source": [
    "#read in data files and turn into dataframes to work with them\n",
    "data_df1 = pd.read_csv(\"w08-data.1.txt\", sep=\"\\t\")\n",
    "data_df2 = pd.read_csv(\"w08-data.2.txt\", sep=\"\\t\")\n",
    "data_df3 = pd.read_csv(\"w08-data.3.txt\", sep=\"\\t\")"
   ]
  },
  {
   "cell_type": "code",
   "execution_count": 7,
   "metadata": {
    "collapsed": true
   },
   "outputs": [],
   "source": [
    "#create possible combinations of samples to test which two are mutant v. WT and which one is WT v. WT\n",
    "df12 = pd.merge(data_df1, data_df2, on=\"#gene\")\n",
    "df23 = pd.merge(data_df2, data_df3, on=\"#gene\")\n",
    "df13 = pd.merge(data_df1, data_df3, on=\"#gene\")"
   ]
  },
  {
   "cell_type": "code",
   "execution_count": 8,
   "metadata": {
    "collapsed": true
   },
   "outputs": [],
   "source": [
    "#need to turn merged dataframes into files for use in R function\n",
    "df12.to_csv(\"w08-data.12.txt\", sep=\"\\t\", index=None)\n",
    "df23.to_csv(\"w08-data.23.txt\", sep=\"\\t\", index=None)\n",
    "df13.to_csv(\"w08-data.13.txt\", sep=\"\\t\", index=None)"
   ]
  },
  {
   "cell_type": "code",
   "execution_count": 9,
   "metadata": {
    "collapsed": false
   },
   "outputs": [
    {
     "name": "stdout",
     "output_type": "stream",
     "text": [
      "Loading required package: limma\n",
      "Design matrix not provided. Switch to the classic mode.\n"
     ]
    }
   ],
   "source": [
    "#run function on dataset merge 1-2\n",
    "result_edgeR12 = edgeR_run(\"w08-data.12.txt\", \"w08-data.12_out.txt\")"
   ]
  },
  {
   "cell_type": "code",
   "execution_count": 10,
   "metadata": {
    "collapsed": false
   },
   "outputs": [
    {
     "name": "stdout",
     "output_type": "stream",
     "text": [
      "Loading required package: limma\n",
      "Design matrix not provided. Switch to the classic mode.\n"
     ]
    }
   ],
   "source": [
    "#run function on dataset merge 2-3\n",
    "result_edgeR23 = edgeR_run(\"w08-data.23.txt\", \"w08-data.23_out.txt\")"
   ]
  },
  {
   "cell_type": "code",
   "execution_count": 11,
   "metadata": {
    "collapsed": false
   },
   "outputs": [
    {
     "name": "stdout",
     "output_type": "stream",
     "text": [
      "Loading required package: limma\n",
      "Design matrix not provided. Switch to the classic mode.\n"
     ]
    }
   ],
   "source": [
    "#run function on dataset merge 1-3\n",
    "result_edgeR13 = edgeR_run(\"w08-data.13.txt\", \"w08-data.13_out.txt\")"
   ]
  },
  {
   "cell_type": "code",
   "execution_count": 12,
   "metadata": {
    "collapsed": false
   },
   "outputs": [
    {
     "data": {
      "text/html": [
       "<div>\n",
       "<table border=\"1\" class=\"dataframe\">\n",
       "  <thead>\n",
       "    <tr style=\"text-align: right;\">\n",
       "      <th></th>\n",
       "      <th>logFC</th>\n",
       "      <th>logCPM</th>\n",
       "      <th>PValue</th>\n",
       "      <th>FDR</th>\n",
       "    </tr>\n",
       "  </thead>\n",
       "  <tbody>\n",
       "    <tr>\n",
       "      <th>melon</th>\n",
       "      <td>-7.567569</td>\n",
       "      <td>12.950843</td>\n",
       "      <td>5.207330e-34</td>\n",
       "      <td>1.043080e-29</td>\n",
       "    </tr>\n",
       "    <tr>\n",
       "      <th>carrot</th>\n",
       "      <td>-7.412580</td>\n",
       "      <td>11.661138</td>\n",
       "      <td>5.899989e-33</td>\n",
       "      <td>5.909134e-29</td>\n",
       "    </tr>\n",
       "    <tr>\n",
       "      <th>onion</th>\n",
       "      <td>-7.401122</td>\n",
       "      <td>10.372209</td>\n",
       "      <td>9.418965e-33</td>\n",
       "      <td>6.289043e-29</td>\n",
       "    </tr>\n",
       "    <tr>\n",
       "      <th>clementine</th>\n",
       "      <td>-7.301346</td>\n",
       "      <td>8.519468</td>\n",
       "      <td>5.865505e-32</td>\n",
       "      <td>2.937298e-28</td>\n",
       "    </tr>\n",
       "    <tr>\n",
       "      <th>radish</th>\n",
       "      <td>-7.107316</td>\n",
       "      <td>10.114258</td>\n",
       "      <td>4.643946e-31</td>\n",
       "      <td>1.860458e-27</td>\n",
       "    </tr>\n",
       "  </tbody>\n",
       "</table>\n",
       "</div>"
      ],
      "text/plain": [
       "               logFC     logCPM        PValue           FDR\n",
       "melon      -7.567569  12.950843  5.207330e-34  1.043080e-29\n",
       "carrot     -7.412580  11.661138  5.899989e-33  5.909134e-29\n",
       "onion      -7.401122  10.372209  9.418965e-33  6.289043e-29\n",
       "clementine -7.301346   8.519468  5.865505e-32  2.937298e-28\n",
       "radish     -7.107316  10.114258  4.643946e-31  1.860458e-27"
      ]
     },
     "execution_count": 12,
     "metadata": {},
     "output_type": "execute_result"
    }
   ],
   "source": [
    "#make sure getting expected results - first look\n",
    "result_edgeR12.head()"
   ]
  },
  {
   "cell_type": "code",
   "execution_count": 13,
   "metadata": {
    "collapsed": false
   },
   "outputs": [
    {
     "data": {
      "text/plain": [
       "logFC     2135\n",
       "logCPM    2135\n",
       "PValue    2135\n",
       "FDR       2135\n",
       "dtype: int64"
      ]
     },
     "execution_count": 13,
     "metadata": {},
     "output_type": "execute_result"
    }
   ],
   "source": [
    "#count number of genes in merged dataset which have \"significant\" p-values\n",
    "result_edgeR12.loc[result_edgeR12[\"PValue\"] <= 0.05].count()"
   ]
  },
  {
   "cell_type": "code",
   "execution_count": 14,
   "metadata": {
    "collapsed": false
   },
   "outputs": [
    {
     "data": {
      "text/plain": [
       "logFC     996\n",
       "logCPM    996\n",
       "PValue    996\n",
       "FDR       996\n",
       "dtype: int64"
      ]
     },
     "execution_count": 14,
     "metadata": {},
     "output_type": "execute_result"
    }
   ],
   "source": [
    "#count number of genes in merged dataset which have \"significant\" p-values\n",
    "result_edgeR23.loc[result_edgeR23[\"PValue\"] <= 0.05].count()"
   ]
  },
  {
   "cell_type": "code",
   "execution_count": 15,
   "metadata": {
    "collapsed": false
   },
   "outputs": [
    {
     "data": {
      "text/plain": [
       "logFC     2049\n",
       "logCPM    2049\n",
       "PValue    2049\n",
       "FDR       2049\n",
       "dtype: int64"
      ]
     },
     "execution_count": 15,
     "metadata": {},
     "output_type": "execute_result"
    }
   ],
   "source": [
    "#count number of genes in merged dataset which have \"significant\" p-values\n",
    "result_edgeR13.loc[result_edgeR13[\"PValue\"] <= 0.05].count()"
   ]
  },
  {
   "cell_type": "markdown",
   "metadata": {},
   "source": [
    "Wiggins has run the first and second sample groups together for his analysis based on the number of differentially expressed genes having a p-value greater than 0.05. The controls are sample groups 2 and 3 and the mutant is sample group 1 since groups 1 and 3 and 2 and 3 have the most (and a similar number of) differentially expressed genes, whereas 2 and 3 have far fewer differentially expressed genes when compared to each other. "
   ]
  },
  {
   "cell_type": "markdown",
   "metadata": {},
   "source": [
    "# 3. Wiggins doesn't understand p-values"
   ]
  },
  {
   "cell_type": "markdown",
   "metadata": {},
   "source": [
    "I do not agree with Wiggins. About 5% of the 2135 differentially expressed genes could be randomly differentially expressed - so about 100 of the differentially expressed genes could be randomly differentially expressed. When looking at the wild-type samples and comparing them, there are over that many differentially expressed genes, making this metric for distinguishing between the wild-type and mutant unreliable. We should actually be using the FDR here, instead. "
   ]
  },
  {
   "cell_type": "code",
   "execution_count": 16,
   "metadata": {
    "collapsed": false
   },
   "outputs": [
    {
     "data": {
      "text/plain": [
       "logFC     69\n",
       "logCPM    69\n",
       "PValue    69\n",
       "FDR       69\n",
       "dtype: int64"
      ]
     },
     "execution_count": 16,
     "metadata": {},
     "output_type": "execute_result"
    }
   ],
   "source": [
    "#count number of genes in merged dataset which have low false discovery rates\n",
    "result_edgeR12.loc[result_edgeR12[\"FDR\"] <= 0.05].count()"
   ]
  },
  {
   "cell_type": "code",
   "execution_count": 17,
   "metadata": {
    "collapsed": false
   },
   "outputs": [
    {
     "data": {
      "text/plain": [
       "logFC     0\n",
       "logCPM    0\n",
       "PValue    0\n",
       "FDR       0\n",
       "dtype: int64"
      ]
     },
     "execution_count": 17,
     "metadata": {},
     "output_type": "execute_result"
    }
   ],
   "source": [
    "#count number of genes in merged dataset which have low false discovery rates\n",
    "result_edgeR23.loc[result_edgeR23[\"FDR\"] <= 0.05].count()"
   ]
  },
  {
   "cell_type": "code",
   "execution_count": 18,
   "metadata": {
    "collapsed": false
   },
   "outputs": [
    {
     "data": {
      "text/plain": [
       "logFC     76\n",
       "logCPM    76\n",
       "PValue    76\n",
       "FDR       76\n",
       "dtype: int64"
      ]
     },
     "execution_count": 18,
     "metadata": {},
     "output_type": "execute_result"
    }
   ],
   "source": [
    "#count number of genes in merged dataset which have low false discovery rates\n",
    "result_edgeR13.loc[result_edgeR13[\"FDR\"] <= 0.05].count()"
   ]
  },
  {
   "cell_type": "markdown",
   "metadata": {},
   "source": [
    "Using the FDR as a statistical cutoff with the same numerical value yields no differentially expressed genes between the wild-type samples and at least 69 differentially expressed genes between the wild-type (2,3) and mutant (1) sample groups. "
   ]
  },
  {
   "cell_type": "markdown",
   "metadata": {},
   "source": [
    "# 4. Wiggins missed something else too"
   ]
  },
  {
   "cell_type": "markdown",
   "metadata": {},
   "source": [
    "In order to get a better sense of the data that the edgeR outputs, I will do some visualization exercises. "
   ]
  },
  {
   "cell_type": "code",
   "execution_count": 19,
   "metadata": {
    "collapsed": false
   },
   "outputs": [
    {
     "data": {
      "text/plain": [
       "<matplotlib.text.Text at 0x116136690>"
      ]
     },
     "execution_count": 19,
     "metadata": {},
     "output_type": "execute_result"
    },
    {
     "data": {
      "image/png": "[encoded data removed]",
      "text/plain": [
       "<matplotlib.figure.Figure at 0x1165e0d90>"
      ]
     },
     "metadata": {},
     "output_type": "display_data"
    }
   ],
   "source": [
    "#try looking at logCPM alone\n",
    "f, (ax1, ax2, ax3) = plt.subplots(1, 3, sharey=True)\n",
    "\n",
    "ax1.hist(result_edgeR12['logCPM'], bins=100)\n",
    "ax1.set_title(\"EdgeR_12\")\n",
    "ax1.set_xlabel('logCPM')\n",
    "\n",
    "ax2.hist(result_edgeR23['logCPM'], bins=100)\n",
    "ax2.set_title(\"EdgeR_23\")\n",
    "ax2.set_xlabel('logCPM')\n",
    "\n",
    "ax3.hist(result_edgeR13['logCPM'], bins=100)\n",
    "ax3.set_title(\"EdgeR_13\")\n",
    "ax3.set_xlabel('logCPM')"
   ]
  },
  {
   "cell_type": "markdown",
   "metadata": {},
   "source": [
    "The two compared control samples seem to have a slightly wider distribution of logCPM values than the other two compared samples. "
   ]
  },
  {
   "cell_type": "code",
   "execution_count": 20,
   "metadata": {
    "collapsed": false
   },
   "outputs": [
    {
     "data": {
      "text/plain": [
       "<matplotlib.text.Text at 0x1177634d0>"
      ]
     },
     "execution_count": 20,
     "metadata": {},
     "output_type": "execute_result"
    },
    {
     "data": {
      "image/png": "[encoded data removed]",
      "text/plain": [
       "<matplotlib.figure.Figure at 0x11620cfd0>"
      ]
     },
     "metadata": {},
     "output_type": "display_data"
    }
   ],
   "source": [
    "#try looking at logFC alone\n",
    "f, (ax1, ax2, ax3) = plt.subplots(1, 3, sharey=True)\n",
    "\n",
    "ax1.hist(result_edgeR12['logFC'], bins=100)\n",
    "ax1.set_title(\"EdgeR_12\")\n",
    "ax1.set_xlabel(\"logFC\")\n",
    "\n",
    "ax2.hist(result_edgeR23['logFC'], bins=100)\n",
    "ax2.set_title(\"EdgeR_23\")\n",
    "ax2.set_xlabel(\"logFC\")\n",
    "\n",
    "ax3.hist(result_edgeR13['logFC'], bins=100)\n",
    "ax3.set_title(\"EdgeR_13\")\n",
    "ax3.set_xlabel(\"logFC\")"
   ]
  },
  {
   "cell_type": "markdown",
   "metadata": {},
   "source": [
    "The same trend observed for logCPM values seems to be even more pronounced in the logFC value distribution for each set of compared groups. "
   ]
  },
  {
   "cell_type": "code",
   "execution_count": 21,
   "metadata": {
    "collapsed": false
   },
   "outputs": [
    {
     "data": {
      "text/plain": [
       "<matplotlib.axes._subplots.AxesSubplot at 0x1152a9e90>"
      ]
     },
     "execution_count": 21,
     "metadata": {},
     "output_type": "execute_result"
    },
    {
     "data": {
      "image/png": "[encoded data removed]",
      "text/plain": [
       "<matplotlib.figure.Figure at 0x1165e07d0>"
      ]
     },
     "metadata": {},
     "output_type": "display_data"
    }
   ],
   "source": [
    "#try looking at boxplots\n",
    "sns.boxplot(result_edgeR12['logCPM'])\n",
    "sns.boxplot(result_edgeR23['logCPM'])\n",
    "sns.boxplot(result_edgeR13['logCPM'])"
   ]
  },
  {
   "cell_type": "code",
   "execution_count": 22,
   "metadata": {
    "collapsed": false,
    "scrolled": true
   },
   "outputs": [
    {
     "data": {
      "text/plain": [
       "<matplotlib.axes._subplots.AxesSubplot at 0x1165e0550>"
      ]
     },
     "execution_count": 22,
     "metadata": {},
     "output_type": "execute_result"
    },
    {
     "data": {
      "image/png": "[encoded data removed]",
      "text/plain": [
       "<matplotlib.figure.Figure at 0x115e56c50>"
      ]
     },
     "metadata": {},
     "output_type": "display_data"
    }
   ],
   "source": [
    "#try looking at boxplots\n",
    "sns.boxplot(result_edgeR12['logFC'])\n",
    "sns.boxplot(result_edgeR23['logFC'])\n",
    "sns.boxplot(result_edgeR13['logFC'])"
   ]
  },
  {
   "cell_type": "markdown",
   "metadata": {},
   "source": [
    "Actually I didn't find this use of boxplots very informative, but I've included it here to show that I tried to use it to visualize the data differently. "
   ]
  },
  {
   "cell_type": "code",
   "execution_count": 23,
   "metadata": {
    "collapsed": false
   },
   "outputs": [
    {
     "data": {
      "text/plain": [
       "<matplotlib.text.Text at 0x11897f110>"
      ]
     },
     "execution_count": 23,
     "metadata": {},
     "output_type": "execute_result"
    },
    {
     "data": {
      "image/png": "[encoded data removed]",
      "text/plain": [
       "<matplotlib.figure.Figure at 0x118516d10>"
      ]
     },
     "metadata": {},
     "output_type": "display_data"
    }
   ],
   "source": [
    "#try plotting the logCPM by logFC\n",
    "f, (ax1, ax2, ax3) = plt.subplots(1, 3, sharey=True)\n",
    "\n",
    "ax1.scatter(result_edgeR12['logCPM'], result_edgeR12['logFC'])\n",
    "ax1.set_title(\"EdgeR_12\")\n",
    "\n",
    "ax2.scatter(result_edgeR23['logCPM'], result_edgeR23['logFC'])\n",
    "ax2.set_title(\"EdgeR_23\")\n",
    "\n",
    "ax3.scatter(result_edgeR13['logCPM'], result_edgeR13['logFC'])\n",
    "ax3.set_title(\"EdgeR_13\")\n"
   ]
  },
  {
   "cell_type": "markdown",
   "metadata": {},
   "source": [
    "It seems like each of the wild-type to mutant have outliers when comparing the logFC to logCPM values, likely corresponding to the differentially expressed genes, especially since we don't see this subclustering of values in the comparison between wild-type groups. There are some very large fold changes (see below), but some of them may overlap with the genes that aren't actually differentially expressed. However, we can use the logCPM values, which are correlated with the logFC values, as a naive way to find which genes are differentially expressed. We can see from the scatterplot visualiation that the values which seem to be differentially expressed have logFC values below -4.  "
   ]
  },
  {
   "cell_type": "code",
   "execution_count": 24,
   "metadata": {
    "collapsed": false
   },
   "outputs": [
    {
     "data": {
      "text/html": [
       "<div>\n",
       "<table border=\"1\" class=\"dataframe\">\n",
       "  <thead>\n",
       "    <tr style=\"text-align: right;\">\n",
       "      <th></th>\n",
       "      <th>logFC</th>\n",
       "      <th>logCPM</th>\n",
       "      <th>PValue</th>\n",
       "      <th>FDR</th>\n",
       "    </tr>\n",
       "  </thead>\n",
       "  <tbody>\n",
       "    <tr>\n",
       "      <th>radish</th>\n",
       "      <td>-7.710223</td>\n",
       "      <td>10.110706</td>\n",
       "      <td>5.812656e-34</td>\n",
       "      <td>1.164333e-29</td>\n",
       "    </tr>\n",
       "    <tr>\n",
       "      <th>anise</th>\n",
       "      <td>-7.434325</td>\n",
       "      <td>12.253413</td>\n",
       "      <td>2.243284e-32</td>\n",
       "      <td>1.995470e-28</td>\n",
       "    </tr>\n",
       "    <tr>\n",
       "      <th>melon</th>\n",
       "      <td>-7.414251</td>\n",
       "      <td>12.951691</td>\n",
       "      <td>2.988572e-32</td>\n",
       "      <td>1.995470e-28</td>\n",
       "    </tr>\n",
       "    <tr>\n",
       "      <th>carrot</th>\n",
       "      <td>-7.152563</td>\n",
       "      <td>11.662800</td>\n",
       "      <td>8.166828e-31</td>\n",
       "      <td>4.089743e-27</td>\n",
       "    </tr>\n",
       "    <tr>\n",
       "      <th>onion</th>\n",
       "      <td>-7.041222</td>\n",
       "      <td>10.374611</td>\n",
       "      <td>3.214438e-30</td>\n",
       "      <td>1.207967e-26</td>\n",
       "    </tr>\n",
       "    <tr>\n",
       "      <th>chard</th>\n",
       "      <td>-7.029040</td>\n",
       "      <td>9.498554</td>\n",
       "      <td>3.618291e-30</td>\n",
       "      <td>1.207967e-26</td>\n",
       "    </tr>\n",
       "    <tr>\n",
       "      <th>quince</th>\n",
       "      <td>-6.997394</td>\n",
       "      <td>10.053880</td>\n",
       "      <td>5.559759e-30</td>\n",
       "      <td>1.496060e-26</td>\n",
       "    </tr>\n",
       "    <tr>\n",
       "      <th>wasabi</th>\n",
       "      <td>-6.991804</td>\n",
       "      <td>10.063166</td>\n",
       "      <td>5.974978e-30</td>\n",
       "      <td>1.496060e-26</td>\n",
       "    </tr>\n",
       "    <tr>\n",
       "      <th>fig</th>\n",
       "      <td>-6.973156</td>\n",
       "      <td>13.722502</td>\n",
       "      <td>8.804400e-30</td>\n",
       "      <td>1.959566e-26</td>\n",
       "    </tr>\n",
       "    <tr>\n",
       "      <th>sage</th>\n",
       "      <td>-6.938922</td>\n",
       "      <td>9.632748</td>\n",
       "      <td>1.155728e-29</td>\n",
       "      <td>2.315040e-26</td>\n",
       "    </tr>\n",
       "    <tr>\n",
       "      <th>tangerine</th>\n",
       "      <td>-6.886973</td>\n",
       "      <td>8.843131</td>\n",
       "      <td>2.143540e-29</td>\n",
       "      <td>3.903386e-26</td>\n",
       "    </tr>\n",
       "    <tr>\n",
       "      <th>cantaloupe</th>\n",
       "      <td>-6.858668</td>\n",
       "      <td>10.914521</td>\n",
       "      <td>3.413351e-29</td>\n",
       "      <td>5.697737e-26</td>\n",
       "    </tr>\n",
       "    <tr>\n",
       "      <th>yam</th>\n",
       "      <td>-6.834453</td>\n",
       "      <td>9.432050</td>\n",
       "      <td>4.371336e-29</td>\n",
       "      <td>6.254445e-26</td>\n",
       "    </tr>\n",
       "    <tr>\n",
       "      <th>leek</th>\n",
       "      <td>-6.834149</td>\n",
       "      <td>8.085956</td>\n",
       "      <td>4.748899e-29</td>\n",
       "      <td>6.341680e-26</td>\n",
       "    </tr>\n",
       "    <tr>\n",
       "      <th>chickpea</th>\n",
       "      <td>-6.829421</td>\n",
       "      <td>8.251834</td>\n",
       "      <td>4.273092e-29</td>\n",
       "      <td>6.254445e-26</td>\n",
       "    </tr>\n",
       "    <tr>\n",
       "      <th>gooseberry</th>\n",
       "      <td>-6.719304</td>\n",
       "      <td>7.182603</td>\n",
       "      <td>2.446224e-28</td>\n",
       "      <td>3.062519e-25</td>\n",
       "    </tr>\n",
       "    <tr>\n",
       "      <th>broccoli</th>\n",
       "      <td>-6.694008</td>\n",
       "      <td>11.532764</td>\n",
       "      <td>2.875699e-28</td>\n",
       "      <td>3.388419e-25</td>\n",
       "    </tr>\n",
       "    <tr>\n",
       "      <th>kohlrabi</th>\n",
       "      <td>-6.648928</td>\n",
       "      <td>8.903492</td>\n",
       "      <td>4.535556e-28</td>\n",
       "      <td>5.047318e-25</td>\n",
       "    </tr>\n",
       "    <tr>\n",
       "      <th>cabbage</th>\n",
       "      <td>-6.609700</td>\n",
       "      <td>13.621032</td>\n",
       "      <td>9.075408e-28</td>\n",
       "      <td>9.567869e-25</td>\n",
       "    </tr>\n",
       "    <tr>\n",
       "      <th>lavender</th>\n",
       "      <td>-6.586435</td>\n",
       "      <td>10.033916</td>\n",
       "      <td>1.066357e-27</td>\n",
       "      <td>1.068009e-24</td>\n",
       "    </tr>\n",
       "    <tr>\n",
       "      <th>horseradish</th>\n",
       "      <td>-6.535808</td>\n",
       "      <td>6.789671</td>\n",
       "      <td>2.562419e-27</td>\n",
       "      <td>2.444182e-24</td>\n",
       "    </tr>\n",
       "    <tr>\n",
       "      <th>garlic</th>\n",
       "      <td>-6.411321</td>\n",
       "      <td>10.904646</td>\n",
       "      <td>1.028090e-26</td>\n",
       "      <td>9.360761e-24</td>\n",
       "    </tr>\n",
       "    <tr>\n",
       "      <th>cucumber</th>\n",
       "      <td>-6.398775</td>\n",
       "      <td>9.945199</td>\n",
       "      <td>1.161366e-26</td>\n",
       "      <td>1.011448e-23</td>\n",
       "    </tr>\n",
       "    <tr>\n",
       "      <th>celery</th>\n",
       "      <td>-6.349717</td>\n",
       "      <td>12.654692</td>\n",
       "      <td>2.393780e-26</td>\n",
       "      <td>1.997909e-23</td>\n",
       "    </tr>\n",
       "    <tr>\n",
       "      <th>currant</th>\n",
       "      <td>-6.316633</td>\n",
       "      <td>9.574706</td>\n",
       "      <td>3.256555e-26</td>\n",
       "      <td>2.609282e-23</td>\n",
       "    </tr>\n",
       "    <tr>\n",
       "      <th>clementine</th>\n",
       "      <td>-6.245779</td>\n",
       "      <td>8.529238</td>\n",
       "      <td>7.520572e-26</td>\n",
       "      <td>5.794022e-23</td>\n",
       "    </tr>\n",
       "    <tr>\n",
       "      <th>oregano</th>\n",
       "      <td>-6.229269</td>\n",
       "      <td>7.871267</td>\n",
       "      <td>9.146834e-26</td>\n",
       "      <td>6.785934e-23</td>\n",
       "    </tr>\n",
       "    <tr>\n",
       "      <th>artichoke</th>\n",
       "      <td>-6.207130</td>\n",
       "      <td>6.434185</td>\n",
       "      <td>1.564956e-25</td>\n",
       "      <td>1.066810e-22</td>\n",
       "    </tr>\n",
       "    <tr>\n",
       "      <th>cranberry</th>\n",
       "      <td>-6.200340</td>\n",
       "      <td>12.790908</td>\n",
       "      <td>1.597738e-25</td>\n",
       "      <td>1.066810e-22</td>\n",
       "    </tr>\n",
       "    <tr>\n",
       "      <th>coconut</th>\n",
       "      <td>-6.198252</td>\n",
       "      <td>10.759439</td>\n",
       "      <td>1.529856e-25</td>\n",
       "      <td>1.066810e-22</td>\n",
       "    </tr>\n",
       "    <tr>\n",
       "      <th>cherry</th>\n",
       "      <td>-6.143267</td>\n",
       "      <td>11.390538</td>\n",
       "      <td>3.145519e-25</td>\n",
       "      <td>2.032512e-22</td>\n",
       "    </tr>\n",
       "    <tr>\n",
       "      <th>butternut</th>\n",
       "      <td>-6.092471</td>\n",
       "      <td>10.041111</td>\n",
       "      <td>5.688847e-25</td>\n",
       "      <td>3.561040e-22</td>\n",
       "    </tr>\n",
       "    <tr>\n",
       "      <th>orange</th>\n",
       "      <td>-6.081381</td>\n",
       "      <td>8.424798</td>\n",
       "      <td>6.017355e-25</td>\n",
       "      <td>3.652534e-22</td>\n",
       "    </tr>\n",
       "    <tr>\n",
       "      <th>grapefruit</th>\n",
       "      <td>-6.068074</td>\n",
       "      <td>10.208989</td>\n",
       "      <td>7.793153e-25</td>\n",
       "      <td>4.591313e-22</td>\n",
       "    </tr>\n",
       "    <tr>\n",
       "      <th>honeydew</th>\n",
       "      <td>-6.060106</td>\n",
       "      <td>10.621314</td>\n",
       "      <td>8.749893e-25</td>\n",
       "      <td>5.007689e-22</td>\n",
       "    </tr>\n",
       "    <tr>\n",
       "      <th>fennel</th>\n",
       "      <td>-5.991207</td>\n",
       "      <td>11.432984</td>\n",
       "      <td>2.153362e-24</td>\n",
       "      <td>1.198167e-21</td>\n",
       "    </tr>\n",
       "    <tr>\n",
       "      <th>nectarine</th>\n",
       "      <td>-5.971775</td>\n",
       "      <td>8.650836</td>\n",
       "      <td>2.446981e-24</td>\n",
       "      <td>1.315108e-21</td>\n",
       "    </tr>\n",
       "    <tr>\n",
       "      <th>turnip</th>\n",
       "      <td>-5.968268</td>\n",
       "      <td>8.276110</td>\n",
       "      <td>2.494838e-24</td>\n",
       "      <td>1.315108e-21</td>\n",
       "    </tr>\n",
       "    <tr>\n",
       "      <th>pomegranate</th>\n",
       "      <td>-5.950813</td>\n",
       "      <td>10.552380</td>\n",
       "      <td>3.470999e-24</td>\n",
       "      <td>1.782758e-21</td>\n",
       "    </tr>\n",
       "    <tr>\n",
       "      <th>pepper</th>\n",
       "      <td>-5.950587</td>\n",
       "      <td>6.957044</td>\n",
       "      <td>3.941696e-24</td>\n",
       "      <td>1.973903e-21</td>\n",
       "    </tr>\n",
       "    <tr>\n",
       "      <th>kiwi</th>\n",
       "      <td>-5.894137</td>\n",
       "      <td>10.144199</td>\n",
       "      <td>6.993104e-24</td>\n",
       "      <td>3.416558e-21</td>\n",
       "    </tr>\n",
       "    <tr>\n",
       "      <th>cayenne</th>\n",
       "      <td>-5.886466</td>\n",
       "      <td>9.151060</td>\n",
       "      <td>7.438258e-24</td>\n",
       "      <td>3.547518e-21</td>\n",
       "    </tr>\n",
       "    <tr>\n",
       "      <th>rhubarb</th>\n",
       "      <td>-5.840251</td>\n",
       "      <td>10.480482</td>\n",
       "      <td>1.394810e-23</td>\n",
       "      <td>6.497545e-21</td>\n",
       "    </tr>\n",
       "    <tr>\n",
       "      <th>cilantro</th>\n",
       "      <td>-5.749388</td>\n",
       "      <td>7.730221</td>\n",
       "      <td>4.001953e-23</td>\n",
       "      <td>1.821889e-20</td>\n",
       "    </tr>\n",
       "    <tr>\n",
       "      <th>spinach</th>\n",
       "      <td>-5.675154</td>\n",
       "      <td>8.628418</td>\n",
       "      <td>1.026471e-22</td>\n",
       "      <td>4.569164e-20</td>\n",
       "    </tr>\n",
       "    <tr>\n",
       "      <th>watermelon</th>\n",
       "      <td>-5.657449</td>\n",
       "      <td>12.633122</td>\n",
       "      <td>1.480335e-22</td>\n",
       "      <td>6.309064e-20</td>\n",
       "    </tr>\n",
       "    <tr>\n",
       "      <th>thyme</th>\n",
       "      <td>-5.652010</td>\n",
       "      <td>8.001021</td>\n",
       "      <td>1.335226e-22</td>\n",
       "      <td>5.814328e-20</td>\n",
       "    </tr>\n",
       "    <tr>\n",
       "      <th>lentil</th>\n",
       "      <td>-5.612917</td>\n",
       "      <td>11.075779</td>\n",
       "      <td>2.468457e-22</td>\n",
       "      <td>1.030118e-19</td>\n",
       "    </tr>\n",
       "    <tr>\n",
       "      <th>maize</th>\n",
       "      <td>-5.261521</td>\n",
       "      <td>8.410719</td>\n",
       "      <td>1.772425e-20</td>\n",
       "      <td>7.245601e-18</td>\n",
       "    </tr>\n",
       "    <tr>\n",
       "      <th>okra</th>\n",
       "      <td>-5.213913</td>\n",
       "      <td>10.987735</td>\n",
       "      <td>3.520818e-20</td>\n",
       "      <td>1.410510e-17</td>\n",
       "    </tr>\n",
       "    <tr>\n",
       "      <th>RCE1</th>\n",
       "      <td>-2.664527</td>\n",
       "      <td>-4.681954</td>\n",
       "      <td>5.129034e-01</td>\n",
       "      <td>8.523829e-01</td>\n",
       "    </tr>\n",
       "    <tr>\n",
       "      <th>SPATA31A3</th>\n",
       "      <td>-2.215965</td>\n",
       "      <td>-4.241317</td>\n",
       "      <td>1.587801e-01</td>\n",
       "      <td>6.400207e-01</td>\n",
       "    </tr>\n",
       "    <tr>\n",
       "      <th>ARHGEF17</th>\n",
       "      <td>-1.875842</td>\n",
       "      <td>-4.788894</td>\n",
       "      <td>1.000000e+00</td>\n",
       "      <td>1.000000e+00</td>\n",
       "    </tr>\n",
       "    <tr>\n",
       "      <th>FRY</th>\n",
       "      <td>-1.875708</td>\n",
       "      <td>-4.788948</td>\n",
       "      <td>1.000000e+00</td>\n",
       "      <td>1.000000e+00</td>\n",
       "    </tr>\n",
       "    <tr>\n",
       "      <th>OR1N2</th>\n",
       "      <td>-1.825373</td>\n",
       "      <td>4.502782</td>\n",
       "      <td>2.114346e-04</td>\n",
       "      <td>5.429803e-02</td>\n",
       "    </tr>\n",
       "    <tr>\n",
       "      <th>RALGAPB</th>\n",
       "      <td>-1.555485</td>\n",
       "      <td>5.933192</td>\n",
       "      <td>1.234466e-03</td>\n",
       "      <td>1.659570e-01</td>\n",
       "    </tr>\n",
       "    <tr>\n",
       "      <th>PRKAR1A</th>\n",
       "      <td>-1.524776</td>\n",
       "      <td>-1.523010</td>\n",
       "      <td>8.223092e-03</td>\n",
       "      <td>3.031439e-01</td>\n",
       "    </tr>\n",
       "    <tr>\n",
       "      <th>SPHK1</th>\n",
       "      <td>-1.477724</td>\n",
       "      <td>-3.904297</td>\n",
       "      <td>2.057124e-01</td>\n",
       "      <td>6.778888e-01</td>\n",
       "    </tr>\n",
       "    <tr>\n",
       "      <th>GOT1L1</th>\n",
       "      <td>-1.464839</td>\n",
       "      <td>4.240236</td>\n",
       "      <td>2.587135e-03</td>\n",
       "      <td>2.253169e-01</td>\n",
       "    </tr>\n",
       "    <tr>\n",
       "      <th>PROSER3</th>\n",
       "      <td>-1.409270</td>\n",
       "      <td>4.231099</td>\n",
       "      <td>3.690704e-03</td>\n",
       "      <td>2.413553e-01</td>\n",
       "    </tr>\n",
       "  </tbody>\n",
       "</table>\n",
       "</div>"
      ],
      "text/plain": [
       "                logFC     logCPM        PValue           FDR\n",
       "radish      -7.710223  10.110706  5.812656e-34  1.164333e-29\n",
       "anise       -7.434325  12.253413  2.243284e-32  1.995470e-28\n",
       "melon       -7.414251  12.951691  2.988572e-32  1.995470e-28\n",
       "carrot      -7.152563  11.662800  8.166828e-31  4.089743e-27\n",
       "onion       -7.041222  10.374611  3.214438e-30  1.207967e-26\n",
       "chard       -7.029040   9.498554  3.618291e-30  1.207967e-26\n",
       "quince      -6.997394  10.053880  5.559759e-30  1.496060e-26\n",
       "wasabi      -6.991804  10.063166  5.974978e-30  1.496060e-26\n",
       "fig         -6.973156  13.722502  8.804400e-30  1.959566e-26\n",
       "sage        -6.938922   9.632748  1.155728e-29  2.315040e-26\n",
       "tangerine   -6.886973   8.843131  2.143540e-29  3.903386e-26\n",
       "cantaloupe  -6.858668  10.914521  3.413351e-29  5.697737e-26\n",
       "yam         -6.834453   9.432050  4.371336e-29  6.254445e-26\n",
       "leek        -6.834149   8.085956  4.748899e-29  6.341680e-26\n",
       "chickpea    -6.829421   8.251834  4.273092e-29  6.254445e-26\n",
       "gooseberry  -6.719304   7.182603  2.446224e-28  3.062519e-25\n",
       "broccoli    -6.694008  11.532764  2.875699e-28  3.388419e-25\n",
       "kohlrabi    -6.648928   8.903492  4.535556e-28  5.047318e-25\n",
       "cabbage     -6.609700  13.621032  9.075408e-28  9.567869e-25\n",
       "lavender    -6.586435  10.033916  1.066357e-27  1.068009e-24\n",
       "horseradish -6.535808   6.789671  2.562419e-27  2.444182e-24\n",
       "garlic      -6.411321  10.904646  1.028090e-26  9.360761e-24\n",
       "cucumber    -6.398775   9.945199  1.161366e-26  1.011448e-23\n",
       "celery      -6.349717  12.654692  2.393780e-26  1.997909e-23\n",
       "currant     -6.316633   9.574706  3.256555e-26  2.609282e-23\n",
       "clementine  -6.245779   8.529238  7.520572e-26  5.794022e-23\n",
       "oregano     -6.229269   7.871267  9.146834e-26  6.785934e-23\n",
       "artichoke   -6.207130   6.434185  1.564956e-25  1.066810e-22\n",
       "cranberry   -6.200340  12.790908  1.597738e-25  1.066810e-22\n",
       "coconut     -6.198252  10.759439  1.529856e-25  1.066810e-22\n",
       "cherry      -6.143267  11.390538  3.145519e-25  2.032512e-22\n",
       "butternut   -6.092471  10.041111  5.688847e-25  3.561040e-22\n",
       "orange      -6.081381   8.424798  6.017355e-25  3.652534e-22\n",
       "grapefruit  -6.068074  10.208989  7.793153e-25  4.591313e-22\n",
       "honeydew    -6.060106  10.621314  8.749893e-25  5.007689e-22\n",
       "fennel      -5.991207  11.432984  2.153362e-24  1.198167e-21\n",
       "nectarine   -5.971775   8.650836  2.446981e-24  1.315108e-21\n",
       "turnip      -5.968268   8.276110  2.494838e-24  1.315108e-21\n",
       "pomegranate -5.950813  10.552380  3.470999e-24  1.782758e-21\n",
       "pepper      -5.950587   6.957044  3.941696e-24  1.973903e-21\n",
       "kiwi        -5.894137  10.144199  6.993104e-24  3.416558e-21\n",
       "cayenne     -5.886466   9.151060  7.438258e-24  3.547518e-21\n",
       "rhubarb     -5.840251  10.480482  1.394810e-23  6.497545e-21\n",
       "cilantro    -5.749388   7.730221  4.001953e-23  1.821889e-20\n",
       "spinach     -5.675154   8.628418  1.026471e-22  4.569164e-20\n",
       "watermelon  -5.657449  12.633122  1.480335e-22  6.309064e-20\n",
       "thyme       -5.652010   8.001021  1.335226e-22  5.814328e-20\n",
       "lentil      -5.612917  11.075779  2.468457e-22  1.030118e-19\n",
       "maize       -5.261521   8.410719  1.772425e-20  7.245601e-18\n",
       "okra        -5.213913  10.987735  3.520818e-20  1.410510e-17\n",
       "RCE1        -2.664527  -4.681954  5.129034e-01  8.523829e-01\n",
       "SPATA31A3   -2.215965  -4.241317  1.587801e-01  6.400207e-01\n",
       "ARHGEF17    -1.875842  -4.788894  1.000000e+00  1.000000e+00\n",
       "FRY         -1.875708  -4.788948  1.000000e+00  1.000000e+00\n",
       "OR1N2       -1.825373   4.502782  2.114346e-04  5.429803e-02\n",
       "RALGAPB     -1.555485   5.933192  1.234466e-03  1.659570e-01\n",
       "PRKAR1A     -1.524776  -1.523010  8.223092e-03  3.031439e-01\n",
       "SPHK1       -1.477724  -3.904297  2.057124e-01  6.778888e-01\n",
       "GOT1L1      -1.464839   4.240236  2.587135e-03  2.253169e-01\n",
       "PROSER3     -1.409270   4.231099  3.690704e-03  2.413553e-01"
      ]
     },
     "execution_count": 24,
     "metadata": {},
     "output_type": "execute_result"
    }
   ],
   "source": [
    "result_edgeR13.sort_values(\"logFC\").head(60)"
   ]
  },
  {
   "cell_type": "code",
   "execution_count": 25,
   "metadata": {
    "collapsed": false
   },
   "outputs": [
    {
     "data": {
      "text/plain": [
       "logFC     50\n",
       "logCPM    50\n",
       "PValue    50\n",
       "FDR       50\n",
       "dtype: int64"
      ]
     },
     "execution_count": 25,
     "metadata": {},
     "output_type": "execute_result"
    }
   ],
   "source": [
    "result_edgeR12.loc[result_edgeR12[\"logFC\"] < -4].count()"
   ]
  },
  {
   "cell_type": "code",
   "execution_count": 26,
   "metadata": {
    "collapsed": false
   },
   "outputs": [
    {
     "data": {
      "text/plain": [
       "logFC     19\n",
       "logCPM    19\n",
       "PValue    19\n",
       "FDR       19\n",
       "dtype: int64"
      ]
     },
     "execution_count": 26,
     "metadata": {},
     "output_type": "execute_result"
    }
   ],
   "source": [
    "#how many genes are both within the FDR cutoff, but would be excluded using the logFC cutoff\n",
    "result_edgeR12.loc[(result_edgeR12[\"logFC\"] > -4) & (result_edgeR12[\"FDR\"] < 0.05)].count()"
   ]
  },
  {
   "cell_type": "markdown",
   "metadata": {},
   "source": [
    "Seems to be exactly the excess number of genes expected, based on the number of genes within the FDR cutoff (69)"
   ]
  },
  {
   "cell_type": "code",
   "execution_count": 27,
   "metadata": {
    "collapsed": false
   },
   "outputs": [
    {
     "data": {
      "text/plain": [
       "logFC     0\n",
       "logCPM    0\n",
       "PValue    0\n",
       "FDR       0\n",
       "dtype: int64"
      ]
     },
     "execution_count": 27,
     "metadata": {},
     "output_type": "execute_result"
    }
   ],
   "source": [
    "result_edgeR23.loc[result_edgeR23[\"logFC\"] < -4].count()"
   ]
  },
  {
   "cell_type": "code",
   "execution_count": 28,
   "metadata": {
    "collapsed": false,
    "scrolled": true
   },
   "outputs": [
    {
     "data": {
      "text/plain": [
       "logFC     0\n",
       "logCPM    0\n",
       "PValue    0\n",
       "FDR       0\n",
       "dtype: int64"
      ]
     },
     "execution_count": 28,
     "metadata": {},
     "output_type": "execute_result"
    }
   ],
   "source": [
    "#how many genes are both within the FDR cutoff, but would be excluded using the logFC cutoff\n",
    "result_edgeR23.loc[(result_edgeR23[\"logFC\"] > -4) & (result_edgeR23[\"FDR\"] < 0.05)].count()"
   ]
  },
  {
   "cell_type": "markdown",
   "metadata": {},
   "source": [
    "Good. Expected nothing to change when comparing the WT groups to each other. "
   ]
  },
  {
   "cell_type": "code",
   "execution_count": 29,
   "metadata": {
    "collapsed": false
   },
   "outputs": [
    {
     "data": {
      "text/plain": [
       "logFC     50\n",
       "logCPM    50\n",
       "PValue    50\n",
       "FDR       50\n",
       "dtype: int64"
      ]
     },
     "execution_count": 29,
     "metadata": {},
     "output_type": "execute_result"
    }
   ],
   "source": [
    "result_edgeR13.loc[result_edgeR13[\"logFC\"] < -4].count()"
   ]
  },
  {
   "cell_type": "code",
   "execution_count": 30,
   "metadata": {
    "collapsed": false,
    "scrolled": true
   },
   "outputs": [
    {
     "data": {
      "text/plain": [
       "logFC     26\n",
       "logCPM    26\n",
       "PValue    26\n",
       "FDR       26\n",
       "dtype: int64"
      ]
     },
     "execution_count": 30,
     "metadata": {},
     "output_type": "execute_result"
    }
   ],
   "source": [
    "#how many genes are both within the FDR cutoff, but would be excluded using the logFC cutoff\n",
    "result_edgeR13.loc[(result_edgeR13[\"logFC\"] > -4) & (result_edgeR13[\"FDR\"] < 0.05)].count()"
   ]
  },
  {
   "cell_type": "markdown",
   "metadata": {},
   "source": [
    "Seems to be exactly the excess number of genes expected, based on the number of genes within the FDR cutoff (76)"
   ]
  },
  {
   "cell_type": "markdown",
   "metadata": {},
   "source": [
    "### So what is happening? ... "
   ]
  },
  {
   "cell_type": "markdown",
   "metadata": {},
   "source": [
    "The relative abundances of each of the transcript counts depends on other genes, and when we have genes with such a high count number, it skews the relative abundances of transcripts, so that if there are genes where there is a very high count number, the logfold change of all other genes has to decrease as well, making it seem like these genes are differentially expressed, when really this is an indirect effect from a massively overexpressed gene. We can correct for this in the edgeR function by adding the TMM normalization feature to the function that is already written from part 1. \n"
   ]
  },
  {
   "cell_type": "code",
   "execution_count": 31,
   "metadata": {
    "collapsed": true
   },
   "outputs": [],
   "source": [
    "def edgeR_run_norm(infile, outfile):\n",
    "    '''\n",
    "    Uses R to run the edgeR program for differential gene analysis on transcript counts from two different biological \n",
    "    groups (i.e. mutant v. WT), with three biological replicates of each. This version includes the TMM normalization \n",
    "    step - using a weighted trimmed mean of the log expression ratios  to correct for the effect of genes with larger \n",
    "    counts having a lower variance on the log scale (Robinson and Oshlack, 2010). \n",
    "    \n",
    "    Parameters\n",
    "    ----------\n",
    "    \n",
    "    infile: .tbl file \n",
    "        file that holds transcript counts of genes in a tab-delimited text file with 3 bioloigical replicates for\n",
    "        each transcript count for each gene. \n",
    "    \n",
    "    outfile: .tbl file \n",
    "        file that holds \"logFC\" \"logCPM\" \"PValue\" \"FDR\" values which are output from the edgeR analysis for each \n",
    "        gene\n",
    "    \n",
    "    Returns\n",
    "    -------\n",
    "    \n",
    "    resultdf: pandas DataFrame\n",
    "        DataFrame holding the information for each gene from the outfile to use in python. \n",
    "    \n",
    "    '''\n",
    "    \n",
    "    #write the R script\n",
    "    with open(\"R_script.r\", \"w\") as Rfile:\n",
    "        Rfile.write(\"library(edgeR) \\n\")\n",
    "        Rfile.write(\"infile     <- '{}' \\n\".format(infile))\n",
    "        Rfile.write(\"group      <- factor(c(1,1,1,2,2,2))\\n\")     \n",
    "        Rfile.write(\"outfile    <- '{}' \\n\".format(outfile))\n",
    "\n",
    "        Rfile.write(\"x     <- read.table(infile, sep='\\t', row.names=1) \\n\")\n",
    "        Rfile.write(\"y     <- DGEList(counts=x,group=group) \\n\")\n",
    "        #TMM normalization\n",
    "        Rfile.write(\"y     <- calcNormFactors(y) \\n\")\n",
    "        Rfile.write(\"y     <- estimateDisp(y) \\n\")\n",
    "        Rfile.write(\"et    <- exactTest(y) \\n\")\n",
    "        Rfile.write(\"tab   <- topTags(et, nrow(x)) \\n\")\n",
    "        Rfile.write(\"\\n\")\n",
    "        Rfile.write(\"write.table(tab, file=outfile) \\n\")\n",
    "        \n",
    "    !Rscript R_script.r\n",
    "    \n",
    "    resultdf = pd.read_csv(outfile, sep=\" \")\n",
    "    \n",
    "    return resultdf\n",
    "        "
   ]
  },
  {
   "cell_type": "code",
   "execution_count": 32,
   "metadata": {
    "collapsed": false
   },
   "outputs": [
    {
     "name": "stdout",
     "output_type": "stream",
     "text": [
      "Loading required package: limma\n",
      "Design matrix not provided. Switch to the classic mode.\n"
     ]
    }
   ],
   "source": [
    "result_edgeR12_norm = edgeR_run_norm(\"w08-data.12.txt\", \"w08-data.12_out_norm.txt\")"
   ]
  },
  {
   "cell_type": "code",
   "execution_count": 33,
   "metadata": {
    "collapsed": false
   },
   "outputs": [
    {
     "name": "stdout",
     "output_type": "stream",
     "text": [
      "Loading required package: limma\n",
      "Design matrix not provided. Switch to the classic mode.\n"
     ]
    }
   ],
   "source": [
    "result_edgeR23_norm = edgeR_run_norm(\"w08-data.23.txt\", \"w08-data.23_out_norm.txt\")"
   ]
  },
  {
   "cell_type": "code",
   "execution_count": 34,
   "metadata": {
    "collapsed": false
   },
   "outputs": [
    {
     "name": "stdout",
     "output_type": "stream",
     "text": [
      "Loading required package: limma\n",
      "Design matrix not provided. Switch to the classic mode.\n"
     ]
    }
   ],
   "source": [
    "result_edgeR13_norm = edgeR_run_norm(\"w08-data.13.txt\", \"w08-data.13_out_norm.txt\")"
   ]
  },
  {
   "cell_type": "code",
   "execution_count": 35,
   "metadata": {
    "collapsed": false
   },
   "outputs": [
    {
     "data": {
      "text/plain": [
       "logFC     53\n",
       "logCPM    53\n",
       "PValue    53\n",
       "FDR       53\n",
       "dtype: int64"
      ]
     },
     "execution_count": 35,
     "metadata": {},
     "output_type": "execute_result"
    }
   ],
   "source": [
    "result_edgeR12_norm.loc[result_edgeR12_norm[\"FDR\"] <= 0.05].count()"
   ]
  },
  {
   "cell_type": "code",
   "execution_count": 36,
   "metadata": {
    "collapsed": false
   },
   "outputs": [
    {
     "data": {
      "text/plain": [
       "logFC     0\n",
       "logCPM    0\n",
       "PValue    0\n",
       "FDR       0\n",
       "dtype: int64"
      ]
     },
     "execution_count": 36,
     "metadata": {},
     "output_type": "execute_result"
    }
   ],
   "source": [
    "result_edgeR23_norm.loc[result_edgeR23_norm[\"FDR\"] <= 0.05].count()"
   ]
  },
  {
   "cell_type": "code",
   "execution_count": 37,
   "metadata": {
    "collapsed": false
   },
   "outputs": [
    {
     "data": {
      "text/plain": [
       "logFC     52\n",
       "logCPM    52\n",
       "PValue    52\n",
       "FDR       52\n",
       "dtype: int64"
      ]
     },
     "execution_count": 37,
     "metadata": {},
     "output_type": "execute_result"
    }
   ],
   "source": [
    "result_edgeR13_norm.loc[result_edgeR13_norm[\"FDR\"] <= 0.05].count()"
   ]
  },
  {
   "cell_type": "code",
   "execution_count": 38,
   "metadata": {
    "collapsed": false
   },
   "outputs": [
    {
     "data": {
      "text/html": [
       "<div>\n",
       "<table border=\"1\" class=\"dataframe\">\n",
       "  <thead>\n",
       "    <tr style=\"text-align: right;\">\n",
       "      <th></th>\n",
       "      <th>logFC</th>\n",
       "      <th>logCPM</th>\n",
       "      <th>PValue</th>\n",
       "      <th>FDR</th>\n",
       "    </tr>\n",
       "  </thead>\n",
       "  <tbody>\n",
       "    <tr>\n",
       "      <th>melon</th>\n",
       "      <td>-7.883256</td>\n",
       "      <td>13.106453</td>\n",
       "      <td>7.448672e-36</td>\n",
       "      <td>1.492043e-31</td>\n",
       "    </tr>\n",
       "    <tr>\n",
       "      <th>carrot</th>\n",
       "      <td>-7.728337</td>\n",
       "      <td>11.816293</td>\n",
       "      <td>8.903684e-35</td>\n",
       "      <td>8.917485e-31</td>\n",
       "    </tr>\n",
       "    <tr>\n",
       "      <th>onion</th>\n",
       "      <td>-7.715469</td>\n",
       "      <td>10.527586</td>\n",
       "      <td>1.515384e-34</td>\n",
       "      <td>1.011822e-30</td>\n",
       "    </tr>\n",
       "    <tr>\n",
       "      <th>clementine</th>\n",
       "      <td>-7.615986</td>\n",
       "      <td>8.674901</td>\n",
       "      <td>1.035424e-33</td>\n",
       "      <td>5.185145e-30</td>\n",
       "    </tr>\n",
       "    <tr>\n",
       "      <th>radish</th>\n",
       "      <td>-7.422717</td>\n",
       "      <td>10.270226</td>\n",
       "      <td>7.506175e-33</td>\n",
       "      <td>3.007124e-29</td>\n",
       "    </tr>\n",
       "    <tr>\n",
       "      <th>leek</th>\n",
       "      <td>-7.440522</td>\n",
       "      <td>8.238727</td>\n",
       "      <td>1.105183e-32</td>\n",
       "      <td>3.689652e-29</td>\n",
       "    </tr>\n",
       "    <tr>\n",
       "      <th>tangerine</th>\n",
       "      <td>-7.383394</td>\n",
       "      <td>8.997487</td>\n",
       "      <td>1.654583e-32</td>\n",
       "      <td>4.734708e-29</td>\n",
       "    </tr>\n",
       "    <tr>\n",
       "      <th>wasabi</th>\n",
       "      <td>-7.283719</td>\n",
       "      <td>10.219337</td>\n",
       "      <td>4.678097e-32</td>\n",
       "      <td>1.171337e-28</td>\n",
       "    </tr>\n",
       "    <tr>\n",
       "      <th>kohlrabi</th>\n",
       "      <td>-7.120627</td>\n",
       "      <td>9.056401</td>\n",
       "      <td>5.025987e-31</td>\n",
       "      <td>1.118617e-27</td>\n",
       "    </tr>\n",
       "    <tr>\n",
       "      <th>cherry</th>\n",
       "      <td>-7.018215</td>\n",
       "      <td>11.539524</td>\n",
       "      <td>1.089747e-30</td>\n",
       "      <td>2.182873e-27</td>\n",
       "    </tr>\n",
       "    <tr>\n",
       "      <th>chickpea</th>\n",
       "      <td>-7.047543</td>\n",
       "      <td>8.407175</td>\n",
       "      <td>1.379454e-30</td>\n",
       "      <td>2.511986e-27</td>\n",
       "    </tr>\n",
       "    <tr>\n",
       "      <th>sage</th>\n",
       "      <td>-7.022854</td>\n",
       "      <td>9.789243</td>\n",
       "      <td>1.558719e-30</td>\n",
       "      <td>2.601892e-27</td>\n",
       "    </tr>\n",
       "    <tr>\n",
       "      <th>fig</th>\n",
       "      <td>-6.932355</td>\n",
       "      <td>13.879924</td>\n",
       "      <td>1.717981e-30</td>\n",
       "      <td>2.647145e-27</td>\n",
       "    </tr>\n",
       "    <tr>\n",
       "      <th>anise</th>\n",
       "      <td>-6.942290</td>\n",
       "      <td>12.414060</td>\n",
       "      <td>2.298438e-30</td>\n",
       "      <td>3.288572e-27</td>\n",
       "    </tr>\n",
       "    <tr>\n",
       "      <th>celery</th>\n",
       "      <td>-6.918503</td>\n",
       "      <td>12.806085</td>\n",
       "      <td>2.808154e-30</td>\n",
       "      <td>3.750009e-27</td>\n",
       "    </tr>\n",
       "    <tr>\n",
       "      <th>cabbage</th>\n",
       "      <td>-6.886573</td>\n",
       "      <td>13.776660</td>\n",
       "      <td>3.239305e-30</td>\n",
       "      <td>4.055407e-27</td>\n",
       "    </tr>\n",
       "    <tr>\n",
       "      <th>broccoli</th>\n",
       "      <td>-6.857832</td>\n",
       "      <td>11.689494</td>\n",
       "      <td>8.534513e-30</td>\n",
       "      <td>1.005617e-26</td>\n",
       "    </tr>\n",
       "    <tr>\n",
       "      <th>chard</th>\n",
       "      <td>-6.858922</td>\n",
       "      <td>9.656860</td>\n",
       "      <td>1.353971e-29</td>\n",
       "      <td>1.506744e-26</td>\n",
       "    </tr>\n",
       "    <tr>\n",
       "      <th>yam</th>\n",
       "      <td>-6.768484</td>\n",
       "      <td>9.590481</td>\n",
       "      <td>4.444093e-29</td>\n",
       "      <td>4.685244e-26</td>\n",
       "    </tr>\n",
       "    <tr>\n",
       "      <th>fennel</th>\n",
       "      <td>-6.695882</td>\n",
       "      <td>11.581319</td>\n",
       "      <td>7.285630e-29</td>\n",
       "      <td>7.154983e-26</td>\n",
       "    </tr>\n",
       "    <tr>\n",
       "      <th>coconut</th>\n",
       "      <td>-6.705217</td>\n",
       "      <td>10.910178</td>\n",
       "      <td>7.501105e-29</td>\n",
       "      <td>7.154983e-26</td>\n",
       "    </tr>\n",
       "    <tr>\n",
       "      <th>gooseberry</th>\n",
       "      <td>-6.701449</td>\n",
       "      <td>7.340219</td>\n",
       "      <td>1.381822e-28</td>\n",
       "      <td>1.258149e-25</td>\n",
       "    </tr>\n",
       "    <tr>\n",
       "      <th>cantaloupe</th>\n",
       "      <td>-6.577401</td>\n",
       "      <td>11.074422</td>\n",
       "      <td>3.813762e-28</td>\n",
       "      <td>3.321455e-25</td>\n",
       "    </tr>\n",
       "    <tr>\n",
       "      <th>cucumber</th>\n",
       "      <td>-6.542100</td>\n",
       "      <td>10.101089</td>\n",
       "      <td>7.454083e-28</td>\n",
       "      <td>6.221364e-25</td>\n",
       "    </tr>\n",
       "    <tr>\n",
       "      <th>artichoke</th>\n",
       "      <td>-6.564816</td>\n",
       "      <td>6.585941</td>\n",
       "      <td>9.122154e-28</td>\n",
       "      <td>7.309035e-25</td>\n",
       "    </tr>\n",
       "    <tr>\n",
       "      <th>orange</th>\n",
       "      <td>-6.509221</td>\n",
       "      <td>8.576463</td>\n",
       "      <td>1.439378e-27</td>\n",
       "      <td>1.099617e-24</td>\n",
       "    </tr>\n",
       "    <tr>\n",
       "      <th>honeydew</th>\n",
       "      <td>-6.477892</td>\n",
       "      <td>10.772250</td>\n",
       "      <td>1.482186e-27</td>\n",
       "      <td>1.099617e-24</td>\n",
       "    </tr>\n",
       "    <tr>\n",
       "      <th>grapefruit</th>\n",
       "      <td>-6.474451</td>\n",
       "      <td>10.362213</td>\n",
       "      <td>1.691944e-27</td>\n",
       "      <td>1.210404e-24</td>\n",
       "    </tr>\n",
       "    <tr>\n",
       "      <th>lavender</th>\n",
       "      <td>-6.405282</td>\n",
       "      <td>10.192468</td>\n",
       "      <td>4.292457e-27</td>\n",
       "      <td>2.964904e-24</td>\n",
       "    </tr>\n",
       "    <tr>\n",
       "      <th>nectarine</th>\n",
       "      <td>-6.359717</td>\n",
       "      <td>8.803994</td>\n",
       "      <td>9.693301e-27</td>\n",
       "      <td>6.472217e-24</td>\n",
       "    </tr>\n",
       "    <tr>\n",
       "      <th>quince</th>\n",
       "      <td>-6.327906</td>\n",
       "      <td>10.217071</td>\n",
       "      <td>1.160478e-26</td>\n",
       "      <td>7.498558e-24</td>\n",
       "    </tr>\n",
       "    <tr>\n",
       "      <th>cayenne</th>\n",
       "      <td>-6.313008</td>\n",
       "      <td>9.301943</td>\n",
       "      <td>1.699468e-26</td>\n",
       "      <td>1.063814e-23</td>\n",
       "    </tr>\n",
       "    <tr>\n",
       "      <th>rhubarb</th>\n",
       "      <td>-6.277579</td>\n",
       "      <td>10.631725</td>\n",
       "      <td>2.040900e-26</td>\n",
       "      <td>1.238826e-23</td>\n",
       "    </tr>\n",
       "    <tr>\n",
       "      <th>cranberry</th>\n",
       "      <td>-6.217096</td>\n",
       "      <td>12.948742</td>\n",
       "      <td>2.629331e-26</td>\n",
       "      <td>1.549063e-23</td>\n",
       "    </tr>\n",
       "    <tr>\n",
       "      <th>butternut</th>\n",
       "      <td>-6.256045</td>\n",
       "      <td>10.195323</td>\n",
       "      <td>2.946472e-26</td>\n",
       "      <td>1.686308e-23</td>\n",
       "    </tr>\n",
       "    <tr>\n",
       "      <th>oregano</th>\n",
       "      <td>-6.265274</td>\n",
       "      <td>8.027057</td>\n",
       "      <td>3.395347e-26</td>\n",
       "      <td>1.889228e-23</td>\n",
       "    </tr>\n",
       "    <tr>\n",
       "      <th>kiwi</th>\n",
       "      <td>-6.223766</td>\n",
       "      <td>10.297261</td>\n",
       "      <td>4.375892e-26</td>\n",
       "      <td>2.369013e-23</td>\n",
       "    </tr>\n",
       "    <tr>\n",
       "      <th>garlic</th>\n",
       "      <td>-6.196419</td>\n",
       "      <td>11.065464</td>\n",
       "      <td>5.333066e-26</td>\n",
       "      <td>2.811227e-23</td>\n",
       "    </tr>\n",
       "    <tr>\n",
       "      <th>pomegranate</th>\n",
       "      <td>-6.090600</td>\n",
       "      <td>10.708020</td>\n",
       "      <td>2.242642e-25</td>\n",
       "      <td>1.151855e-22</td>\n",
       "    </tr>\n",
       "    <tr>\n",
       "      <th>lentil</th>\n",
       "      <td>-6.039626</td>\n",
       "      <td>11.226367</td>\n",
       "      <td>3.908592e-25</td>\n",
       "      <td>1.957325e-22</td>\n",
       "    </tr>\n",
       "    <tr>\n",
       "      <th>turnip</th>\n",
       "      <td>-6.027670</td>\n",
       "      <td>8.431952</td>\n",
       "      <td>7.067262e-25</td>\n",
       "      <td>3.452788e-22</td>\n",
       "    </tr>\n",
       "    <tr>\n",
       "      <th>currant</th>\n",
       "      <td>-5.991242</td>\n",
       "      <td>9.737468</td>\n",
       "      <td>9.704650e-25</td>\n",
       "      <td>4.628425e-22</td>\n",
       "    </tr>\n",
       "    <tr>\n",
       "      <th>spinach</th>\n",
       "      <td>-5.945483</td>\n",
       "      <td>8.782849</td>\n",
       "      <td>1.967113e-24</td>\n",
       "      <td>9.163545e-22</td>\n",
       "    </tr>\n",
       "    <tr>\n",
       "      <th>watermelon</th>\n",
       "      <td>-5.843558</td>\n",
       "      <td>12.788442</td>\n",
       "      <td>3.476638e-24</td>\n",
       "      <td>1.582739e-21</td>\n",
       "    </tr>\n",
       "    <tr>\n",
       "      <th>okra</th>\n",
       "      <td>-5.798097</td>\n",
       "      <td>11.134610</td>\n",
       "      <td>8.872982e-24</td>\n",
       "      <td>3.887022e-21</td>\n",
       "    </tr>\n",
       "    <tr>\n",
       "      <th>thyme</th>\n",
       "      <td>-5.830450</td>\n",
       "      <td>8.154564</td>\n",
       "      <td>8.926314e-24</td>\n",
       "      <td>3.887022e-21</td>\n",
       "    </tr>\n",
       "    <tr>\n",
       "      <th>horseradish</th>\n",
       "      <td>-5.801583</td>\n",
       "      <td>6.956899</td>\n",
       "      <td>1.232892e-23</td>\n",
       "      <td>5.254480e-21</td>\n",
       "    </tr>\n",
       "    <tr>\n",
       "      <th>pepper</th>\n",
       "      <td>-5.715244</td>\n",
       "      <td>7.118072</td>\n",
       "      <td>3.185848e-23</td>\n",
       "      <td>1.329494e-20</td>\n",
       "    </tr>\n",
       "    <tr>\n",
       "      <th>cilantro</th>\n",
       "      <td>-5.459152</td>\n",
       "      <td>7.893723</td>\n",
       "      <td>9.645047e-22</td>\n",
       "      <td>3.942856e-19</td>\n",
       "    </tr>\n",
       "    <tr>\n",
       "      <th>maize</th>\n",
       "      <td>-5.388496</td>\n",
       "      <td>8.565706</td>\n",
       "      <td>2.333958e-21</td>\n",
       "      <td>9.350302e-19</td>\n",
       "    </tr>\n",
       "    <tr>\n",
       "      <th>RP11-444E17.6</th>\n",
       "      <td>-2.181544</td>\n",
       "      <td>7.595856</td>\n",
       "      <td>9.209428e-06</td>\n",
       "      <td>3.617138e-03</td>\n",
       "    </tr>\n",
       "    <tr>\n",
       "      <th>EXOC7</th>\n",
       "      <td>2.116115</td>\n",
       "      <td>4.107097</td>\n",
       "      <td>1.970177e-05</td>\n",
       "      <td>7.589350e-03</td>\n",
       "    </tr>\n",
       "    <tr>\n",
       "      <th>ASNA1</th>\n",
       "      <td>-2.003171</td>\n",
       "      <td>0.651577</td>\n",
       "      <td>9.149313e-05</td>\n",
       "      <td>3.457922e-02</td>\n",
       "    </tr>\n",
       "  </tbody>\n",
       "</table>\n",
       "</div>"
      ],
      "text/plain": [
       "                  logFC     logCPM        PValue           FDR\n",
       "melon         -7.883256  13.106453  7.448672e-36  1.492043e-31\n",
       "carrot        -7.728337  11.816293  8.903684e-35  8.917485e-31\n",
       "onion         -7.715469  10.527586  1.515384e-34  1.011822e-30\n",
       "clementine    -7.615986   8.674901  1.035424e-33  5.185145e-30\n",
       "radish        -7.422717  10.270226  7.506175e-33  3.007124e-29\n",
       "leek          -7.440522   8.238727  1.105183e-32  3.689652e-29\n",
       "tangerine     -7.383394   8.997487  1.654583e-32  4.734708e-29\n",
       "wasabi        -7.283719  10.219337  4.678097e-32  1.171337e-28\n",
       "kohlrabi      -7.120627   9.056401  5.025987e-31  1.118617e-27\n",
       "cherry        -7.018215  11.539524  1.089747e-30  2.182873e-27\n",
       "chickpea      -7.047543   8.407175  1.379454e-30  2.511986e-27\n",
       "sage          -7.022854   9.789243  1.558719e-30  2.601892e-27\n",
       "fig           -6.932355  13.879924  1.717981e-30  2.647145e-27\n",
       "anise         -6.942290  12.414060  2.298438e-30  3.288572e-27\n",
       "celery        -6.918503  12.806085  2.808154e-30  3.750009e-27\n",
       "cabbage       -6.886573  13.776660  3.239305e-30  4.055407e-27\n",
       "broccoli      -6.857832  11.689494  8.534513e-30  1.005617e-26\n",
       "chard         -6.858922   9.656860  1.353971e-29  1.506744e-26\n",
       "yam           -6.768484   9.590481  4.444093e-29  4.685244e-26\n",
       "fennel        -6.695882  11.581319  7.285630e-29  7.154983e-26\n",
       "coconut       -6.705217  10.910178  7.501105e-29  7.154983e-26\n",
       "gooseberry    -6.701449   7.340219  1.381822e-28  1.258149e-25\n",
       "cantaloupe    -6.577401  11.074422  3.813762e-28  3.321455e-25\n",
       "cucumber      -6.542100  10.101089  7.454083e-28  6.221364e-25\n",
       "artichoke     -6.564816   6.585941  9.122154e-28  7.309035e-25\n",
       "orange        -6.509221   8.576463  1.439378e-27  1.099617e-24\n",
       "honeydew      -6.477892  10.772250  1.482186e-27  1.099617e-24\n",
       "grapefruit    -6.474451  10.362213  1.691944e-27  1.210404e-24\n",
       "lavender      -6.405282  10.192468  4.292457e-27  2.964904e-24\n",
       "nectarine     -6.359717   8.803994  9.693301e-27  6.472217e-24\n",
       "quince        -6.327906  10.217071  1.160478e-26  7.498558e-24\n",
       "cayenne       -6.313008   9.301943  1.699468e-26  1.063814e-23\n",
       "rhubarb       -6.277579  10.631725  2.040900e-26  1.238826e-23\n",
       "cranberry     -6.217096  12.948742  2.629331e-26  1.549063e-23\n",
       "butternut     -6.256045  10.195323  2.946472e-26  1.686308e-23\n",
       "oregano       -6.265274   8.027057  3.395347e-26  1.889228e-23\n",
       "kiwi          -6.223766  10.297261  4.375892e-26  2.369013e-23\n",
       "garlic        -6.196419  11.065464  5.333066e-26  2.811227e-23\n",
       "pomegranate   -6.090600  10.708020  2.242642e-25  1.151855e-22\n",
       "lentil        -6.039626  11.226367  3.908592e-25  1.957325e-22\n",
       "turnip        -6.027670   8.431952  7.067262e-25  3.452788e-22\n",
       "currant       -5.991242   9.737468  9.704650e-25  4.628425e-22\n",
       "spinach       -5.945483   8.782849  1.967113e-24  9.163545e-22\n",
       "watermelon    -5.843558  12.788442  3.476638e-24  1.582739e-21\n",
       "okra          -5.798097  11.134610  8.872982e-24  3.887022e-21\n",
       "thyme         -5.830450   8.154564  8.926314e-24  3.887022e-21\n",
       "horseradish   -5.801583   6.956899  1.232892e-23  5.254480e-21\n",
       "pepper        -5.715244   7.118072  3.185848e-23  1.329494e-20\n",
       "cilantro      -5.459152   7.893723  9.645047e-22  3.942856e-19\n",
       "maize         -5.388496   8.565706  2.333958e-21  9.350302e-19\n",
       "RP11-444E17.6 -2.181544   7.595856  9.209428e-06  3.617138e-03\n",
       "EXOC7          2.116115   4.107097  1.970177e-05  7.589350e-03\n",
       "ASNA1         -2.003171   0.651577  9.149313e-05  3.457922e-02"
      ]
     },
     "execution_count": 38,
     "metadata": {},
     "output_type": "execute_result"
    }
   ],
   "source": [
    "#check out the pandas DataFrame of the transcript counts (now normalized) of each gene for groups 1 (mutant) and 2 (WT)\n",
    "#which have an FDR of at least 0.05\n",
    "result_edgeR12_norm.loc[result_edgeR12_norm[\"FDR\"] <= 0.05]"
   ]
  },
  {
   "cell_type": "code",
   "execution_count": 39,
   "metadata": {
    "collapsed": false
   },
   "outputs": [
    {
     "data": {
      "text/plain": [
       "logFC     50\n",
       "logCPM    50\n",
       "PValue    50\n",
       "FDR       50\n",
       "dtype: int64"
      ]
     },
     "execution_count": 39,
     "metadata": {},
     "output_type": "execute_result"
    }
   ],
   "source": [
    "#try more stringent FDR \n",
    "result_edgeR12_norm.loc[result_edgeR12_norm[\"FDR\"] <= 0.001].count()"
   ]
  },
  {
   "cell_type": "code",
   "execution_count": 40,
   "metadata": {
    "collapsed": false
   },
   "outputs": [
    {
     "data": {
      "text/html": [
       "<div>\n",
       "<table border=\"1\" class=\"dataframe\">\n",
       "  <thead>\n",
       "    <tr style=\"text-align: right;\">\n",
       "      <th></th>\n",
       "      <th>logFC</th>\n",
       "      <th>logCPM</th>\n",
       "      <th>PValue</th>\n",
       "      <th>FDR</th>\n",
       "    </tr>\n",
       "  </thead>\n",
       "  <tbody>\n",
       "    <tr>\n",
       "      <th>radish</th>\n",
       "      <td>-8.030000</td>\n",
       "      <td>10.269261</td>\n",
       "      <td>9.660446e-36</td>\n",
       "      <td>1.935084e-31</td>\n",
       "    </tr>\n",
       "    <tr>\n",
       "      <th>anise</th>\n",
       "      <td>-7.753510</td>\n",
       "      <td>12.411284</td>\n",
       "      <td>3.876196e-34</td>\n",
       "      <td>3.478977e-30</td>\n",
       "    </tr>\n",
       "    <tr>\n",
       "      <th>melon</th>\n",
       "      <td>-7.733254</td>\n",
       "      <td>13.109340</td>\n",
       "      <td>5.210390e-34</td>\n",
       "      <td>3.478977e-30</td>\n",
       "    </tr>\n",
       "    <tr>\n",
       "      <th>carrot</th>\n",
       "      <td>-7.471262</td>\n",
       "      <td>11.819724</td>\n",
       "      <td>1.421712e-32</td>\n",
       "      <td>7.119579e-29</td>\n",
       "    </tr>\n",
       "    <tr>\n",
       "      <th>onion</th>\n",
       "      <td>-7.360053</td>\n",
       "      <td>10.531289</td>\n",
       "      <td>5.522730e-32</td>\n",
       "      <td>2.061690e-28</td>\n",
       "    </tr>\n",
       "    <tr>\n",
       "      <th>chard</th>\n",
       "      <td>-7.347516</td>\n",
       "      <td>9.655916</td>\n",
       "      <td>6.175499e-32</td>\n",
       "      <td>2.061690e-28</td>\n",
       "    </tr>\n",
       "    <tr>\n",
       "      <th>quince</th>\n",
       "      <td>-7.316172</td>\n",
       "      <td>10.210841</td>\n",
       "      <td>9.533900e-32</td>\n",
       "      <td>2.551428e-28</td>\n",
       "    </tr>\n",
       "    <tr>\n",
       "      <th>wasabi</th>\n",
       "      <td>-7.311038</td>\n",
       "      <td>10.220866</td>\n",
       "      <td>1.018992e-31</td>\n",
       "      <td>2.551428e-28</td>\n",
       "    </tr>\n",
       "    <tr>\n",
       "      <th>fig</th>\n",
       "      <td>-7.292107</td>\n",
       "      <td>13.879705</td>\n",
       "      <td>1.562206e-31</td>\n",
       "      <td>3.476949e-28</td>\n",
       "    </tr>\n",
       "    <tr>\n",
       "      <th>sage</th>\n",
       "      <td>-7.257371</td>\n",
       "      <td>9.789649</td>\n",
       "      <td>1.983275e-31</td>\n",
       "      <td>3.972699e-28</td>\n",
       "    </tr>\n",
       "    <tr>\n",
       "      <th>tangerine</th>\n",
       "      <td>-7.207110</td>\n",
       "      <td>9.000392</td>\n",
       "      <td>3.541931e-31</td>\n",
       "      <td>6.449856e-28</td>\n",
       "    </tr>\n",
       "    <tr>\n",
       "      <th>cantaloupe</th>\n",
       "      <td>-7.177611</td>\n",
       "      <td>11.071916</td>\n",
       "      <td>5.931393e-31</td>\n",
       "      <td>9.900979e-28</td>\n",
       "    </tr>\n",
       "    <tr>\n",
       "      <th>yam</th>\n",
       "      <td>-7.153997</td>\n",
       "      <td>9.589587</td>\n",
       "      <td>7.406212e-31</td>\n",
       "      <td>1.122451e-27</td>\n",
       "    </tr>\n",
       "    <tr>\n",
       "      <th>leek</th>\n",
       "      <td>-7.153318</td>\n",
       "      <td>8.242933</td>\n",
       "      <td>7.983418e-31</td>\n",
       "      <td>1.122451e-27</td>\n",
       "    </tr>\n",
       "    <tr>\n",
       "      <th>chickpea</th>\n",
       "      <td>-7.149001</td>\n",
       "      <td>8.408706</td>\n",
       "      <td>8.405357e-31</td>\n",
       "      <td>1.122451e-27</td>\n",
       "    </tr>\n",
       "    <tr>\n",
       "      <th>gooseberry</th>\n",
       "      <td>-7.038454</td>\n",
       "      <td>7.339402</td>\n",
       "      <td>3.941205e-30</td>\n",
       "      <td>4.934142e-27</td>\n",
       "    </tr>\n",
       "    <tr>\n",
       "      <th>broccoli</th>\n",
       "      <td>-7.013798</td>\n",
       "      <td>11.689860</td>\n",
       "      <td>5.005763e-30</td>\n",
       "      <td>5.898261e-27</td>\n",
       "    </tr>\n",
       "    <tr>\n",
       "      <th>kohlrabi</th>\n",
       "      <td>-6.967520</td>\n",
       "      <td>9.059745</td>\n",
       "      <td>7.747926e-30</td>\n",
       "      <td>8.622150e-27</td>\n",
       "    </tr>\n",
       "    <tr>\n",
       "      <th>cabbage</th>\n",
       "      <td>-6.929625</td>\n",
       "      <td>13.778236</td>\n",
       "      <td>1.608713e-29</td>\n",
       "      <td>1.696006e-26</td>\n",
       "    </tr>\n",
       "    <tr>\n",
       "      <th>lavender</th>\n",
       "      <td>-6.905426</td>\n",
       "      <td>10.190052</td>\n",
       "      <td>1.853199e-29</td>\n",
       "      <td>1.856072e-26</td>\n",
       "    </tr>\n",
       "    <tr>\n",
       "      <th>horseradish</th>\n",
       "      <td>-6.854725</td>\n",
       "      <td>6.945838</td>\n",
       "      <td>4.406421e-29</td>\n",
       "      <td>4.203096e-26</td>\n",
       "    </tr>\n",
       "    <tr>\n",
       "      <th>garlic</th>\n",
       "      <td>-6.730840</td>\n",
       "      <td>11.061225</td>\n",
       "      <td>1.807232e-28</td>\n",
       "      <td>1.645485e-25</td>\n",
       "    </tr>\n",
       "    <tr>\n",
       "      <th>cucumber</th>\n",
       "      <td>-6.718561</td>\n",
       "      <td>10.102020</td>\n",
       "      <td>2.014583e-28</td>\n",
       "      <td>1.754527e-25</td>\n",
       "    </tr>\n",
       "    <tr>\n",
       "      <th>celery</th>\n",
       "      <td>-6.668794</td>\n",
       "      <td>12.810524</td>\n",
       "      <td>4.307599e-28</td>\n",
       "      <td>3.595230e-25</td>\n",
       "    </tr>\n",
       "    <tr>\n",
       "      <th>currant</th>\n",
       "      <td>-6.636548</td>\n",
       "      <td>9.731292</td>\n",
       "      <td>5.640674e-28</td>\n",
       "      <td>4.519533e-25</td>\n",
       "    </tr>\n",
       "    <tr>\n",
       "      <th>clementine</th>\n",
       "      <td>-6.563858</td>\n",
       "      <td>8.684814</td>\n",
       "      <td>1.304289e-27</td>\n",
       "      <td>1.004854e-24</td>\n",
       "    </tr>\n",
       "    <tr>\n",
       "      <th>oregano</th>\n",
       "      <td>-6.548231</td>\n",
       "      <td>8.027023</td>\n",
       "      <td>1.527484e-27</td>\n",
       "      <td>1.133223e-24</td>\n",
       "    </tr>\n",
       "    <tr>\n",
       "      <th>coconut</th>\n",
       "      <td>-6.517109</td>\n",
       "      <td>10.914745</td>\n",
       "      <td>2.739511e-27</td>\n",
       "      <td>1.959826e-24</td>\n",
       "    </tr>\n",
       "    <tr>\n",
       "      <th>cranberry</th>\n",
       "      <td>-6.519353</td>\n",
       "      <td>12.946676</td>\n",
       "      <td>2.903247e-27</td>\n",
       "      <td>1.993996e-24</td>\n",
       "    </tr>\n",
       "    <tr>\n",
       "      <th>artichoke</th>\n",
       "      <td>-6.526321</td>\n",
       "      <td>6.589733</td>\n",
       "      <td>2.986365e-27</td>\n",
       "      <td>1.993996e-24</td>\n",
       "    </tr>\n",
       "    <tr>\n",
       "      <th>cherry</th>\n",
       "      <td>-6.462567</td>\n",
       "      <td>11.546376</td>\n",
       "      <td>5.655124e-27</td>\n",
       "      <td>3.654122e-24</td>\n",
       "    </tr>\n",
       "    <tr>\n",
       "      <th>butternut</th>\n",
       "      <td>-6.411118</td>\n",
       "      <td>10.195791</td>\n",
       "      <td>1.020491e-26</td>\n",
       "      <td>6.306599e-24</td>\n",
       "    </tr>\n",
       "    <tr>\n",
       "      <th>orange</th>\n",
       "      <td>-6.400386</td>\n",
       "      <td>8.579890</td>\n",
       "      <td>1.038978e-26</td>\n",
       "      <td>6.306599e-24</td>\n",
       "    </tr>\n",
       "    <tr>\n",
       "      <th>grapefruit</th>\n",
       "      <td>-6.387573</td>\n",
       "      <td>10.364683</td>\n",
       "      <td>1.387662e-26</td>\n",
       "      <td>8.175370e-24</td>\n",
       "    </tr>\n",
       "    <tr>\n",
       "      <th>honeydew</th>\n",
       "      <td>-6.378381</td>\n",
       "      <td>10.776117</td>\n",
       "      <td>1.589906e-26</td>\n",
       "      <td>9.099258e-24</td>\n",
       "    </tr>\n",
       "    <tr>\n",
       "      <th>fennel</th>\n",
       "      <td>-6.310598</td>\n",
       "      <td>11.587507</td>\n",
       "      <td>3.906030e-26</td>\n",
       "      <td>2.173380e-23</td>\n",
       "    </tr>\n",
       "    <tr>\n",
       "      <th>nectarine</th>\n",
       "      <td>-6.291165</td>\n",
       "      <td>8.806559</td>\n",
       "      <td>4.274376e-26</td>\n",
       "      <td>2.308301e-23</td>\n",
       "    </tr>\n",
       "    <tr>\n",
       "      <th>turnip</th>\n",
       "      <td>-6.286247</td>\n",
       "      <td>8.430344</td>\n",
       "      <td>4.378985e-26</td>\n",
       "      <td>2.308301e-23</td>\n",
       "    </tr>\n",
       "    <tr>\n",
       "      <th>pomegranate</th>\n",
       "      <td>-6.269210</td>\n",
       "      <td>10.707580</td>\n",
       "      <td>6.340351e-26</td>\n",
       "      <td>3.256502e-23</td>\n",
       "    </tr>\n",
       "    <tr>\n",
       "      <th>pepper</th>\n",
       "      <td>-6.269182</td>\n",
       "      <td>7.111521</td>\n",
       "      <td>6.540720e-26</td>\n",
       "      <td>3.275429e-23</td>\n",
       "    </tr>\n",
       "    <tr>\n",
       "      <th>kiwi</th>\n",
       "      <td>-6.213610</td>\n",
       "      <td>10.298988</td>\n",
       "      <td>1.260125e-25</td>\n",
       "      <td>6.156481e-23</td>\n",
       "    </tr>\n",
       "    <tr>\n",
       "      <th>cayenne</th>\n",
       "      <td>-6.205220</td>\n",
       "      <td>9.305510</td>\n",
       "      <td>1.340957e-25</td>\n",
       "      <td>6.395409e-23</td>\n",
       "    </tr>\n",
       "    <tr>\n",
       "      <th>rhubarb</th>\n",
       "      <td>-6.160025</td>\n",
       "      <td>10.635022</td>\n",
       "      <td>2.522440e-25</td>\n",
       "      <td>1.175047e-22</td>\n",
       "    </tr>\n",
       "    <tr>\n",
       "      <th>cilantro</th>\n",
       "      <td>-6.069349</td>\n",
       "      <td>7.884710</td>\n",
       "      <td>6.871440e-25</td>\n",
       "      <td>3.128223e-22</td>\n",
       "    </tr>\n",
       "    <tr>\n",
       "      <th>spinach</th>\n",
       "      <td>-5.995469</td>\n",
       "      <td>8.783264</td>\n",
       "      <td>1.815898e-24</td>\n",
       "      <td>8.083168e-22</td>\n",
       "    </tr>\n",
       "    <tr>\n",
       "      <th>thyme</th>\n",
       "      <td>-5.970852</td>\n",
       "      <td>8.154564</td>\n",
       "      <td>2.348620e-24</td>\n",
       "      <td>1.022722e-21</td>\n",
       "    </tr>\n",
       "    <tr>\n",
       "      <th>watermelon</th>\n",
       "      <td>-5.977567</td>\n",
       "      <td>12.788042</td>\n",
       "      <td>2.751819e-24</td>\n",
       "      <td>1.172802e-21</td>\n",
       "    </tr>\n",
       "    <tr>\n",
       "      <th>lentil</th>\n",
       "      <td>-5.932133</td>\n",
       "      <td>11.230230</td>\n",
       "      <td>4.607298e-24</td>\n",
       "      <td>1.922683e-21</td>\n",
       "    </tr>\n",
       "    <tr>\n",
       "      <th>maize</th>\n",
       "      <td>-5.580965</td>\n",
       "      <td>8.563073</td>\n",
       "      <td>3.292394e-22</td>\n",
       "      <td>1.345917e-19</td>\n",
       "    </tr>\n",
       "    <tr>\n",
       "      <th>okra</th>\n",
       "      <td>-5.533459</td>\n",
       "      <td>11.140585</td>\n",
       "      <td>6.815756e-22</td>\n",
       "      <td>2.730528e-19</td>\n",
       "    </tr>\n",
       "    <tr>\n",
       "      <th>OR1N2</th>\n",
       "      <td>-2.144301</td>\n",
       "      <td>4.596804</td>\n",
       "      <td>1.610772e-05</td>\n",
       "      <td>6.326543e-03</td>\n",
       "    </tr>\n",
       "    <tr>\n",
       "      <th>RALGAPB</th>\n",
       "      <td>-1.874688</td>\n",
       "      <td>6.017974</td>\n",
       "      <td>1.168241e-04</td>\n",
       "      <td>4.500201e-02</td>\n",
       "    </tr>\n",
       "  </tbody>\n",
       "</table>\n",
       "</div>"
      ],
      "text/plain": [
       "                logFC     logCPM        PValue           FDR\n",
       "radish      -8.030000  10.269261  9.660446e-36  1.935084e-31\n",
       "anise       -7.753510  12.411284  3.876196e-34  3.478977e-30\n",
       "melon       -7.733254  13.109340  5.210390e-34  3.478977e-30\n",
       "carrot      -7.471262  11.819724  1.421712e-32  7.119579e-29\n",
       "onion       -7.360053  10.531289  5.522730e-32  2.061690e-28\n",
       "chard       -7.347516   9.655916  6.175499e-32  2.061690e-28\n",
       "quince      -7.316172  10.210841  9.533900e-32  2.551428e-28\n",
       "wasabi      -7.311038  10.220866  1.018992e-31  2.551428e-28\n",
       "fig         -7.292107  13.879705  1.562206e-31  3.476949e-28\n",
       "sage        -7.257371   9.789649  1.983275e-31  3.972699e-28\n",
       "tangerine   -7.207110   9.000392  3.541931e-31  6.449856e-28\n",
       "cantaloupe  -7.177611  11.071916  5.931393e-31  9.900979e-28\n",
       "yam         -7.153997   9.589587  7.406212e-31  1.122451e-27\n",
       "leek        -7.153318   8.242933  7.983418e-31  1.122451e-27\n",
       "chickpea    -7.149001   8.408706  8.405357e-31  1.122451e-27\n",
       "gooseberry  -7.038454   7.339402  3.941205e-30  4.934142e-27\n",
       "broccoli    -7.013798  11.689860  5.005763e-30  5.898261e-27\n",
       "kohlrabi    -6.967520   9.059745  7.747926e-30  8.622150e-27\n",
       "cabbage     -6.929625  13.778236  1.608713e-29  1.696006e-26\n",
       "lavender    -6.905426  10.190052  1.853199e-29  1.856072e-26\n",
       "horseradish -6.854725   6.945838  4.406421e-29  4.203096e-26\n",
       "garlic      -6.730840  11.061225  1.807232e-28  1.645485e-25\n",
       "cucumber    -6.718561  10.102020  2.014583e-28  1.754527e-25\n",
       "celery      -6.668794  12.810524  4.307599e-28  3.595230e-25\n",
       "currant     -6.636548   9.731292  5.640674e-28  4.519533e-25\n",
       "clementine  -6.563858   8.684814  1.304289e-27  1.004854e-24\n",
       "oregano     -6.548231   8.027023  1.527484e-27  1.133223e-24\n",
       "coconut     -6.517109  10.914745  2.739511e-27  1.959826e-24\n",
       "cranberry   -6.519353  12.946676  2.903247e-27  1.993996e-24\n",
       "artichoke   -6.526321   6.589733  2.986365e-27  1.993996e-24\n",
       "cherry      -6.462567  11.546376  5.655124e-27  3.654122e-24\n",
       "butternut   -6.411118  10.195791  1.020491e-26  6.306599e-24\n",
       "orange      -6.400386   8.579890  1.038978e-26  6.306599e-24\n",
       "grapefruit  -6.387573  10.364683  1.387662e-26  8.175370e-24\n",
       "honeydew    -6.378381  10.776117  1.589906e-26  9.099258e-24\n",
       "fennel      -6.310598  11.587507  3.906030e-26  2.173380e-23\n",
       "nectarine   -6.291165   8.806559  4.274376e-26  2.308301e-23\n",
       "turnip      -6.286247   8.430344  4.378985e-26  2.308301e-23\n",
       "pomegranate -6.269210  10.707580  6.340351e-26  3.256502e-23\n",
       "pepper      -6.269182   7.111521  6.540720e-26  3.275429e-23\n",
       "kiwi        -6.213610  10.298988  1.260125e-25  6.156481e-23\n",
       "cayenne     -6.205220   9.305510  1.340957e-25  6.395409e-23\n",
       "rhubarb     -6.160025  10.635022  2.522440e-25  1.175047e-22\n",
       "cilantro    -6.069349   7.884710  6.871440e-25  3.128223e-22\n",
       "spinach     -5.995469   8.783264  1.815898e-24  8.083168e-22\n",
       "thyme       -5.970852   8.154564  2.348620e-24  1.022722e-21\n",
       "watermelon  -5.977567  12.788042  2.751819e-24  1.172802e-21\n",
       "lentil      -5.932133  11.230230  4.607298e-24  1.922683e-21\n",
       "maize       -5.580965   8.563073  3.292394e-22  1.345917e-19\n",
       "okra        -5.533459  11.140585  6.815756e-22  2.730528e-19\n",
       "OR1N2       -2.144301   4.596804  1.610772e-05  6.326543e-03\n",
       "RALGAPB     -1.874688   6.017974  1.168241e-04  4.500201e-02"
      ]
     },
     "execution_count": 40,
     "metadata": {},
     "output_type": "execute_result"
    }
   ],
   "source": [
    "#check out the pandas DataFrame of the transcript counts (now normalized) of each gene for groups 1 (mutant) and 3 (WT) \n",
    "#which have an FDR of at least 0.05\n",
    "result_edgeR13_norm.loc[result_edgeR13_norm[\"FDR\"] <= 0.05]"
   ]
  },
  {
   "cell_type": "code",
   "execution_count": 41,
   "metadata": {
    "collapsed": false
   },
   "outputs": [
    {
     "data": {
      "text/plain": [
       "logFC     50\n",
       "logCPM    50\n",
       "PValue    50\n",
       "FDR       50\n",
       "dtype: int64"
      ]
     },
     "execution_count": 41,
     "metadata": {},
     "output_type": "execute_result"
    }
   ],
   "source": [
    "#try more stringent FDR\n",
    "result_edgeR13_norm.loc[result_edgeR13_norm[\"FDR\"] <= 0.001].count()"
   ]
  },
  {
   "cell_type": "code",
   "execution_count": 42,
   "metadata": {
    "collapsed": true
   },
   "outputs": [],
   "source": [
    "#assign df objects to compare genes included in each df in next cell\n",
    "result_edgeR12_norm_df = result_edgeR12_norm.loc[result_edgeR12_norm[\"FDR\"] <= 0.001]\n",
    "result_edgeR13_norm_df = result_edgeR13_norm.loc[result_edgeR13_norm[\"FDR\"] <= 0.001]"
   ]
  },
  {
   "cell_type": "code",
   "execution_count": 43,
   "metadata": {
    "collapsed": false
   },
   "outputs": [
    {
     "data": {
      "text/plain": [
       "set()"
      ]
     },
     "execution_count": 43,
     "metadata": {},
     "output_type": "execute_result"
    }
   ],
   "source": [
    "#show that the same genes are differentially expressed\n",
    "set(result_edgeR12_norm_df.index) - set(result_edgeR13_norm_df.index)"
   ]
  },
  {
   "cell_type": "markdown",
   "metadata": {},
   "source": [
    "### In conclusion... "
   ]
  },
  {
   "cell_type": "markdown",
   "metadata": {},
   "source": [
    "There are a few (2 in one comparison and 3 in the other) genes that appear to just make the cutoff using FDR as a statistical cutoff at 0.05, which are not shared among the two compared sets of wild-type v. mutant datasets. If we make the FDR more stringent, however, we get a consistent number of genes differentially expressed between the mutant and two different wild-type sample groups. Additionally, the differentially expressed genes are the same between the two different comparisons between mutant and each wild-type sample group. "
   ]
  }
 ],
 "metadata": {
  "anaconda-cloud": {},
  "kernelspec": {
   "display_name": "Python [conda env:anaconda]",
   "language": "python",
   "name": "conda-env-anaconda-py"
  },
  "language_info": {
   "codemirror_mode": {
    "name": "ipython",
    "version": 2
   },
   "file_extension": ".py",
   "mimetype": "text/x-python",
   "name": "python",
   "nbconvert_exporter": "python",
   "pygments_lexer": "ipython2",
   "version": "2.7.12"
  }
 },
 "nbformat": 4,
 "nbformat_minor": 1
}
