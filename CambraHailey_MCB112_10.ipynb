{
 "cells": [
  {
   "cell_type": "code",
   "execution_count": 19,
   "metadata": {
    "collapsed": true
   },
   "outputs": [],
   "source": [
    "import numpy as np\n",
    "import pandas as pd\n",
    "import matplotlib.pyplot as plt\n",
    "import seaborn as sns\n",
    "import os\n",
    "import sys\n",
    "\n",
    "%matplotlib inline"
   ]
  },
  {
   "cell_type": "markdown",
   "metadata": {},
   "source": [
    "# 1. Write a script that simulates positive control data"
   ]
  },
  {
   "cell_type": "markdown",
   "metadata": {},
   "source": [
    "### Note: I've used the hints and some code from the section notes in my code below. Thanks Sean Eddy and TFs for your help!!"
   ]
  },
  {
   "cell_type": "code",
   "execution_count": 20,
   "metadata": {
    "collapsed": true
   },
   "outputs": [],
   "source": [
    "def simulator(N, M, R, O):\n",
    "    '''\n",
    "    Simulates positive control data based on the parameters below. \n",
    "    \n",
    "    \n",
    "    Parameters\n",
    "    ----------\n",
    "    \n",
    "    N: integer\n",
    "        number of genes\n",
    "    M: integer\n",
    "        number of different conditions/treatments\n",
    "    R: integer\n",
    "        number of gene modules\n",
    "    O: integer\n",
    "        number of moonlighting genes\n",
    "        \n",
    "    Returns\n",
    "    -------\n",
    "    \n",
    "    W: numpy array\n",
    "        N x R (genes by module)\n",
    "    H: numpy array\n",
    "        R x M (modules by condition)\n",
    "    V: numpy array\n",
    "        noisy array of observations for data\n",
    "    '''\n",
    "    \n",
    "    np.random.seed(5)\n",
    "\n",
    "    #generate a zeros matrix for W\n",
    "    W = np.zeros((N, R))\n",
    "\n",
    "    idxs = np.arange(0,N)\n",
    "\n",
    "    np.random.shuffle(idxs)\n",
    "\n",
    "    #define which idxs go with which module randomly\n",
    "    c = 0\n",
    "    assign = []\n",
    "    for i in range(R-1):\n",
    "        j = int(N/R + np.random.randint(-10, 10))\n",
    "        assign.append(list(idxs[c:j+c]))\n",
    "        c +=j\n",
    "    assign.append(list(idxs[c:]))\n",
    "    \n",
    "    print(\"number of genes in each module before moonlighting:\")\n",
    "    for i in assign:\n",
    "        print(len(i))\n",
    "\n",
    "    #choose a few genes to assign as mOonlighting genes\n",
    "    moon = np.random.choice(N, O)\n",
    "    print(\"moonlighting genes:\")\n",
    "    print(moon)\n",
    "\n",
    "    l = []\n",
    "    print(\"moonlighting gene assignments\")\n",
    "    for i in moon:\n",
    "        for j, a in enumerate(assign):\n",
    "            if i in a:\n",
    "                k = j + np.random.choice([-1,1])\n",
    "                if k >= R:\n",
    "                    k = k - R\n",
    "                if k < 0:\n",
    "                    k = k + R\n",
    "                #k = int(j + np.random.choice([-1,1]))%R\n",
    "                print(i, j, k)\n",
    "                l.append(k)\n",
    "\n",
    "    for w, m in enumerate(moon):\n",
    "        assign[l[w]].append(m)\n",
    "    \n",
    "    print(\"number of genes in each module after moonlighting:\")\n",
    "    for i in assign:\n",
    "        print(len(i))\n",
    "\n",
    "    p = []\n",
    "    for i, j in enumerate(assign):\n",
    "        p.append(np.random.dirichlet(np.ones(len(j))))\n",
    "\n",
    "    for o, f in enumerate(assign):\n",
    "        for h, i in enumerate(f):\n",
    "            #print(o, h)\n",
    "            W[i,o] = p[o][h]\n",
    "    #generate H\n",
    "    H = np.ones((R, M))\n",
    "    H = np.apply_along_axis(np.random.dirichlet, 0, H)\n",
    "    \n",
    "    #generate counts list\n",
    "    C = []\n",
    "    for i in range(M):\n",
    "        C.append(100000 + np.random.randint(-10000,10000))\n",
    "        \n",
    "    #define lambda\n",
    "    L = W @ H\n",
    "    L = L*C\n",
    "\n",
    "    #add noise\n",
    "    V = np.random.poisson(L)\n",
    "\n",
    "    return W, H, V"
   ]
  },
  {
   "cell_type": "code",
   "execution_count": 21,
   "metadata": {
    "collapsed": false
   },
   "outputs": [
    {
     "name": "stdout",
     "output_type": "stream",
     "text": [
      "number of genes in each module before moonlighting:\n",
      "21\n",
      "15\n",
      "19\n",
      "15\n",
      "30\n",
      "moonlighting genes:\n",
      "[82 60 91 29 88]\n",
      "moonlighting gene assignments\n",
      "82 3 2\n",
      "60 0 1\n",
      "91 4 3\n",
      "29 2 3\n",
      "88 1 0\n",
      "number of genes in each module after moonlighting:\n",
      "22\n",
      "16\n",
      "20\n",
      "17\n",
      "30\n"
     ]
    }
   ],
   "source": [
    "#vary these parameters to see how they affect the outcomes to compare predictions to true values at end of question 2.\n",
    "W_1, H_1, V_1 = simulator(100, 60, 5, 5)"
   ]
  },
  {
   "cell_type": "code",
   "execution_count": 22,
   "metadata": {
    "collapsed": false
   },
   "outputs": [
    {
     "data": {
      "text/plain": [
       "60"
      ]
     },
     "execution_count": 22,
     "metadata": {},
     "output_type": "execute_result"
    }
   ],
   "source": [
    "V_1.shape[1]"
   ]
  },
  {
   "cell_type": "markdown",
   "metadata": {},
   "source": [
    "# 2. Implement nonnegative matrix factorization"
   ]
  },
  {
   "cell_type": "code",
   "execution_count": 23,
   "metadata": {
    "collapsed": true
   },
   "outputs": [],
   "source": [
    "def LLH(V, L):\n",
    "    '''\n",
    "    Calculates the total loglikelihood based on the sum of our Poisson probability over all experiments and all genes. \n",
    "    \n",
    "    Parameters\n",
    "    ----------\n",
    "    \n",
    "    V: numpy array\n",
    "        observations of expressed genes \n",
    "    L: numpy array\n",
    "        product of the W and H arrays\n",
    "        \n",
    "    Returns\n",
    "    -------\n",
    "    \n",
    "    llh: float\n",
    "        loglikelihood of the data given the parameters specified\n",
    "    '''\n",
    "    \n",
    "    \n",
    "    M = V.shape[1]\n",
    "    N = V.shape[0]\n",
    "    \n",
    "    llh = 0\n",
    "    \n",
    "    for mu in range(M):\n",
    "        for i in range(N):\n",
    "            #ignore the factorial term because its a constant independent of W and H and will disappear\n",
    "            #when we take the gradient, anyhow\n",
    "            llh += V[i][mu]*np.log(L[i][mu]) - L[i][mu]\n",
    "    \n",
    "    return llh"
   ]
  },
  {
   "cell_type": "code",
   "execution_count": 24,
   "metadata": {
    "collapsed": true
   },
   "outputs": [],
   "source": [
    "def NMF(V, R):\n",
    "    '''\n",
    "    Performs non-negative matrix factorization using specified parameters.\n",
    "    \n",
    "    Parameters\n",
    "    ----------\n",
    "    \n",
    "    V: numpy array\n",
    "        observations of expressed genes \n",
    "    R: integer\n",
    "        number of gene modules\n",
    "        \n",
    "    Returns\n",
    "    -------\n",
    "    \n",
    "    llh_new: float\n",
    "        loglikelihood of the data given the parameters specified\n",
    "    W: numpy array\n",
    "        N x R (genes by module)\n",
    "        Here, this is the gradient ascent updated W'\n",
    "    H: numpy array\n",
    "        R x M (modules by condition)\n",
    "        Here, this is the gradient ascent updated H'\n",
    "    '''\n",
    "    \n",
    "    #set threshold for llh scores\n",
    "    e = 1\n",
    "\n",
    "    M = V.shape[1]\n",
    "    N = V.shape[0]\n",
    "\n",
    "    #initialize random W and H\n",
    "    W = np.ones((N, R))\n",
    "    W = np.apply_along_axis(np.random.dirichlet, 0, W)\n",
    "\n",
    "    H = np.ones((R, M))\n",
    "    H = np.apply_along_axis(np.random.dirichlet, 0, H)\n",
    "    \n",
    "    #initialize counts\n",
    "    C = V.sum(0)\n",
    "    \n",
    "    #initialize llh scores\n",
    "    llh_new = 10\n",
    "\n",
    "    llh_old = 0\n",
    "\n",
    "    while np.abs(llh_new - llh_old) > e:\n",
    "    #for quick testing purposes use the commented out 'for' option below\n",
    "    #for q in range(5):\n",
    "        L = W @ H\n",
    "        L = L*C\n",
    "\n",
    "        llh_old = llh_new\n",
    "\n",
    "        W_p = np.zeros((N,R))\n",
    "        H_p = np.zeros((R,M))\n",
    "\n",
    "        for i in range(N):\n",
    "            for a in range(R):\n",
    "                s = 0\n",
    "                for mu in range(M):\n",
    "                    s += V[i][mu]/L[i][mu]*C[mu]*H[a][mu]\n",
    "                W_p[i][a]= W[i][a]*s\n",
    "        denom = W_p.sum(0)\n",
    "        for i in range(N):\n",
    "            for a in range(R):\n",
    "                W_p[i][a]/=denom[a]\n",
    "\n",
    "        for mu in range(M):\n",
    "            for a in range(R):\n",
    "                s = 0\n",
    "                for i in range(N):\n",
    "                    s+= V[i][mu]/L[i][mu]*W[i][a]\n",
    "                H_p[a][mu]= H[a][mu]*s\n",
    "        W = W_p\n",
    "        H = H_p\n",
    "\n",
    "        llh_new = LLH(V, L)\n",
    "\n",
    "    return(llh_new, W, H)"
   ]
  },
  {
   "cell_type": "code",
   "execution_count": 25,
   "metadata": {
    "collapsed": false
   },
   "outputs": [],
   "source": [
    "#Testing the NMF function\n",
    "llh_new_nmf, W_nmf, H_nmf = NMF(V_1, 3)"
   ]
  },
  {
   "cell_type": "code",
   "execution_count": 26,
   "metadata": {
    "collapsed": true
   },
   "outputs": [],
   "source": [
    "def NMF_max(V, R, I):\n",
    "    '''\n",
    "    Performs non-negative matrix factorization using specified parameters for several iterations until an 'optimal'\n",
    "    llh_max is reached.\n",
    "    \n",
    "    Parameters\n",
    "    ----------\n",
    "    \n",
    "    V: numpy array\n",
    "        observations of expressed genes \n",
    "    R: integer\n",
    "        number of gene modules\n",
    "    I: integer\n",
    "        number of iterations to perform NMF \n",
    "        \n",
    "    Returns\n",
    "    -------\n",
    "    \n",
    "    llh_max: float\n",
    "        optimal loglikelihood of the data given the parameters specified\n",
    "    W_max: numpy array\n",
    "        N x R (genes by module)\n",
    "        Here, this is the gradient ascent updated W'\n",
    "    H_max: numpy array\n",
    "        R x M (modules by condition)\n",
    "        Here, this is the gradient ascent updated H'\n",
    "    \n",
    "    '''\n",
    "\n",
    "    llh_max = 0\n",
    "\n",
    "    for i in range(I):\n",
    "        llh_new_nmf, W_nmf, H_nmf = NMF(V, R)\n",
    "\n",
    "        if llh_new_nmf > llh_max:\n",
    "            llh_max = llh_new_nmf\n",
    "            W_max = W_nmf\n",
    "            H_max = H_nmf\n",
    "    print(llh_max)\n",
    "    return(llh_max, W_max, H_max)"
   ]
  },
  {
   "cell_type": "code",
   "execution_count": 27,
   "metadata": {
    "collapsed": false
   },
   "outputs": [
    {
     "name": "stdout",
     "output_type": "stream",
     "text": [
      "39106753.10407059\n"
     ]
    }
   ],
   "source": [
    "llh_max_1, W_max_1, H_max_1 = NMF_max(V_1, 3, 5)"
   ]
  },
  {
   "cell_type": "code",
   "execution_count": 28,
   "metadata": {
    "collapsed": false
   },
   "outputs": [
    {
     "name": "stdout",
     "output_type": "stream",
     "text": [
      "39513162.33240518\n"
     ]
    }
   ],
   "source": [
    "llh_max_2, W_max_2, H_max_2 = NMF_max(V_1, 4, 5)"
   ]
  },
  {
   "cell_type": "code",
   "execution_count": 29,
   "metadata": {
    "collapsed": false
   },
   "outputs": [
    {
     "name": "stdout",
     "output_type": "stream",
     "text": [
      "39847951.51703192\n"
     ]
    }
   ],
   "source": [
    "llh_max_3, W_max_3, H_max_3 = NMF_max(V_1, 5, 5)"
   ]
  },
  {
   "cell_type": "code",
   "execution_count": 30,
   "metadata": {
    "collapsed": false
   },
   "outputs": [
    {
     "name": "stdout",
     "output_type": "stream",
     "text": [
      "39848066.50060486\n"
     ]
    }
   ],
   "source": [
    "llh_max_4, W_max_4, H_max_4 = NMF_max(V_1, 6, 5)"
   ]
  },
  {
   "cell_type": "code",
   "execution_count": 31,
   "metadata": {
    "collapsed": false,
    "scrolled": true
   },
   "outputs": [
    {
     "data": {
      "text/plain": [
       "[<matplotlib.lines.Line2D at 0x117f12e10>]"
      ]
     },
     "execution_count": 31,
     "metadata": {},
     "output_type": "execute_result"
    },
    {
     "data": {
      "image/png": "[encoded data removed]",
      "text/plain": [
       "<matplotlib.figure.Figure at 0x115e135f8>"
      ]
     },
     "metadata": {},
     "output_type": "display_data"
    }
   ],
   "source": [
    "#plot llh to choose which number of modules I should go forward with\n",
    "plt.plot([3, 4, 5, 6], [llh_max_1, llh_max_2, llh_max_3, llh_max_4])"
   ]
  },
  {
   "cell_type": "markdown",
   "metadata": {},
   "source": [
    "Until we reach the true simulation R, the llh increases, but after that, there is not an improvement in the prediction. "
   ]
  },
  {
   "cell_type": "code",
   "execution_count": 33,
   "metadata": {
    "collapsed": false
   },
   "outputs": [],
   "source": [
    "#row normalize after choosing best number of modules\n",
    "#N, M, R, O = 100, 60, 5, 5 (parameters used to generate V_1)\n",
    "R = 5\n",
    "N = 100\n",
    "denom = W_1.sum(1)\n",
    "W_1_norm = np.zeros((R, N))\n",
    "for i, s in enumerate(W_1.T):\n",
    "    W_1_norm[i] = np.divide(s, denom)\n",
    "    \n",
    "\n",
    "denom = W_max_3.sum(1)\n",
    "W_max_3_norm = np.zeros((R, N))\n",
    "for i, s in enumerate(W_max_3.T):\n",
    "    W_max_3_norm[i] = np.divide(s, denom)"
   ]
  },
  {
   "cell_type": "code",
   "execution_count": 34,
   "metadata": {
    "collapsed": false,
    "scrolled": true
   },
   "outputs": [
    {
     "data": {
      "text/plain": [
       "<matplotlib.axes._subplots.AxesSubplot at 0x115e49a90>"
      ]
     },
     "execution_count": 34,
     "metadata": {},
     "output_type": "execute_result"
    },
    {
     "data": {
      "image/png": "[encoded data removed]",
      "text/plain": [
       "<matplotlib.figure.Figure at 0x117f64438>"
      ]
     },
     "metadata": {},
     "output_type": "display_data"
    }
   ],
   "source": [
    "#plot W_max_3_norm\n",
    "sns.heatmap(W_max_3_norm)"
   ]
  },
  {
   "cell_type": "markdown",
   "metadata": {},
   "source": [
    "I plotted this because I wanted to see if I could see the moonlighting genes, and here you can see that I have 5 moonlighting genes which seem to match the numbers from the simulated data which are: 29 60 82 88 91 (rearranged from original output for ease of pointing out in the heatmap by eye).   "
   ]
  },
  {
   "cell_type": "code",
   "execution_count": 35,
   "metadata": {
    "collapsed": false,
    "scrolled": false
   },
   "outputs": [
    {
     "data": {
      "text/plain": [
       "(array([395.,   2.,   0.,   1.,   3.,   1.,   1.,   0.,   2.,  95.]),\n",
       " array([4.82696708e-35, 9.94986392e-02, 1.98997278e-01, 2.98495917e-01,\n",
       "        3.97994557e-01, 4.97493196e-01, 5.96991835e-01, 6.96490474e-01,\n",
       "        7.95989113e-01, 8.95487752e-01, 9.94986392e-01]),\n",
       " <a list of 10 Patch objects>)"
      ]
     },
     "execution_count": 35,
     "metadata": {},
     "output_type": "execute_result"
    },
    {
     "data": {
      "image/png": "[encoded data removed]",
      "text/plain": [
       "<matplotlib.figure.Figure at 0x117f64080>"
      ]
     },
     "metadata": {},
     "output_type": "display_data"
    }
   ],
   "source": [
    "plt.hist(W_max_3_norm.flatten())"
   ]
  },
  {
   "cell_type": "markdown",
   "metadata": {},
   "source": [
    "Checking to see if there is a threshold that I can set to identify moonlighting genes - looks like 0.1 is a good cutoff. "
   ]
  },
  {
   "cell_type": "code",
   "execution_count": 36,
   "metadata": {
    "collapsed": false,
    "scrolled": true
   },
   "outputs": [
    {
     "name": "stdout",
     "output_type": "stream",
     "text": [
      "number of genes in each module\n",
      "30\n",
      "17\n",
      "22\n",
      "20\n",
      "16\n"
     ]
    }
   ],
   "source": [
    "print(\"number of genes in each module\")\n",
    "for i in range(R):\n",
    "    print(len(np.where(W_max_3_norm[i] >= 0.1)[0]))"
   ]
  },
  {
   "cell_type": "code",
   "execution_count": 37,
   "metadata": {
    "collapsed": false,
    "scrolled": true
   },
   "outputs": [
    {
     "name": "stdout",
     "output_type": "stream",
     "text": [
      "moonlighting genes:\n",
      "29\n",
      "60\n",
      "82\n",
      "88\n",
      "91\n"
     ]
    }
   ],
   "source": [
    "print(\"moonlighting genes:\")\n",
    "for i in range(N):\n",
    "    if len(np.where(W_max_3_norm.T[i] >= 0.1)[0]) > 1:\n",
    "        print(i)"
   ]
  },
  {
   "cell_type": "markdown",
   "metadata": {},
   "source": [
    "Voila! It matches! My code works - it actually reconstructs the synthetic data - Woo!"
   ]
  },
  {
   "cell_type": "code",
   "execution_count": 38,
   "metadata": {
    "collapsed": false
   },
   "outputs": [
    {
     "name": "stdout",
     "output_type": "stream",
     "text": [
      "number of genes in each module before moonlighting:\n",
      "34\n",
      "28\n",
      "38\n",
      "moonlighting genes:\n",
      "[22 52 69 82 60]\n",
      "moonlighting gene assignments\n",
      "22 0 1\n",
      "52 1 2\n",
      "69 0 2\n",
      "82 1 0\n",
      "60 0 1\n",
      "number of genes in each module after moonlighting:\n",
      "35\n",
      "30\n",
      "40\n",
      "number of genes in each module before moonlighting:\n",
      "26\n",
      "20\n",
      "24\n",
      "30\n",
      "moonlighting genes:\n",
      "[22 52 69 82 60]\n",
      "moonlighting gene assignments\n",
      "22 0 1\n",
      "52 1 2\n",
      "69 0 3\n",
      "82 2 1\n",
      "60 0 1\n",
      "number of genes in each module after moonlighting:\n",
      "26\n",
      "23\n",
      "25\n",
      "31\n",
      "number of genes in each module before moonlighting:\n",
      "17\n",
      "11\n",
      "15\n",
      "11\n",
      "24\n",
      "22\n",
      "moonlighting genes:\n",
      "[60 91 29 88 97]\n",
      "moonlighting gene assignments\n",
      "60 0 5\n",
      "91 5 0\n",
      "29 2 1\n",
      "88 2 3\n",
      "97 0 1\n",
      "number of genes in each module after moonlighting:\n",
      "18\n",
      "13\n",
      "15\n",
      "12\n",
      "24\n",
      "23\n"
     ]
    }
   ],
   "source": [
    "#vary number of moonlighting genes and R of the synthetic data here\n",
    "#varying R, already tried 5 - that is W_1, H_1, V_1\n",
    "#keep O the same\n",
    "W_2a, H_2a, V_2a = simulator(100, 60, 3, 5)\n",
    "W_3a, H_3a, V_3a = simulator(100, 60, 4, 5)\n",
    "W_4a, H_4a, V_4a = simulator(100, 60, 6, 5)"
   ]
  },
  {
   "cell_type": "code",
   "execution_count": 61,
   "metadata": {
    "collapsed": false
   },
   "outputs": [
    {
     "name": "stdout",
     "output_type": "stream",
     "text": [
      "39140350.086954206\n",
      "39140454.569032334\n",
      "39140473.04425371\n",
      "39140529.18774286\n"
     ]
    }
   ],
   "source": [
    "llh_max_2a, W_max_2a, H_max_2a = NMF_max(V_2a, 3, 5)\n",
    "llh_max_3a, W_max_3a, H_max_3a = NMF_max(V_2a, 4, 5)\n",
    "llh_max_4a, W_max_4a, H_max_4a = NMF_max(V_2a, 5, 5)\n",
    "llh_max_5a, W_max_5a, H_max_5a = NMF_max(V_2a, 6, 5)"
   ]
  },
  {
   "cell_type": "markdown",
   "metadata": {},
   "source": [
    "The best R is 3 because it appears that the llh doesn't change very much at all. "
   ]
  },
  {
   "cell_type": "code",
   "execution_count": 83,
   "metadata": {
    "collapsed": false
   },
   "outputs": [],
   "source": [
    "#row normalize after choosing best number of modules\n",
    "#choose R\n",
    "R = 3\n",
    "N = V_2a.shape[0]\n",
    "\n",
    "denom = W_max_2a.sum(1)\n",
    "W_max_2a_norm = np.zeros((R, N))\n",
    "for i, s in enumerate(W_max_2a.T):\n",
    "    W_max_2a_norm[i] = np.divide(s, denom)"
   ]
  },
  {
   "cell_type": "code",
   "execution_count": 84,
   "metadata": {
    "collapsed": false,
    "scrolled": true
   },
   "outputs": [
    {
     "data": {
      "text/plain": [
       "<matplotlib.axes._subplots.AxesSubplot at 0x1195ff8d0>"
      ]
     },
     "execution_count": 84,
     "metadata": {},
     "output_type": "execute_result"
    },
    {
     "data": {
      "image/png": "[encoded data removed]",
      "text/plain": [
       "<matplotlib.figure.Figure at 0x11991f7b8>"
      ]
     },
     "metadata": {},
     "output_type": "display_data"
    }
   ],
   "source": [
    "#plot W_max_A_norm\n",
    "sns.heatmap(W_max_2a_norm)"
   ]
  },
  {
   "cell_type": "code",
   "execution_count": 85,
   "metadata": {
    "collapsed": false,
    "scrolled": false
   },
   "outputs": [
    {
     "data": {
      "text/plain": [
       "(array([196.,   1.,   0.,   2.,   1.,   1.,   2.,   0.,   1.,  96.]),\n",
       " array([2.75514153e-08, 9.99996546e-02, 1.99999282e-01, 2.99998909e-01,\n",
       "        3.99998536e-01, 4.99998163e-01, 5.99997790e-01, 6.99997417e-01,\n",
       "        7.99997044e-01, 8.99996671e-01, 9.99996298e-01]),\n",
       " <a list of 10 Patch objects>)"
      ]
     },
     "execution_count": 85,
     "metadata": {},
     "output_type": "execute_result"
    },
    {
     "data": {
      "image/png": "[encoded data removed]",
      "text/plain": [
       "<matplotlib.figure.Figure at 0x1199705f8>"
      ]
     },
     "metadata": {},
     "output_type": "display_data"
    }
   ],
   "source": [
    "plt.hist(W_max_2a_norm.flatten())"
   ]
  },
  {
   "cell_type": "markdown",
   "metadata": {},
   "source": [
    "Checking to see if there is a threshold that I can set to identify moonlighting genes - looks like 0.1 is a good cutoff. "
   ]
  },
  {
   "cell_type": "code",
   "execution_count": 86,
   "metadata": {
    "collapsed": false,
    "scrolled": true
   },
   "outputs": [
    {
     "name": "stdout",
     "output_type": "stream",
     "text": [
      "number of genes in each module\n",
      "40\n",
      "30\n",
      "34\n"
     ]
    }
   ],
   "source": [
    "print(\"number of genes in each module\")\n",
    "for i in range(R):\n",
    "    print(len(np.where(W_max_2a_norm[i] >= 0.1)[0]))"
   ]
  },
  {
   "cell_type": "code",
   "execution_count": 89,
   "metadata": {
    "collapsed": false,
    "scrolled": true
   },
   "outputs": [
    {
     "name": "stdout",
     "output_type": "stream",
     "text": [
      "moonlighting genes:\n",
      "22\n",
      "52\n",
      "60\n",
      "71\n",
      "82\n"
     ]
    }
   ],
   "source": [
    "print(\"moonlighting genes:\")\n",
    "for i in range(N):\n",
    "    if len(np.where(W_max_2a_norm.T[i] >= 0.07)[0]) > 1:\n",
    "        print(i)"
   ]
  },
  {
   "cell_type": "markdown",
   "metadata": {},
   "source": [
    "Changing the number of modules doesn't alter the ability of my method to predict which are the moonlighting genes or the number of true modules."
   ]
  },
  {
   "cell_type": "markdown",
   "metadata": {},
   "source": [
    "# 3. Analyze the Adler data"
   ]
  },
  {
   "cell_type": "code",
   "execution_count": 41,
   "metadata": {
    "collapsed": false
   },
   "outputs": [],
   "source": [
    "Adler_df = pd.read_table(\"w10-data.tbl.txt\", delim_whitespace = True, header = None, index_col = 0)"
   ]
  },
  {
   "cell_type": "code",
   "execution_count": 42,
   "metadata": {
    "collapsed": false
   },
   "outputs": [],
   "source": [
    "V = np.array(Adler_df)"
   ]
  },
  {
   "cell_type": "code",
   "execution_count": 43,
   "metadata": {
    "collapsed": false
   },
   "outputs": [
    {
     "name": "stdout",
     "output_type": "stream",
     "text": [
      "38813520.027241014\n"
     ]
    }
   ],
   "source": [
    "llh_max_A, W_max_A, H_max_A = NMF_max(V, 3, 5)"
   ]
  },
  {
   "cell_type": "code",
   "execution_count": 44,
   "metadata": {
    "collapsed": false
   },
   "outputs": [
    {
     "name": "stdout",
     "output_type": "stream",
     "text": [
      "39263115.78311299\n"
     ]
    }
   ],
   "source": [
    "llh_max_A2, W_max_A2, H_max_A2 = NMF_max(V, 4, 5)"
   ]
  },
  {
   "cell_type": "code",
   "execution_count": 45,
   "metadata": {
    "collapsed": false
   },
   "outputs": [
    {
     "name": "stdout",
     "output_type": "stream",
     "text": [
      "39263165.91646238\n"
     ]
    }
   ],
   "source": [
    "llh_max_A3, W_max_A3, H_max_A3 = NMF_max(V, 5, 5)"
   ]
  },
  {
   "cell_type": "code",
   "execution_count": 46,
   "metadata": {
    "collapsed": false
   },
   "outputs": [
    {
     "name": "stdout",
     "output_type": "stream",
     "text": [
      "39263216.449240685\n"
     ]
    }
   ],
   "source": [
    "llh_max_A4, W_max_A4, H_max_A4 = NMF_max(V, 6, 5)"
   ]
  },
  {
   "cell_type": "code",
   "execution_count": 47,
   "metadata": {
    "collapsed": false,
    "scrolled": true
   },
   "outputs": [
    {
     "data": {
      "text/plain": [
       "[<matplotlib.lines.Line2D at 0x118710160>]"
      ]
     },
     "execution_count": 47,
     "metadata": {},
     "output_type": "execute_result"
    },
    {
     "data": {
      "image/png": "[encoded data removed]",
      "text/plain": [
       "<matplotlib.figure.Figure at 0x1186deda0>"
      ]
     },
     "metadata": {},
     "output_type": "display_data"
    }
   ],
   "source": [
    "#plot llh to choose which number of modules I should go forward with\n",
    "plt.plot([3, 4, 5, 6], [llh_max_A, llh_max_A2, llh_max_A3, llh_max_A4])"
   ]
  },
  {
   "cell_type": "markdown",
   "metadata": {},
   "source": [
    "It seems that there are 4 modules in the Adler data."
   ]
  },
  {
   "cell_type": "code",
   "execution_count": 50,
   "metadata": {
    "collapsed": false
   },
   "outputs": [],
   "source": [
    "#row normalize after choosing best number of modules\n",
    "#choose R\n",
    "R = 4\n",
    "N = V.shape[0]\n",
    "\n",
    "denom = W_max_A2.sum(1)\n",
    "W_max_A2_norm = np.zeros((R, N))\n",
    "for i, s in enumerate(W_max_A2.T):\n",
    "    W_max_A2_norm[i] = np.divide(s, denom)"
   ]
  },
  {
   "cell_type": "code",
   "execution_count": 51,
   "metadata": {
    "collapsed": false,
    "scrolled": true
   },
   "outputs": [
    {
     "data": {
      "text/plain": [
       "<matplotlib.axes._subplots.AxesSubplot at 0x118697550>"
      ]
     },
     "execution_count": 51,
     "metadata": {},
     "output_type": "execute_result"
    },
    {
     "data": {
      "image/png": "[encoded data removed]",
      "text/plain": [
       "<matplotlib.figure.Figure at 0x1186b65c0>"
      ]
     },
     "metadata": {},
     "output_type": "display_data"
    }
   ],
   "source": [
    "#plot W_max_A_norm\n",
    "sns.heatmap(W_max_A2_norm)"
   ]
  },
  {
   "cell_type": "markdown",
   "metadata": {},
   "source": [
    "Looks like there are three moonlighting genes between the gene indices 30 and 36. Hard to tell exactly what they are...let's figure it out quantitatively..."
   ]
  },
  {
   "cell_type": "code",
   "execution_count": 52,
   "metadata": {
    "collapsed": false,
    "scrolled": true
   },
   "outputs": [
    {
     "data": {
      "text/plain": [
       "(array([297.,   0.,   1.,   0.,   2.,   2.,   0.,   1.,   0.,  97.]),\n",
       " array([7.54117409e-30, 9.91783035e-02, 1.98356607e-01, 2.97534911e-01,\n",
       "        3.96713214e-01, 4.95891518e-01, 5.95069821e-01, 6.94248125e-01,\n",
       "        7.93426428e-01, 8.92604732e-01, 9.91783035e-01]),\n",
       " <a list of 10 Patch objects>)"
      ]
     },
     "execution_count": 52,
     "metadata": {},
     "output_type": "execute_result"
    },
    {
     "data": {
      "image/png": "[encoded data removed]",
      "text/plain": [
       "<matplotlib.figure.Figure at 0x1187ad198>"
      ]
     },
     "metadata": {},
     "output_type": "display_data"
    }
   ],
   "source": [
    "plt.hist(W_max_A2_norm.flatten())"
   ]
  },
  {
   "cell_type": "markdown",
   "metadata": {},
   "source": [
    "Checking to see if there is a threshold that I can set to identify moonlighting genes - looks like 0.1 is a good cutoff for this dataset. "
   ]
  },
  {
   "cell_type": "code",
   "execution_count": 53,
   "metadata": {
    "collapsed": false,
    "scrolled": true
   },
   "outputs": [
    {
     "name": "stdout",
     "output_type": "stream",
     "text": [
      "number of genes in each module\n",
      "20\n",
      "20\n",
      "20\n",
      "43\n"
     ]
    }
   ],
   "source": [
    "print(\"number of genes in each module\")\n",
    "for i in range(R):\n",
    "    print(len(np.where(W_max_A2_norm[i] >= 0.1)[0]))"
   ]
  },
  {
   "cell_type": "code",
   "execution_count": 54,
   "metadata": {
    "collapsed": false
   },
   "outputs": [],
   "source": [
    "Adler_df2 = pd.read_table(\"w10-data.tbl.txt\", delim_whitespace = True, header = None)"
   ]
  },
  {
   "cell_type": "code",
   "execution_count": 55,
   "metadata": {
    "collapsed": false,
    "scrolled": false
   },
   "outputs": [
    {
     "name": "stdout",
     "output_type": "stream",
     "text": [
      "moonlighting genes:\n",
      "30\n",
      "currant\n",
      "34\n",
      "fennel\n",
      "35\n",
      "fig\n"
     ]
    }
   ],
   "source": [
    "print(\"moonlighting genes:\")\n",
    "for i in range(N):\n",
    "    if len(np.where(W_max_A2_norm.T[i] >= 0.1)[0]) > 1:\n",
    "        print(i)\n",
    "        print(Adler_df2.iloc[i][0])"
   ]
  }
 ],
 "metadata": {
  "kernelspec": {
   "display_name": "Python [conda env:python3]",
   "language": "python",
   "name": "conda-env-python3-py"
  },
  "language_info": {
   "codemirror_mode": {
    "name": "ipython",
    "version": 3
   },
   "file_extension": ".py",
   "mimetype": "text/x-python",
   "name": "python",
   "nbconvert_exporter": "python",
   "pygments_lexer": "ipython3",
   "version": "3.5.2"
  }
 },
 "nbformat": 4,
 "nbformat_minor": 1
}
